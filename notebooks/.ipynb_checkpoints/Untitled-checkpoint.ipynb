{
 "cells": [
  {
   "cell_type": "code",
   "execution_count": 1,
   "metadata": {
    "collapsed": true
   },
   "outputs": [],
   "source": [
    "a=df(\"PhynDim\")"
   ]
  },
  {
   "cell_type": "code",
   "execution_count": 2,
   "metadata": {
    "collapsed": false
   },
   "outputs": [
    {
     "name": "stdout",
     "output_type": "stream",
     "text": [
      "phyn_gid:String           = 00000000000000672237\n",
      "phyn_fst_nm:String        = CHESTER\n",
      "phyn_mid_nm:String        = U\n",
      "phyn_last_nm:String       = KOKSENG\n",
      "phyn_sffx:String          = null\n",
      "phyn_gender:String        = M\n",
      "phyn_spcl_cde:String      = IM\n",
      "phyn_spcl_desc:String     = INTERNAL MEDICINE\n",
      "no_ctct_flag:String       = null\n",
      "pdrp_flag:String          = N\n",
      "phyn_dob:String           = 1949-01-01\n",
      "pdrp_flag_dt:Timestamp    = null\n",
      "phyn_npi:String           = 1821065343\n",
      "phyn_aoa:String           = null\n",
      "phyn_me_nbr:String        = 7481073031\n",
      "phyn_aapa:String          = null\n",
      "phyn_acnm:String          = null\n",
      "phyn_np:String            = null\n",
      "phyn_amah:String          = null\n",
      "phyn_dea_nbr:String       = null\n",
      "writer_type:String        = P\n",
      "phyn_addr:String          = 13000 BRUCE B DOWNS BLVD\n",
      "phyn_city:String          = TAMPA\n",
      "phyn_st:String            = FL\n",
      "phyn_zip_cde:String       = 33612\n",
      "mdm_id:String             = 2239183\n",
      "mdm_npi:String            = 1821065343\n",
      "mdm_me:String             = 7481073031\n",
      "mdm_prim_spcl_cde:String  = IM\n",
      "mdm_prim_spcl_desc:String = INTERNAL MEDICINE\n",
      "mdm_sec_spcl_cde:String   = PUD\n",
      "mdm_sec_spcl_desc:String  = PULMONARY DISEASE\n",
      "dt_mth:String             = null\n",
      "ld_tm:Timestamp           = 2017-03-25 21:50:35.2691\n"
     ]
    }
   ],
   "source": [
    "a.peek()"
   ]
  },
  {
   "cell_type": "code",
   "execution_count": 6,
   "metadata": {
    "collapsed": false
   },
   "outputs": [
    {
     "data": {
      "text/plain": [
       "<module 'magbc.tsdm.claims' from '/home/users/zhangb32/projects/Mag_BZ/src/main/python/magbc/tsdm/claims.py'>"
      ]
     },
     "execution_count": 6,
     "metadata": {},
     "output_type": "execute_result"
    }
   ],
   "source": [
    "from magbc.tsdm import claims\n",
    "reload(claims)"
   ]
  },
  {
   "cell_type": "code",
   "execution_count": 16,
   "metadata": {
    "collapsed": false
   },
   "outputs": [
    {
     "data": {
      "text/plain": [
       "<module 'magbc.tsdm.inputdata' from '/home/users/zhangb32/projects/Mag_BZ/src/main/python/magbc/tsdm/inputdata.py'>"
      ]
     },
     "execution_count": 16,
     "metadata": {},
     "output_type": "execute_result"
    }
   ],
   "source": [
    "from magbc.tsdm import inputdata\n",
    "reload(inputdata)"
   ]
  },
  {
   "cell_type": "code",
   "execution_count": 17,
   "metadata": {
    "collapsed": false
   },
   "outputs": [],
   "source": [
    "b=df(\"PtntPrimPhyn\")"
   ]
  },
  {
   "cell_type": "code",
   "execution_count": 18,
   "metadata": {
    "collapsed": true
   },
   "outputs": [
    {
     "name": "stdout",
     "output_type": "stream",
     "text": [
      "ptnt_gid:String                 = 00000000000140535054\n",
      "prim_phyn_gid:String            = 00000000000000391808\n",
      "prim_phyn_fst_nm:String         = CHARLES\n",
      "prim_phyn_mid_nm:String         = W\n",
      "prim_phyn_last_nm:String        = MONTGOMERY\n",
      "prim_phyn_gender:String         = M\n",
      "prim_phyn_dob:String            = 1949-01-01\n",
      "prim_phyn_addr:String           = 1205 HIGHWAY 182 W\n",
      "prim_phyn_city:String           = STARKVILLE\n",
      "prim_phyn_st:String             = MS\n",
      "prim_phyn_zip_cde:String        = 39759\n",
      "prim_mdm_id:String              = 11701\n",
      "prim_mdm_npi:String             = 1437156197\n",
      "prim_mdm_prim_spcl_cde:String   = ON\n",
      "prim_mdm_sec_spcl_cde:String    = IM\n",
      "lvl1_org_id:String              = INS00385229\n",
      "lvl1_org_nm:String              = NORTH MISSISSIPPI HEMATOLOGY AND ONCOLOGY\n",
      "lvl1_dba_nm:String              = null\n",
      "lvl1_physical_addr_1:String     = 961 S GLOSTER ST\n",
      "lvl1_physical_addr_2:String     = null\n",
      "lvl1_physical_city:String       = TUPELO\n",
      "lvl1_physical_state:String      = MS\n",
      "lvl1_physical_zip:String        = 38801-6343\n",
      "lvl1_cot_classification:String  = OUTPATIENT CENTER\n",
      "lvl1_cot_facility_type:String   = MEDICAL GROUP\n",
      "lvl1_cot_specialty:String       = ONCOLOGY\n",
      "lvl1_teaching_hosp:String       = null\n",
      "lvl1_resident_program:String    = null\n",
      "lvl1_hin:String                 = RPUIC3700GPHH\n",
      "lvl1_dea:String                 = null\n",
      "lvl1_formulary:String           = null\n",
      "lvl1_status_indicator:String    = A\n",
      "lvl1_flg_340b:String            = YES\n",
      "lvl1_soc_flg_340b:String        = 0\n",
      "lvl1_soc_final_cls:String       = Clinic_Contracted\n",
      "lvl1_soc_final_grp_desc:String  = B&BClinic\n",
      "lvl1_soc_final_grp_cd:String    = 2\n",
      "lvl1_soc_340b_strt_dt:Timestamp = null\n",
      "lvl1_soc_340b_end_dt:Timestamp  = null\n",
      "lvl2_org_id:String              = INS00385229\n",
      "lvl2_org_nm:String              = NORTH MISSISSIPPI HEMATOLOGY AND ONCOLOGY\n",
      "lvl2_dba_nm:String              = null\n",
      "lvl2_cot_classification:String  = OUTPATIENT CENTER\n",
      "lvl2_cot_facility_type:String   = MEDICAL GROUP\n",
      "lvl2_cot_specialty:String       = ONCOLOGY\n",
      "lvl2_dea:String                 = null\n",
      "lvl2_flg_340b:String            = YES\n",
      "lvl2_soc_flg_340b:String        = 0\n",
      "lvl2_soc_final_cls:String       = Clinic_Contracted\n",
      "lvl2_soc_final_grp_desc:String  = B&BClinic\n",
      "lvl2_soc_final_grp_cd:String    = 2\n",
      "lvl2_soc_340b_strt_dt:Timestamp = null\n",
      "lvl2_soc_340b_end_dt:Timestamp  = null\n",
      "lvl3_org_id:String              = INS00385229\n",
      "lvl3_org_nm:String              = NORTH MISSISSIPPI HEMATOLOGY AND ONCOLOGY\n",
      "lvl3_dba_nm:String              = null\n",
      "lvl3_cot_classification:String  = OUTPATIENT CENTER\n",
      "lvl3_cot_facility_type:String   = MEDICAL GROUP\n",
      "lvl3_cot_specialty:String       = ONCOLOGY\n",
      "lvl3_dea:String                 = null\n",
      "lvl3_flg_340b:String            = YES\n",
      "lvl3_soc_flg_340b:String        = 0\n",
      "lvl3_soc_final_cls:String       = Clinic_Contracted\n",
      "lvl3_soc_final_grp_desc:String  = B&BClinic\n",
      "lvl3_soc_final_grp_cd:String    = 2\n",
      "lvl3_soc_340b_strt_dt:Timestamp = null\n",
      "lvl3_soc_340b_end_dt:Timestamp  = null\n",
      "lvl4_org_id:String              = null\n",
      "lvl4_org_nm:String              = null\n",
      "lvl4_dba_nm:String              = null\n",
      "lvl4_cot_classification:String  = null\n",
      "lvl4_cot_facility_type:String   = null\n",
      "lvl4_cot_specialty:String       = null\n",
      "lvl4_dea:String                 = null\n",
      "lvl4_flg_340b:String            = null\n",
      "lvl4_soc_flg_340b:String        = null\n",
      "lvl4_soc_final_cls:String       = null\n",
      "lvl4_soc_final_grp_desc:String  = null\n",
      "lvl4_soc_final_grp_cd:String    = null\n",
      "lvl4_soc_340b_strt_dt:Timestamp = null\n",
      "lvl4_soc_340b_end_dt:Timestamp  = null\n"
     ]
    }
   ],
   "source": [
    "b.peek()"
   ]
  },
  {
   "cell_type": "code",
   "execution_count": 5,
   "metadata": {
    "collapsed": false
   },
   "outputs": [
    {
     "data": {
      "text/plain": [
       "<module 'lib.utils' from '/home/users/zhangb32/projects/Mag_BZ/src/main/python/lib/utils.py'>"
      ]
     },
     "execution_count": 5,
     "metadata": {},
     "output_type": "execute_result"
    }
   ],
   "source": [
    "from lib import utils\n",
    "reload(utils)"
   ]
  },
  {
   "cell_type": "code",
   "execution_count": 1,
   "metadata": {
    "collapsed": false
   },
   "outputs": [],
   "source": [
    "c=df(\"PtntPrim2\")"
   ]
  },
  {
   "cell_type": "code",
   "execution_count": 2,
   "metadata": {
    "collapsed": false
   },
   "outputs": [
    {
     "name": "stdout",
     "output_type": "stream",
     "text": [
      "ptnt_gid:String      = 00000000000369468793\n",
      "prim_phyn_gid:String = 00000000000020506255\n"
     ]
    }
   ],
   "source": [
    "c.peek()"
   ]
  },
  {
   "cell_type": "code",
   "execution_count": 3,
   "metadata": {
    "collapsed": false
   },
   "outputs": [
    {
     "data": {
      "text/plain": [
       "4416"
      ]
     },
     "execution_count": 3,
     "metadata": {},
     "output_type": "execute_result"
    }
   ],
   "source": [
    "c.count()"
   ]
  },
  {
   "cell_type": "code",
   "execution_count": null,
   "metadata": {
    "collapsed": true
   },
   "outputs": [],
   "source": []
  },
  {
   "cell_type": "code",
   "execution_count": null,
   "metadata": {
    "collapsed": true
   },
   "outputs": [],
   "source": []
  },
  {
   "cell_type": "code",
   "execution_count": 11,
   "metadata": {
    "collapsed": false
   },
   "outputs": [
    {
     "data": {
      "text/plain": [
       "4416"
      ]
     },
     "execution_count": 11,
     "metadata": {},
     "output_type": "execute_result"
    }
   ],
   "source": [
    "b.count()"
   ]
  },
  {
   "cell_type": "code",
   "execution_count": null,
   "metadata": {
    "collapsed": true
   },
   "outputs": [],
   "source": []
  },
  {
   "cell_type": "code",
   "execution_count": 1,
   "metadata": {
    "collapsed": false
   },
   "outputs": [],
   "source": [
    "a=df(\"Drugs\")"
   ]
  },
  {
   "cell_type": "code",
   "execution_count": 2,
   "metadata": {
    "collapsed": true
   },
   "outputs": [
    {
     "name": "stdout",
     "output_type": "stream",
     "text": [
      "drugName:String          = ADRUCIL\n",
      "genericName:String       = FLUOROURACIL\n",
      "bcStage:String           = METASTATIC\n",
      "jCode:Array(String,true) = WrappedArray(J9190)\n",
      "form:String              = IV\n"
     ]
    }
   ],
   "source": [
    "a.peek()"
   ]
  },
  {
   "cell_type": "code",
   "execution_count": 20,
   "metadata": {
    "collapsed": false
   },
   "outputs": [],
   "source": [
    "b=df(\"Procs\")"
   ]
  },
  {
   "cell_type": "code",
   "execution_count": 21,
   "metadata": {
    "collapsed": false
   },
   "outputs": [
    {
     "data": {
      "text/plain": [
       "114"
      ]
     },
     "execution_count": 21,
     "metadata": {},
     "output_type": "execute_result"
    }
   ],
   "source": [
    "b.count()"
   ]
  },
  {
   "cell_type": "code",
   "execution_count": 22,
   "metadata": {
    "collapsed": false
   },
   "outputs": [
    {
     "name": "stdout",
     "output_type": "stream",
     "text": [
      "procCode:String = G0462\n",
      "procType:String = null\n",
      "procDesc:String = IMMUNOHISTOCHEMISTRY OR IMMUNOCYTOCHEMISTRY, PER\n"
     ]
    }
   ],
   "source": [
    "b.peek(114)"
   ]
  },
  {
   "cell_type": "code",
   "execution_count": 2,
   "metadata": {
    "collapsed": false
   },
   "outputs": [],
   "source": [
    "c=df(\"AllProdts\")"
   ]
  },
  {
   "cell_type": "code",
   "execution_count": 3,
   "metadata": {
    "collapsed": false
   },
   "outputs": [
    {
     "name": "stdout",
     "output_type": "stream",
     "text": [
      "prodt:String    = 19081\n",
      "prodt_cd:String = Other\n",
      "procType:String = Biopsy\n"
     ]
    }
   ],
   "source": [
    "c.peek()"
   ]
  },
  {
   "cell_type": "code",
   "execution_count": 6,
   "metadata": {
    "collapsed": false
   },
   "outputs": [
    {
     "data": {
      "text/plain": [
       "1526"
      ]
     },
     "execution_count": 6,
     "metadata": {},
     "output_type": "execute_result"
    }
   ],
   "source": [
    "c.count()"
   ]
  },
  {
   "cell_type": "code",
   "execution_count": 9,
   "metadata": {
    "collapsed": false
   },
   "outputs": [
    {
     "name": "stdout",
     "output_type": "stream",
     "text": [
      "prodt:String    = 63323010351\n",
      "prodt_cd:String = PLATINOL\n",
      "procType:String = null\n"
     ]
    }
   ],
   "source": [
    "c.peek(500)"
   ]
  },
  {
   "cell_type": "code",
   "execution_count": 1,
   "metadata": {
    "collapsed": false
   },
   "outputs": [],
   "source": [
    "d=df(\"Diags\")"
   ]
  },
  {
   "cell_type": "code",
   "execution_count": 2,
   "metadata": {
    "collapsed": false
   },
   "outputs": [
    {
     "name": "stdout",
     "output_type": "stream",
     "text": [
      "diagCode:String = 174\n",
      "diagType:String = breast\n"
     ]
    }
   ],
   "source": [
    "d.peek()"
   ]
  },
  {
   "cell_type": "code",
   "execution_count": 3,
   "metadata": {
    "collapsed": false
   },
   "outputs": [
    {
     "name": "stdout",
     "output_type": "stream",
     "text": [
      "+--------+--------+\n",
      "|diagCode|diagType|\n",
      "+--------+--------+\n",
      "|     174|  breast|\n",
      "|   174.0|  breast|\n",
      "|   174.1|  breast|\n",
      "|   174.2|  breast|\n",
      "|   174.3|  breast|\n",
      "|   174.4|  breast|\n",
      "|   174.5|  breast|\n",
      "|   174.6|  breast|\n",
      "|   174.8|  breast|\n",
      "|   174.9|  breast|\n",
      "|   175.0|  breast|\n",
      "|   175.9|  breast|\n",
      "|   233.0|  breast|\n",
      "|   239.3|  breast|\n",
      "|   197.4|lung_met|\n",
      "|   197.1|lung_met|\n",
      "|   197.8|lung_met|\n",
      "|   197.5|lung_met|\n",
      "|   197.7|lung_met|\n",
      "|   197.3|lung_met|\n",
      "+--------+--------+\n",
      "only showing top 20 rows\n",
      "\n"
     ]
    }
   ],
   "source": [
    "d.show()"
   ]
  },
  {
   "cell_type": "code",
   "execution_count": 4,
   "metadata": {
    "collapsed": false
   },
   "outputs": [
    {
     "data": {
      "text/plain": [
       "341"
      ]
     },
     "execution_count": 4,
     "metadata": {},
     "output_type": "execute_result"
    }
   ],
   "source": [
    "d.count()"
   ]
  },
  {
   "cell_type": "code",
   "execution_count": 1,
   "metadata": {
    "collapsed": true
   },
   "outputs": [],
   "source": [
    "a=df('PtntProcFlgs')"
   ]
  },
  {
   "cell_type": "code",
   "execution_count": 2,
   "metadata": {
    "collapsed": false
   },
   "outputs": [
    {
     "name": "stdout",
     "output_type": "stream",
     "text": [
      "ptnt_gid:String              = 00000000000089494499\n",
      "first_dt_Surgery:Timestamp   = 2008-04-09 00:00:00.0\n",
      "first_dt_Test:Timestamp      = 2008-02-25 00:00:00.0\n",
      "first_dt_Screening:Timestamp = 2007-01-23 00:00:00.0\n",
      "last_dt_Surgery:Timestamp    = 2008-04-09 00:00:00.0\n",
      "last_dt_Test:Timestamp       = 2008-02-25 00:00:00.0\n",
      "last_dt_Screening:Timestamp  = 2014-05-12 00:00:00.0\n",
      "clm_count_Surgery:Long       = 1\n",
      "clm_count_Test:Long          = 1\n",
      "clm_count_Screening:Long     = 14\n"
     ]
    }
   ],
   "source": [
    "a.peek()"
   ]
  },
  {
   "cell_type": "code",
   "execution_count": 5,
   "metadata": {
    "collapsed": true
   },
   "outputs": [],
   "source": [
    "b=df('PtntDrugFlgs')"
   ]
  },
  {
   "cell_type": "code",
   "execution_count": 8,
   "metadata": {
    "collapsed": false
   },
   "outputs": [
    {
     "name": "stdout",
     "output_type": "stream",
     "text": [
      "ptnt_gid:String            = 00000000000337180426\n",
      "first_dt_CHEMO:Timestamp   = null\n",
      "first_dt_HORMONE:Timestamp = 2012-10-24 00:00:00.0\n",
      "first_dt_TARGET:Timestamp  = null\n",
      "last_dt_CHEMO:Timestamp    = null\n",
      "last_dt_HORMONE:Timestamp  = 2017-01-27 00:00:00.0\n",
      "last_dt_TARGET:Timestamp   = null\n",
      "clm_count_CHEMO:Long       = null\n",
      "clm_count_HORMONE:Long     = 46\n",
      "clm_count_TARGET:Long      = null\n"
     ]
    }
   ],
   "source": [
    "b.peek(4)"
   ]
  },
  {
   "cell_type": "code",
   "execution_count": null,
   "metadata": {
    "collapsed": false
   },
   "outputs": [],
   "source": [
    "ls()"
   ]
  },
  {
   "cell_type": "code",
   "execution_count": null,
   "metadata": {
    "collapsed": true
   },
   "outputs": [],
   "source": []
  }
 ],
 "metadata": {
  "kernelspec": {
   "display_name": "Python 2",
   "language": "python",
   "name": "python2"
  }
 },
 "nbformat": 4,
 "nbformat_minor": 2
}

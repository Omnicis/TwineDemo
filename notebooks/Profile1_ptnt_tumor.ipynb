{
 "cells": [
  {
   "cell_type": "code",
   "execution_count": 1,
   "metadata": {
    "collapsed": true
   },
   "outputs": [],
   "source": [
    "a=openHive(\"gidr_stg_p.clm_sha_stg_ptnt_tumor\")"
   ]
  },
  {
   "cell_type": "code",
   "execution_count": 2,
   "metadata": {
    "collapsed": false
   },
   "outputs": [
    {
     "name": "stdout",
     "output_type": "stream",
     "text": [
      "ptnt_gid:String   = 00000000000072114253\n",
      "tumor_type:String = OTHER\n",
      "mkt_nm:String     = AST\n",
      "ld_tm:Timestamp   = 2017-03-29 03:19:56.31073\n",
      "dt_mth:String     = 201701\n"
     ]
    }
   ],
   "source": [
    "a.peek()"
   ]
  },
  {
   "cell_type": "code",
   "execution_count": 4,
   "metadata": {
    "collapsed": false
   },
   "outputs": [
    {
     "name": "stdout",
     "output_type": "stream",
     "text": [
      "Histogram of tumor_type: String sort by Key\n",
      "key                      count      Pct    cumCount   cumPct\n",
      "BREAST                 4530146    2.03%     4530146    2.03%\n",
      "BRVO                    140442    0.06%     4670588    2.09%\n",
      "CARCINOID               133976    0.06%     4804564    2.15%\n",
      "CERVICAL                280266    0.13%     5084830    2.28%\n",
      "CLL                     513040    0.23%     5597870    2.50%\n",
      "CRC                    2010371    0.90%     7608241    3.40%\n",
      "CRVO                     97818    0.04%     7706059    3.45%\n",
      "GBM                     491140    0.22%     8197199    3.67%\n",
      "HEADNECK               2133093    0.95%    10330292    4.62%\n",
      "LUNG                   2337990    1.05%    12668282    5.67%\n",
      "MELANOMA               8939792    4.00%    21608074    9.67%\n",
      "NHL                    1337165    0.60%    22945239   10.27%\n",
      "OPH                    1012099    0.45%    23957338   10.72%\n",
      "OTHER                192163935   85.98%   216121273   96.70%\n",
      "OVARIAN                 495551    0.22%   216616824   96.93%\n",
      "PANC                    477129    0.21%   217093953   97.14%\n",
      "PROSTATE               3492049    1.56%   220586002   98.70%\n",
      "RENAL                   792664    0.35%   221378666   99.06%\n",
      "STOMACH                 581786    0.26%   221960452   99.32%\n",
      "URINARY                1028185    0.46%   222988637   99.78%\n",
      "WETAMD                  498011    0.22%   223486648  100.00%\n",
      "-------------------------------------------------\n"
     ]
    }
   ],
   "source": [
    "a.smvHist(\"tumor_type\")"
   ]
  },
  {
   "cell_type": "code",
   "execution_count": 5,
   "metadata": {
    "collapsed": false
   },
   "outputs": [
    {
     "name": "stdout",
     "output_type": "stream",
     "text": [
      "Histogram of mkt_nm: String sort by Key\n",
      "key                      count      Pct    cumCount   cumPct\n",
      "AST                  125222910   56.03%   125222910   56.03%\n",
      "CF                      254403    0.11%   125477313   56.15%\n",
      "HEP                    2037674    0.91%   127514987   57.06%\n",
      "IMM                    7982972    3.57%   135497959   60.63%\n",
      "IPF                     523085    0.23%   136021044   60.86%\n",
      "LUC                   17384589    7.78%   153405633   68.64%\n",
      "MS                     2439376    1.09%   155845009   69.73%\n",
      "ONC                   65892564   29.48%   221737573   99.22%\n",
      "VAL                    1749075    0.78%   223486648  100.00%\n",
      "-------------------------------------------------\n"
     ]
    }
   ],
   "source": [
    "a.smvHist(\"mkt_nm\")"
   ]
  },
  {
   "cell_type": "code",
   "execution_count": 6,
   "metadata": {
    "collapsed": false
   },
   "outputs": [
    {
     "name": "stdout",
     "output_type": "stream",
     "text": [
      "Histogram of mkt_nm: String sort by Key\n",
      "key                      count      Pct    cumCount   cumPct\n",
      "ONC                    4530146  100.00%     4530146  100.00%\n",
      "-------------------------------------------------\n"
     ]
    }
   ],
   "source": [
    "a.where(a.tumor_type == \"BREAST\").smvHist(\"mkt_nm\")"
   ]
  }
 ],
 "metadata": {
  "kernelspec": {
   "display_name": "Python 2",
   "language": "python",
   "name": "python2"
  },
  "language_info": {
   "codemirror_mode": {
    "name": "ipython",
    "version": 2
   },
   "file_extension": ".py",
   "mimetype": "text/x-python",
   "name": "python",
   "nbconvert_exporter": "python",
   "pygments_lexer": "ipython2",
   "version": "2.7.13"
  }
 },
 "nbformat": 4,
 "nbformat_minor": 2
}

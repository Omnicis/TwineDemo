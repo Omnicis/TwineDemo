{
 "cells": [
  {
   "cell_type": "code",
   "execution_count": 3,
   "metadata": {
    "collapsed": false
   },
   "outputs": [
    {
     "name": "stdout",
     "output_type": "stream",
     "text": [
      "\n",
      "magbc.etl:\n",
      "  (O) etl.claim.InscopeClaims\n",
      "  (M) etl.claim.TestToTreatment\n",
      "  (I) etl.inputdata.Claims\n",
      "  (I) etl.inputdata.ProductMaster\n",
      "\n",
      "magbc.agg:\n",
      "  (O) agg.byhsa.ZipHierMap\n",
      "  (I) agg.inputdata.PhynProfile\n",
      "  (I) agg.inputdata.ZipMaster\n",
      "  (M) agg.ptnt.PrimPhyn\n",
      "  (L) etl.claim.InscopeClaims\n",
      "\n",
      "magbc.pdda:\n",
      "  (L) agg.byhsa.ZipHierMap\n",
      "  (I) pdda.inputdata.KolMaster\n",
      "  (I) pdda.inputdata.PhysicianCompare\n",
      "  (O) pdda.pdda.PddaStatsGeoLevel\n",
      "\n",
      "magbc.phynmatch:\n",
      "  (I) phynmatch.inputdata.OpenPayment\n",
      "  (I) phynmatch.inputdata.PhysicianMaster\n",
      "  (M) phynmatch.physicianmatch.NppesPhysicians\n",
      "  (M) phynmatch.physicianmatch.OpenPaymentPhysicians\n",
      "  (M) phynmatch.physicianmatch.PhysicianMatch\n"
     ]
    }
   ],
   "source": [
    "ls()"
   ]
  },
  {
   "cell_type": "code",
   "execution_count": 8,
   "metadata": {
    "collapsed": false
   },
   "outputs": [],
   "source": [
    "matching = df(\"PhysicianMatch\")"
   ]
  },
  {
   "cell_type": "code",
   "execution_count": 9,
   "metadata": {
    "collapsed": true
   },
   "outputs": [],
   "source": [
    "claim  = df(\"InscopeClaims\")"
   ]
  },
  {
   "cell_type": "code",
   "execution_count": 10,
   "metadata": {
    "collapsed": false
   },
   "outputs": [
    {
     "name": "stdout",
     "output_type": "stream",
     "text": [
      "clm_gid:String             = 00001215750000299276\n",
      "dt:Timestamp               = 2015-03-06 00:00:00.0\n",
      "svc_ln_seq:Integer         = 4\n",
      "ptnt_gid:String            = 00000000000078098586\n",
      "prodt:String               = J9267\n",
      "loc_cde:Integer            = 4\n",
      "diagArr:Array(String,true) = WrappedArray(174.4, 174.9, 250.00, V58.11, null, null, null, null, null, null, null, null)\n",
      "phyn_key:String            = 00000000000018462371\n",
      "phyn_gid:String            = 00000000000011827080\n",
      "clm_typ:String             = PX_DX\n",
      "clm_sts:String             = null\n",
      "day_sply:Integer           = null\n",
      "drg_id:String              = null\n",
      "adj_svc_unit_nbr:Integer   = 125\n",
      "prodt_strgth:String        = null\n",
      "qty:Decimal(38,7)          = null\n",
      "dt_mth:String              = 201703\n",
      "prodt_cd:String            = TAXOL\n",
      "targetType:String          = Drug\n",
      "procType:String            = null\n",
      "procSubType:String         = null\n",
      "drugType:String            = CHEMO\n"
     ]
    }
   ],
   "source": [
    "claim.peek()"
   ]
  },
  {
   "cell_type": "code",
   "execution_count": 11,
   "metadata": {
    "collapsed": false
   },
   "outputs": [
    {
     "name": "stdout",
     "output_type": "stream",
     "text": [
      "Physician_Profile_ID:String                = 1025916\n",
      "NPI:String                                 = 1275520900\n",
      "AddressId_FullName_Match:Boolean           = true\n",
      "AddressId_FuzzyFullName_Match:Boolean      = null\n",
      "FullName_Zip_Match:Boolean                 = null\n",
      "AddressId_FuzzyFullName_Match_Value:String = null\n",
      "MatchBitmap:String                         = 100\n"
     ]
    }
   ],
   "source": [
    "matching.peek()"
   ]
  },
  {
   "cell_type": "code",
   "execution_count": 90,
   "metadata": {
    "collapsed": false
   },
   "outputs": [
    {
     "name": "stderr",
     "output_type": "stream",
     "text": [
      "Traceback (most recent call last):\n",
      "  File \"/home/cchen/SMV/src/main/python/smv/stacktrace_mixin.py\", line 20, in catch_errs\n",
      "    res = func_needing_stacktrace(*pargs, **kwargs)\n",
      "  File \"/home/cchen/SMV/src/main/python/smv/datasetrepo.py\", line 69, in dataSetsForStage\n",
      "    return self._moduleUrnsForStage(stageName, lambda obj: obj.IsSmvDataSet)\n",
      "  File \"/home/cchen/SMV/src/main/python/smv/datasetrepo.py\", line 91, in _moduleUrnsForStage\n",
      "    pymod = __import__(name)\n",
      "  File \"/home/cchen/TwineDemo/src/main/python/magbc/etl/claim.py\", line 4, in <module>\n",
      "    from magbc.core import targetDrugList\n",
      "ImportError: cannot import name targetDrugList\n"
     ]
    },
    {
     "ename": "Py4JJavaError",
     "evalue": "An error occurred while calling o31.runModuleByName.\n: py4j.Py4JException: An exception was raised by the Python Proxy. Return Message: x\n\tat py4j.Protocol.getReturnValue(Protocol.java:438)\n\tat py4j.reflection.PythonProxyHandler.invoke(PythonProxyHandler.java:105)\n\tat com.sun.proxy.$Proxy17.dataSetsForStage(Unknown Source)\n\tat org.tresamigos.smv.DataSetRepoPython.urnsForStage(DataSetRepo.scala:57)\n\tat org.tresamigos.smv.TX$$anonfun$urnsForStage$1$$anonfun$apply$1.apply(Transaction.scala:36)\n\tat org.tresamigos.smv.TX$$anonfun$urnsForStage$1$$anonfun$apply$1.apply(Transaction.scala:36)\n\tat scala.collection.TraversableLike$$anonfun$flatMap$1.apply(TraversableLike.scala:241)\n\tat scala.collection.TraversableLike$$anonfun$flatMap$1.apply(TraversableLike.scala:241)\n\tat scala.collection.IndexedSeqOptimized$class.foreach(IndexedSeqOptimized.scala:33)\n\tat scala.collection.mutable.WrappedArray.foreach(WrappedArray.scala:35)\n\tat scala.collection.TraversableLike$class.flatMap(TraversableLike.scala:241)\n\tat scala.collection.AbstractTraversable.flatMap(Traversable.scala:104)\n\tat org.tresamigos.smv.TX$$anonfun$urnsForStage$1.apply(Transaction.scala:36)\n\tat org.tresamigos.smv.TX$$anonfun$urnsForStage$1.apply(Transaction.scala:36)\n\tat scala.collection.TraversableLike$$anonfun$flatMap$1.apply(TraversableLike.scala:241)\n\tat scala.collection.TraversableLike$$anonfun$flatMap$1.apply(TraversableLike.scala:241)\n\tat scala.collection.immutable.List.foreach(List.scala:381)\n\tat scala.collection.TraversableLike$class.flatMap(TraversableLike.scala:241)\n\tat scala.collection.immutable.List.flatMap(List.scala:344)\n\tat org.tresamigos.smv.TX.urnsForStage(Transaction.scala:36)\n\tat org.tresamigos.smv.TX.allUrns(Transaction.scala:39)\n\tat org.tresamigos.smv.TX.inferUrn(Transaction.scala:64)\n\tat org.tresamigos.smv.TX.inferDS(Transaction.scala:58)\n\tat org.tresamigos.smv.DataSetMgr$$anonfun$inferDS$1.apply(DataSetMgr.scala:73)\n\tat org.tresamigos.smv.DataSetMgr$$anonfun$inferDS$1.apply(DataSetMgr.scala:73)\n\tat org.tresamigos.smv.DataSetMgr.withTX(DataSetMgr.scala:43)\n\tat org.tresamigos.smv.DataSetMgr.inferDS(DataSetMgr.scala:73)\n\tat org.tresamigos.smv.SmvApp.runModuleByName(SmvApp.scala:335)\n\tat sun.reflect.GeneratedMethodAccessor134.invoke(Unknown Source)\n\tat sun.reflect.DelegatingMethodAccessorImpl.invoke(DelegatingMethodAccessorImpl.java:43)\n\tat java.lang.reflect.Method.invoke(Method.java:498)\n\tat py4j.reflection.MethodInvoker.invoke(MethodInvoker.java:244)\n\tat py4j.reflection.ReflectionEngine.invoke(ReflectionEngine.java:357)\n\tat py4j.Gateway.invoke(Gateway.java:280)\n\tat py4j.commands.AbstractCommand.invokeMethod(AbstractCommand.java:132)\n\tat py4j.commands.CallCommand.execute(CallCommand.java:79)\n\tat py4j.GatewayConnection.run(GatewayConnection.java:214)\n\tat java.lang.Thread.run(Thread.java:745)\n",
     "output_type": "error",
     "traceback": [
      "\u001b[0;31m---------------------------------------------------------------------------\u001b[0m",
      "\u001b[0;31mPy4JJavaError\u001b[0m                             Traceback (most recent call last)",
      "\u001b[0;32m<ipython-input-90-6933619e5b94>\u001b[0m in \u001b[0;36m<module>\u001b[0;34m()\u001b[0m\n\u001b[0;32m----> 1\u001b[0;31m \u001b[0mphy\u001b[0m \u001b[0;34m=\u001b[0m \u001b[0mdf\u001b[0m\u001b[0;34m(\u001b[0m\u001b[0;34m\"PrimPhyn\"\u001b[0m\u001b[0;34m)\u001b[0m\u001b[0;34m\u001b[0m\u001b[0m\n\u001b[0m",
      "\u001b[0;32m/home/cchen/SMV/src/main/python/smv/smvshell.py\u001b[0m in \u001b[0;36mdf\u001b[0;34m(name, forceRun, version)\u001b[0m\n\u001b[1;32m     36\u001b[0m             \u001b[0;34m(\u001b[0m\u001b[0mDataFrame\u001b[0m\u001b[0;34m)\u001b[0m\u001b[0;34m:\u001b[0m \u001b[0mThe\u001b[0m \u001b[0mresult\u001b[0m \u001b[0mof\u001b[0m \u001b[0mrunning\u001b[0m \u001b[0mthe\u001b[0m \u001b[0mnamed\u001b[0m \u001b[0mmodule\u001b[0m\u001b[0;34m.\u001b[0m\u001b[0;34m\u001b[0m\u001b[0m\n\u001b[1;32m     37\u001b[0m     \"\"\"\n\u001b[0;32m---> 38\u001b[0;31m     \u001b[0;32mreturn\u001b[0m \u001b[0mSmvApp\u001b[0m\u001b[0;34m.\u001b[0m\u001b[0mgetInstance\u001b[0m\u001b[0;34m(\u001b[0m\u001b[0;34m)\u001b[0m\u001b[0;34m.\u001b[0m\u001b[0mrunModuleByName\u001b[0m\u001b[0;34m(\u001b[0m\u001b[0mname\u001b[0m\u001b[0;34m,\u001b[0m \u001b[0mforceRun\u001b[0m\u001b[0;34m,\u001b[0m \u001b[0mversion\u001b[0m\u001b[0;34m)\u001b[0m\u001b[0;34m\u001b[0m\u001b[0m\n\u001b[0m\u001b[1;32m     39\u001b[0m \u001b[0;34m\u001b[0m\u001b[0m\n\u001b[1;32m     40\u001b[0m \u001b[0;32mdef\u001b[0m \u001b[0mopenHive\u001b[0m\u001b[0;34m(\u001b[0m\u001b[0mtableName\u001b[0m\u001b[0;34m)\u001b[0m\u001b[0;34m:\u001b[0m\u001b[0;34m\u001b[0m\u001b[0m\n",
      "\u001b[0;32m/home/cchen/SMV/src/main/python/smv/smvapp.py\u001b[0m in \u001b[0;36mrunModuleByName\u001b[0;34m(self, name, forceRun, version)\u001b[0m\n\u001b[1;32m    159\u001b[0m \u001b[0;34m\u001b[0m\u001b[0m\n\u001b[1;32m    160\u001b[0m     \u001b[0;32mdef\u001b[0m \u001b[0mrunModuleByName\u001b[0m\u001b[0;34m(\u001b[0m\u001b[0mself\u001b[0m\u001b[0;34m,\u001b[0m \u001b[0mname\u001b[0m\u001b[0;34m,\u001b[0m \u001b[0mforceRun\u001b[0m \u001b[0;34m=\u001b[0m \u001b[0mFalse\u001b[0m\u001b[0;34m,\u001b[0m \u001b[0mversion\u001b[0m \u001b[0;34m=\u001b[0m \u001b[0mNone\u001b[0m\u001b[0;34m)\u001b[0m\u001b[0;34m:\u001b[0m\u001b[0;34m\u001b[0m\u001b[0m\n\u001b[0;32m--> 161\u001b[0;31m         \u001b[0mjdf\u001b[0m \u001b[0;34m=\u001b[0m \u001b[0mself\u001b[0m\u001b[0;34m.\u001b[0m\u001b[0mj_smvApp\u001b[0m\u001b[0;34m.\u001b[0m\u001b[0mrunModuleByName\u001b[0m\u001b[0;34m(\u001b[0m\u001b[0mname\u001b[0m\u001b[0;34m,\u001b[0m \u001b[0mforceRun\u001b[0m\u001b[0;34m,\u001b[0m \u001b[0mself\u001b[0m\u001b[0;34m.\u001b[0m\u001b[0mscalaOption\u001b[0m\u001b[0;34m(\u001b[0m\u001b[0mversion\u001b[0m\u001b[0;34m)\u001b[0m\u001b[0;34m)\u001b[0m\u001b[0;34m\u001b[0m\u001b[0m\n\u001b[0m\u001b[1;32m    162\u001b[0m         \u001b[0;32mreturn\u001b[0m \u001b[0mDataFrame\u001b[0m\u001b[0;34m(\u001b[0m\u001b[0mjdf\u001b[0m\u001b[0;34m,\u001b[0m \u001b[0mself\u001b[0m\u001b[0;34m.\u001b[0m\u001b[0msqlContext\u001b[0m\u001b[0;34m)\u001b[0m\u001b[0;34m\u001b[0m\u001b[0m\n\u001b[1;32m    163\u001b[0m \u001b[0;34m\u001b[0m\u001b[0m\n",
      "\u001b[0;32m/home/cchen/spark/spark-2.1.1-bin-hadoop2.7/python/lib/py4j-0.10.4-src.zip/py4j/java_gateway.py\u001b[0m in \u001b[0;36m__call__\u001b[0;34m(self, *args)\u001b[0m\n\u001b[1;32m   1131\u001b[0m         \u001b[0manswer\u001b[0m \u001b[0;34m=\u001b[0m \u001b[0mself\u001b[0m\u001b[0;34m.\u001b[0m\u001b[0mgateway_client\u001b[0m\u001b[0;34m.\u001b[0m\u001b[0msend_command\u001b[0m\u001b[0;34m(\u001b[0m\u001b[0mcommand\u001b[0m\u001b[0;34m)\u001b[0m\u001b[0;34m\u001b[0m\u001b[0m\n\u001b[1;32m   1132\u001b[0m         return_value = get_return_value(\n\u001b[0;32m-> 1133\u001b[0;31m             answer, self.gateway_client, self.target_id, self.name)\n\u001b[0m\u001b[1;32m   1134\u001b[0m \u001b[0;34m\u001b[0m\u001b[0m\n\u001b[1;32m   1135\u001b[0m         \u001b[0;32mfor\u001b[0m \u001b[0mtemp_arg\u001b[0m \u001b[0;32min\u001b[0m \u001b[0mtemp_args\u001b[0m\u001b[0;34m:\u001b[0m\u001b[0;34m\u001b[0m\u001b[0m\n",
      "\u001b[0;32m/home/cchen/spark/spark-2.1.1-bin-hadoop2.7/python/pyspark/sql/utils.pyc\u001b[0m in \u001b[0;36mdeco\u001b[0;34m(*a, **kw)\u001b[0m\n\u001b[1;32m     61\u001b[0m     \u001b[0;32mdef\u001b[0m \u001b[0mdeco\u001b[0m\u001b[0;34m(\u001b[0m\u001b[0;34m*\u001b[0m\u001b[0ma\u001b[0m\u001b[0;34m,\u001b[0m \u001b[0;34m**\u001b[0m\u001b[0mkw\u001b[0m\u001b[0;34m)\u001b[0m\u001b[0;34m:\u001b[0m\u001b[0;34m\u001b[0m\u001b[0m\n\u001b[1;32m     62\u001b[0m         \u001b[0;32mtry\u001b[0m\u001b[0;34m:\u001b[0m\u001b[0;34m\u001b[0m\u001b[0m\n\u001b[0;32m---> 63\u001b[0;31m             \u001b[0;32mreturn\u001b[0m \u001b[0mf\u001b[0m\u001b[0;34m(\u001b[0m\u001b[0;34m*\u001b[0m\u001b[0ma\u001b[0m\u001b[0;34m,\u001b[0m \u001b[0;34m**\u001b[0m\u001b[0mkw\u001b[0m\u001b[0;34m)\u001b[0m\u001b[0;34m\u001b[0m\u001b[0m\n\u001b[0m\u001b[1;32m     64\u001b[0m         \u001b[0;32mexcept\u001b[0m \u001b[0mpy4j\u001b[0m\u001b[0;34m.\u001b[0m\u001b[0mprotocol\u001b[0m\u001b[0;34m.\u001b[0m\u001b[0mPy4JJavaError\u001b[0m \u001b[0;32mas\u001b[0m \u001b[0me\u001b[0m\u001b[0;34m:\u001b[0m\u001b[0;34m\u001b[0m\u001b[0m\n\u001b[1;32m     65\u001b[0m             \u001b[0ms\u001b[0m \u001b[0;34m=\u001b[0m \u001b[0me\u001b[0m\u001b[0;34m.\u001b[0m\u001b[0mjava_exception\u001b[0m\u001b[0;34m.\u001b[0m\u001b[0mtoString\u001b[0m\u001b[0;34m(\u001b[0m\u001b[0;34m)\u001b[0m\u001b[0;34m\u001b[0m\u001b[0m\n",
      "\u001b[0;32m/home/cchen/spark/spark-2.1.1-bin-hadoop2.7/python/lib/py4j-0.10.4-src.zip/py4j/protocol.py\u001b[0m in \u001b[0;36mget_return_value\u001b[0;34m(answer, gateway_client, target_id, name)\u001b[0m\n\u001b[1;32m    317\u001b[0m                 raise Py4JJavaError(\n\u001b[1;32m    318\u001b[0m                     \u001b[0;34m\"An error occurred while calling {0}{1}{2}.\\n\"\u001b[0m\u001b[0;34m.\u001b[0m\u001b[0;34m\u001b[0m\u001b[0m\n\u001b[0;32m--> 319\u001b[0;31m                     format(target_id, \".\", name), value)\n\u001b[0m\u001b[1;32m    320\u001b[0m             \u001b[0;32melse\u001b[0m\u001b[0;34m:\u001b[0m\u001b[0;34m\u001b[0m\u001b[0m\n\u001b[1;32m    321\u001b[0m                 raise Py4JError(\n",
      "\u001b[0;31mPy4JJavaError\u001b[0m: An error occurred while calling o31.runModuleByName.\n: py4j.Py4JException: An exception was raised by the Python Proxy. Return Message: x\n\tat py4j.Protocol.getReturnValue(Protocol.java:438)\n\tat py4j.reflection.PythonProxyHandler.invoke(PythonProxyHandler.java:105)\n\tat com.sun.proxy.$Proxy17.dataSetsForStage(Unknown Source)\n\tat org.tresamigos.smv.DataSetRepoPython.urnsForStage(DataSetRepo.scala:57)\n\tat org.tresamigos.smv.TX$$anonfun$urnsForStage$1$$anonfun$apply$1.apply(Transaction.scala:36)\n\tat org.tresamigos.smv.TX$$anonfun$urnsForStage$1$$anonfun$apply$1.apply(Transaction.scala:36)\n\tat scala.collection.TraversableLike$$anonfun$flatMap$1.apply(TraversableLike.scala:241)\n\tat scala.collection.TraversableLike$$anonfun$flatMap$1.apply(TraversableLike.scala:241)\n\tat scala.collection.IndexedSeqOptimized$class.foreach(IndexedSeqOptimized.scala:33)\n\tat scala.collection.mutable.WrappedArray.foreach(WrappedArray.scala:35)\n\tat scala.collection.TraversableLike$class.flatMap(TraversableLike.scala:241)\n\tat scala.collection.AbstractTraversable.flatMap(Traversable.scala:104)\n\tat org.tresamigos.smv.TX$$anonfun$urnsForStage$1.apply(Transaction.scala:36)\n\tat org.tresamigos.smv.TX$$anonfun$urnsForStage$1.apply(Transaction.scala:36)\n\tat scala.collection.TraversableLike$$anonfun$flatMap$1.apply(TraversableLike.scala:241)\n\tat scala.collection.TraversableLike$$anonfun$flatMap$1.apply(TraversableLike.scala:241)\n\tat scala.collection.immutable.List.foreach(List.scala:381)\n\tat scala.collection.TraversableLike$class.flatMap(TraversableLike.scala:241)\n\tat scala.collection.immutable.List.flatMap(List.scala:344)\n\tat org.tresamigos.smv.TX.urnsForStage(Transaction.scala:36)\n\tat org.tresamigos.smv.TX.allUrns(Transaction.scala:39)\n\tat org.tresamigos.smv.TX.inferUrn(Transaction.scala:64)\n\tat org.tresamigos.smv.TX.inferDS(Transaction.scala:58)\n\tat org.tresamigos.smv.DataSetMgr$$anonfun$inferDS$1.apply(DataSetMgr.scala:73)\n\tat org.tresamigos.smv.DataSetMgr$$anonfun$inferDS$1.apply(DataSetMgr.scala:73)\n\tat org.tresamigos.smv.DataSetMgr.withTX(DataSetMgr.scala:43)\n\tat org.tresamigos.smv.DataSetMgr.inferDS(DataSetMgr.scala:73)\n\tat org.tresamigos.smv.SmvApp.runModuleByName(SmvApp.scala:335)\n\tat sun.reflect.GeneratedMethodAccessor134.invoke(Unknown Source)\n\tat sun.reflect.DelegatingMethodAccessorImpl.invoke(DelegatingMethodAccessorImpl.java:43)\n\tat java.lang.reflect.Method.invoke(Method.java:498)\n\tat py4j.reflection.MethodInvoker.invoke(MethodInvoker.java:244)\n\tat py4j.reflection.ReflectionEngine.invoke(ReflectionEngine.java:357)\n\tat py4j.Gateway.invoke(Gateway.java:280)\n\tat py4j.commands.AbstractCommand.invokeMethod(AbstractCommand.java:132)\n\tat py4j.commands.CallCommand.execute(CallCommand.java:79)\n\tat py4j.GatewayConnection.run(GatewayConnection.java:214)\n\tat java.lang.Thread.run(Thread.java:745)\n"
     ]
    }
   ],
   "source": [
    "phy = df(\"PrimPhyn\")"
   ]
  },
  {
   "cell_type": "code",
   "execution_count": null,
   "metadata": {
    "collapsed": false
   },
   "outputs": [],
   "source": [
    "phy.peek()"
   ]
  },
  {
   "cell_type": "code",
   "execution_count": 60,
   "metadata": {
    "collapsed": false
   },
   "outputs": [],
   "source": [
    "stas = df(\"PhysicianLevelStats\")"
   ]
  },
  {
   "cell_type": "code",
   "execution_count": 62,
   "metadata": {
    "collapsed": false
   },
   "outputs": [
    {
     "name": "stdout",
     "output_type": "stream",
     "text": [
      "+--------------------+-----------------+-------------------------------+-----------------------------+-----------------------------+----------------------------+\n",
      "|       prim_phyn_gid|prim_phyn_zip_cde|NumberOfPrescriptions_HERCEPTIN|NumberOfPrescriptions_KADCYLA|NumberOfPrescriptions_PERJETA|NumberOfPrescriptions_TYKERB|\n",
      "+--------------------+-----------------+-------------------------------+-----------------------------+-----------------------------+----------------------------+\n",
      "|00000000000000691331|            10065|                             25|                         null|                         null|                        null|\n",
      "|00000000000000261361|            11215|                             18|                         null|                         null|                        null|\n",
      "|00000000000002150737|            37920|                             29|                         null|                            4|                        null|\n",
      "|00000000000000379812|            11042|                             50|                           21|                         null|                        null|\n",
      "|00000000000002526670|            97401|                             24|                         null|                         null|                        null|\n",
      "|00000000000001611507|            10065|                             17|                         null|                           17|                        null|\n",
      "|00000000000020522444|            76104|                             18|                         null|                         null|                        null|\n",
      "|00000000000000243123|            01915|                             26|                         null|                         null|                        null|\n",
      "|00000000000000355116|            19104|                             18|                         null|                           18|                        null|\n",
      "|00000000000001695406|            98104|                              9|                         null|                         null|                        null|\n",
      "|00000000000017151656|            85206|                             16|                         null|                         null|                        null|\n",
      "|00000000000000304335|            24641|                             11|                         null|                         null|                        null|\n",
      "|00000000000002028150|            89148|                             24|                         null|                         null|                        null|\n",
      "|00000000000029772912|            43701|                             11|                         null|                            6|                        null|\n",
      "|00000000000000829226|            54935|                             16|                         null|                         null|                        null|\n",
      "|00000000000001635377|            10065|                             11|                         null|                         null|                        null|\n",
      "|00000000000012082948|            68901|                              9|                         null|                         null|                        null|\n",
      "|00000000000001685785|            54303|                             16|                         null|                         null|                          16|\n",
      "|00000000000000453662|            98104|                             19|                         null|                         null|                        null|\n",
      "|00000000000000519417|            19008|                             26|                         null|                         null|                        null|\n",
      "+--------------------+-----------------+-------------------------------+-----------------------------+-----------------------------+----------------------------+\n",
      "only showing top 20 rows\n",
      "\n"
     ]
    }
   ],
   "source": [
    "stas.show()"
   ]
  },
  {
   "cell_type": "code",
   "execution_count": 64,
   "metadata": {
    "collapsed": false
   },
   "outputs": [],
   "source": [
    "op = df(\"OpenPaymentPhynStats\")"
   ]
  },
  {
   "cell_type": "code",
   "execution_count": 65,
   "metadata": {
    "collapsed": false
   },
   "outputs": [
    {
     "name": "stdout",
     "output_type": "stream",
     "text": [
      "Change_Type:String                                                       = NEW\n",
      "Covered_Recipient_Type:String                                            = Covered Recipient Physician\n",
      "Teaching_Hospital_CCN:String                                             = null\n",
      "Teaching_Hospital_ID:String                                              = null\n",
      "Teaching_Hospital_Name:String                                            = null\n",
      "Physician_Profile_ID:String                                              = 63313\n",
      "Physician_First_Name:String                                              = JOHN\n",
      "Physician_Middle_Name:String                                             = J\n",
      "Physician_Last_Name:String                                               = RYAN\n",
      "Physician_Name_Suffix:String                                             = null\n",
      "Recipient_Primary_Business_Street_Address_Line1:String                   = 260 US HIGHWAY 181 N\n",
      "Recipient_Primary_Business_Street_Address_Line2:String                   = null\n",
      "Recipient_City:String                                                    = FLORESVILLE\n",
      "Recipient_State:String                                                   = TX\n",
      "Recipient_Zip_Code:String                                                = 78114\n",
      "Recipient_Country:String                                                 = United States\n",
      "Recipient_Province:String                                                = null\n",
      "Recipient_Postal_Code:String                                             = null\n",
      "Physician_Primary_Type:String                                            = Medical Doctor\n",
      "Physician_Specialty:String                                               = Allopathic & Osteopathic Physicians|Family Medicine\n",
      "Physician_License_State_code1:String                                     = TX\n",
      "Physician_License_State_code2:String                                     = null\n",
      "Physician_License_State_code3:String                                     = null\n",
      "Physician_License_State_code4:String                                     = null\n",
      "Physician_License_State_code5:String                                     = null\n",
      "Submitting_Applicable_Manufacturer_or_Applicable_GPO_Name:String         = Novo Nordisk Inc\n",
      "Applicable_Manufacturer_or_Applicable_GPO_Making_Payment_ID:String       = 100000000144\n",
      "Applicable_Manufacturer_or_Applicable_GPO_Making_Payment_Name:String     = Novo Nordisk Inc\n",
      "Applicable_Manufacturer_or_Applicable_GPO_Making_Payment_State:String    = NJ\n",
      "Applicable_Manufacturer_or_Applicable_GPO_Making_Payment_Country:String  = United States\n",
      "Total_Amount_of_Payment_USDollars:Double                                 = 3.2\n",
      "Date_of_Payment:String                                                   = 08/20/2015\n",
      "Number_of_Payments_Included_in_Total_Amount:Integer                      = 1\n",
      "Form_of_Payment_or_Transfer_of_Value:String                              = In-kind items and services\n",
      "Nature_of_Payment_or_Transfer_of_Value:String                            = Food and Beverage\n",
      "City_of_Travel:String                                                    = null\n",
      "State_of_Travel:String                                                   = null\n",
      "Country_of_Travel:String                                                 = null\n",
      "Physician_Ownership_Indicator:String                                     = No\n",
      "Third_Party_Payment_Recipient_Indicator:String                           = No Third Party Payment\n",
      "Name_of_Third_Party_Entity_Receiving_Payment_or_Transfer_of_Value:String = null\n",
      "Charity_Indicator:String                                                 = No\n",
      "Third_Party_Equals_Covered_Recipient_Indicator:String                    = null\n",
      "Contextual_Information:String                                            = null\n",
      "Delay_in_Publication_Indicator:String                                    = No\n",
      "Record_ID:String                                                         = 269978328\n",
      "Dispute_Status_for_Publication:String                                    = No\n",
      "Product_Indicator:String                                                 = Covered\n",
      "Name_of_Associated_Covered_Drug_or_Biological1:String                    = Levemir\n",
      "Name_of_Associated_Covered_Drug_or_Biological2:String                    = Victoza\n",
      "Name_of_Associated_Covered_Drug_or_Biological3:String                    = null\n",
      "Name_of_Associated_Covered_Drug_or_Biological4:String                    = null\n",
      "Name_of_Associated_Covered_Drug_or_Biological5:String                    = null\n",
      "NDC_of_Associated_Covered_Drug_or_Biological1:String                     = 0169-6439-90\n",
      "NDC_of_Associated_Covered_Drug_or_Biological2:String                     = 0169-4060-90\n",
      "NDC_of_Associated_Covered_Drug_or_Biological3:String                     = null\n",
      "NDC_of_Associated_Covered_Drug_or_Biological4:String                     = null\n",
      "NDC_of_Associated_Covered_Drug_or_Biological5:String                     = null\n",
      "Name_of_Associated_Covered_Device_or_Medical_Supply1:String              = null\n",
      "Name_of_Associated_Covered_Device_or_Medical_Supply2:String              = null\n",
      "Name_of_Associated_Covered_Device_or_Medical_Supply3:String              = null\n",
      "Name_of_Associated_Covered_Device_or_Medical_Supply4:String              = null\n",
      "Name_of_Associated_Covered_Device_or_Medical_Supply5:String              = null\n",
      "Program_Year:Integer                                                     = 2015\n",
      "Payment_Publication_Date:String                                          = 06/30/2016\n"
     ]
    }
   ],
   "source": [
    "op.peek()"
   ]
  },
  {
   "cell_type": "code",
   "execution_count": 68,
   "metadata": {
    "collapsed": false
   },
   "outputs": [],
   "source": [
    "opSample = op.sample(False, 0.1, 34).cache()"
   ]
  },
  {
   "cell_type": "code",
   "execution_count": 70,
   "metadata": {
    "collapsed": true
   },
   "outputs": [],
   "source": [
    "targetDrugList = [\"HERCEPTIN\", \"KADCYLA\", \"PERJETA\", \"TYKERB\"]"
   ]
  },
  {
   "cell_type": "code",
   "execution_count": 69,
   "metadata": {
    "collapsed": false
   },
   "outputs": [
    {
     "data": {
      "text/plain": [
       "1113790"
      ]
     },
     "execution_count": 69,
     "metadata": {},
     "output_type": "execute_result"
    }
   ],
   "source": [
    "opSample.count()"
   ]
  },
  {
   "cell_type": "code",
   "execution_count": 80,
   "metadata": {
    "collapsed": false
   },
   "outputs": [],
   "source": [
    "test = opSample.withColumn(\"drug\", \n",
    "            upper(col(\"Name_of_Associated_Covered_Drug_or_Biological1\"))\n",
    "            ).filter(\n",
    "            upper(col(\"drug\")).isin(targetDrugList)\n",
    "            ).groupBy(\"Physician_Profile_ID\"\n",
    "            ).pivot(\"drug\"\n",
    "            ).agg(sum(\"Total_Amount_of_Payment_USDollars\")\n",
    "            ).smvRenameField(*[(x, \"Total_Amount_of_Payment_\" + x) for x in targetDrugList])\n",
    "\n"
   ]
  },
  {
   "cell_type": "code",
   "execution_count": 83,
   "metadata": {
    "collapsed": false
   },
   "outputs": [
    {
     "data": {
      "text/html": [
       "<div>\n",
       "<table border=\"1\" class=\"dataframe\">\n",
       "  <thead>\n",
       "    <tr style=\"text-align: right;\">\n",
       "      <th></th>\n",
       "      <th>Physician_Profile_ID</th>\n",
       "      <th>Total_Amount_of_Payment_HERCEPTIN</th>\n",
       "      <th>Total_Amount_of_Payment_KADCYLA</th>\n",
       "      <th>Total_Amount_of_Payment_PERJETA</th>\n",
       "      <th>Total_Amount_of_Payment_TYKERB</th>\n",
       "    </tr>\n",
       "  </thead>\n",
       "  <tbody>\n",
       "    <tr>\n",
       "      <th>0</th>\n",
       "      <td>291446</td>\n",
       "      <td>NaN</td>\n",
       "      <td>NaN</td>\n",
       "      <td>21.70</td>\n",
       "      <td>NaN</td>\n",
       "    </tr>\n",
       "    <tr>\n",
       "      <th>1</th>\n",
       "      <td>155302</td>\n",
       "      <td>NaN</td>\n",
       "      <td>3885.00</td>\n",
       "      <td>NaN</td>\n",
       "      <td>NaN</td>\n",
       "    </tr>\n",
       "    <tr>\n",
       "      <th>2</th>\n",
       "      <td>19132</td>\n",
       "      <td>5.22</td>\n",
       "      <td>NaN</td>\n",
       "      <td>NaN</td>\n",
       "      <td>NaN</td>\n",
       "    </tr>\n",
       "    <tr>\n",
       "      <th>3</th>\n",
       "      <td>243265</td>\n",
       "      <td>NaN</td>\n",
       "      <td>11.72</td>\n",
       "      <td>12.77</td>\n",
       "      <td>NaN</td>\n",
       "    </tr>\n",
       "    <tr>\n",
       "      <th>4</th>\n",
       "      <td>162685</td>\n",
       "      <td>NaN</td>\n",
       "      <td>NaN</td>\n",
       "      <td>11.12</td>\n",
       "      <td>NaN</td>\n",
       "    </tr>\n",
       "  </tbody>\n",
       "</table>\n",
       "</div>"
      ],
      "text/plain": [
       "  Physician_Profile_ID  Total_Amount_of_Payment_HERCEPTIN  \\\n",
       "0               291446                                NaN   \n",
       "1               155302                                NaN   \n",
       "2                19132                               5.22   \n",
       "3               243265                                NaN   \n",
       "4               162685                                NaN   \n",
       "\n",
       "   Total_Amount_of_Payment_KADCYLA  Total_Amount_of_Payment_PERJETA  \\\n",
       "0                              NaN                            21.70   \n",
       "1                          3885.00                              NaN   \n",
       "2                              NaN                              NaN   \n",
       "3                            11.72                            12.77   \n",
       "4                              NaN                            11.12   \n",
       "\n",
       "   Total_Amount_of_Payment_TYKERB  \n",
       "0                             NaN  \n",
       "1                             NaN  \n",
       "2                             NaN  \n",
       "3                             NaN  \n",
       "4                             NaN  "
      ]
     },
     "execution_count": 83,
     "metadata": {},
     "output_type": "execute_result"
    }
   ],
   "source": [
    "test.toPandas().head()"
   ]
  },
  {
   "cell_type": "code",
   "execution_count": null,
   "metadata": {
    "collapsed": true
   },
   "outputs": [],
   "source": []
  },
  {
   "cell_type": "code",
   "execution_count": null,
   "metadata": {
    "collapsed": true
   },
   "outputs": [],
   "source": []
  },
  {
   "cell_type": "code",
   "execution_count": null,
   "metadata": {
    "collapsed": true
   },
   "outputs": [],
   "source": []
  },
  {
   "cell_type": "code",
   "execution_count": null,
   "metadata": {
    "collapsed": true
   },
   "outputs": [],
   "source": []
  },
  {
   "cell_type": "code",
   "execution_count": 89,
   "metadata": {
    "collapsed": false
   },
   "outputs": [
    {
     "name": "stdout",
     "output_type": "stream",
     "text": [
      "+-----------------+\n",
      "|             corr|\n",
      "+-----------------+\n",
      "|-0.00150166911964|\n",
      "|-0.00150166911964|\n",
      "|-0.00150166911964|\n",
      "|-0.00150166911964|\n",
      "|-0.00150166911964|\n",
      "|-0.00150166911964|\n",
      "|-0.00150166911964|\n",
      "|-0.00150166911964|\n",
      "|-0.00150166911964|\n",
      "|-0.00150166911964|\n",
      "|-0.00150166911964|\n",
      "|-0.00150166911964|\n",
      "|-0.00150166911964|\n",
      "|-0.00150166911964|\n",
      "|-0.00150166911964|\n",
      "|-0.00150166911964|\n",
      "|-0.00150166911964|\n",
      "|-0.00150166911964|\n",
      "|-0.00150166911964|\n",
      "|-0.00150166911964|\n",
      "+-----------------+\n",
      "only showing top 20 rows\n",
      "\n"
     ]
    }
   ],
   "source": [
    "test.select(lit(test.corr(\"Total_Amount_of_Payment_HERCEPTIN\", \"Total_Amount_of_Payment_KADCYLA\")).alias(\"corr\")).show()"
   ]
  },
  {
   "cell_type": "code",
   "execution_count": null,
   "metadata": {
    "collapsed": true
   },
   "outputs": [],
   "source": []
  },
  {
   "cell_type": "code",
   "execution_count": null,
   "metadata": {
    "collapsed": true
   },
   "outputs": [],
   "source": []
  },
  {
   "cell_type": "code",
   "execution_count": null,
   "metadata": {
    "collapsed": true
   },
   "outputs": [],
   "source": []
  },
  {
   "cell_type": "code",
   "execution_count": null,
   "metadata": {
    "collapsed": true
   },
   "outputs": [],
   "source": []
  },
  {
   "cell_type": "code",
   "execution_count": null,
   "metadata": {
    "collapsed": true
   },
   "outputs": [],
   "source": []
  },
  {
   "cell_type": "code",
   "execution_count": null,
   "metadata": {
    "collapsed": true
   },
   "outputs": [],
   "source": []
  },
  {
   "cell_type": "code",
   "execution_count": null,
   "metadata": {
    "collapsed": true
   },
   "outputs": [],
   "source": []
  },
  {
   "cell_type": "code",
   "execution_count": null,
   "metadata": {
    "collapsed": true
   },
   "outputs": [],
   "source": []
  },
  {
   "cell_type": "code",
   "execution_count": null,
   "metadata": {
    "collapsed": true
   },
   "outputs": [],
   "source": []
  },
  {
   "cell_type": "code",
   "execution_count": null,
   "metadata": {
    "collapsed": true
   },
   "outputs": [],
   "source": []
  },
  {
   "cell_type": "code",
   "execution_count": null,
   "metadata": {
    "collapsed": true
   },
   "outputs": [],
   "source": []
  },
  {
   "cell_type": "code",
   "execution_count": null,
   "metadata": {
    "collapsed": true
   },
   "outputs": [],
   "source": []
  },
  {
   "cell_type": "code",
   "execution_count": null,
   "metadata": {
    "collapsed": true
   },
   "outputs": [],
   "source": []
  },
  {
   "cell_type": "code",
   "execution_count": null,
   "metadata": {
    "collapsed": true
   },
   "outputs": [],
   "source": []
  },
  {
   "cell_type": "code",
   "execution_count": null,
   "metadata": {
    "collapsed": true
   },
   "outputs": [],
   "source": []
  },
  {
   "cell_type": "code",
   "execution_count": null,
   "metadata": {
    "collapsed": true
   },
   "outputs": [],
   "source": []
  },
  {
   "cell_type": "code",
   "execution_count": null,
   "metadata": {
    "collapsed": true
   },
   "outputs": [],
   "source": []
  },
  {
   "cell_type": "code",
   "execution_count": null,
   "metadata": {
    "collapsed": true
   },
   "outputs": [],
   "source": []
  },
  {
   "cell_type": "code",
   "execution_count": null,
   "metadata": {
    "collapsed": true
   },
   "outputs": [],
   "source": []
  },
  {
   "cell_type": "code",
   "execution_count": null,
   "metadata": {
    "collapsed": true
   },
   "outputs": [],
   "source": []
  },
  {
   "cell_type": "code",
   "execution_count": null,
   "metadata": {
    "collapsed": true
   },
   "outputs": [],
   "source": []
  },
  {
   "cell_type": "code",
   "execution_count": null,
   "metadata": {
    "collapsed": true
   },
   "outputs": [],
   "source": []
  },
  {
   "cell_type": "code",
   "execution_count": null,
   "metadata": {
    "collapsed": true
   },
   "outputs": [],
   "source": []
  },
  {
   "cell_type": "code",
   "execution_count": null,
   "metadata": {
    "collapsed": true
   },
   "outputs": [],
   "source": []
  },
  {
   "cell_type": "code",
   "execution_count": null,
   "metadata": {
    "collapsed": true
   },
   "outputs": [],
   "source": []
  },
  {
   "cell_type": "code",
   "execution_count": null,
   "metadata": {
    "collapsed": true
   },
   "outputs": [],
   "source": []
  },
  {
   "cell_type": "code",
   "execution_count": null,
   "metadata": {
    "collapsed": true
   },
   "outputs": [],
   "source": []
  },
  {
   "cell_type": "code",
   "execution_count": null,
   "metadata": {
    "collapsed": true
   },
   "outputs": [],
   "source": []
  },
  {
   "cell_type": "code",
   "execution_count": null,
   "metadata": {
    "collapsed": true
   },
   "outputs": [],
   "source": []
  },
  {
   "cell_type": "code",
   "execution_count": null,
   "metadata": {
    "collapsed": true
   },
   "outputs": [],
   "source": []
  },
  {
   "cell_type": "code",
   "execution_count": null,
   "metadata": {
    "collapsed": true
   },
   "outputs": [],
   "source": []
  },
  {
   "cell_type": "code",
   "execution_count": null,
   "metadata": {
    "collapsed": true
   },
   "outputs": [],
   "source": []
  },
  {
   "cell_type": "code",
   "execution_count": null,
   "metadata": {
    "collapsed": true
   },
   "outputs": [],
   "source": []
  },
  {
   "cell_type": "code",
   "execution_count": null,
   "metadata": {
    "collapsed": true
   },
   "outputs": [],
   "source": []
  },
  {
   "cell_type": "code",
   "execution_count": null,
   "metadata": {
    "collapsed": true
   },
   "outputs": [],
   "source": []
  },
  {
   "cell_type": "code",
   "execution_count": null,
   "metadata": {
    "collapsed": true
   },
   "outputs": [],
   "source": []
  },
  {
   "cell_type": "code",
   "execution_count": null,
   "metadata": {
    "collapsed": true
   },
   "outputs": [],
   "source": []
  },
  {
   "cell_type": "code",
   "execution_count": null,
   "metadata": {
    "collapsed": true
   },
   "outputs": [],
   "source": []
  },
  {
   "cell_type": "code",
   "execution_count": null,
   "metadata": {
    "collapsed": true
   },
   "outputs": [],
   "source": []
  },
  {
   "cell_type": "code",
   "execution_count": null,
   "metadata": {
    "collapsed": true
   },
   "outputs": [],
   "source": []
  },
  {
   "cell_type": "code",
   "execution_count": null,
   "metadata": {
    "collapsed": true
   },
   "outputs": [],
   "source": []
  },
  {
   "cell_type": "code",
   "execution_count": null,
   "metadata": {
    "collapsed": true
   },
   "outputs": [],
   "source": []
  },
  {
   "cell_type": "code",
   "execution_count": null,
   "metadata": {
    "collapsed": true
   },
   "outputs": [],
   "source": []
  },
  {
   "cell_type": "code",
   "execution_count": null,
   "metadata": {
    "collapsed": true
   },
   "outputs": [],
   "source": []
  },
  {
   "cell_type": "code",
   "execution_count": null,
   "metadata": {
    "collapsed": true
   },
   "outputs": [],
   "source": []
  },
  {
   "cell_type": "code",
   "execution_count": null,
   "metadata": {
    "collapsed": true
   },
   "outputs": [],
   "source": []
  },
  {
   "cell_type": "code",
   "execution_count": null,
   "metadata": {
    "collapsed": true
   },
   "outputs": [],
   "source": []
  },
  {
   "cell_type": "code",
   "execution_count": null,
   "metadata": {
    "collapsed": true
   },
   "outputs": [],
   "source": []
  },
  {
   "cell_type": "code",
   "execution_count": null,
   "metadata": {
    "collapsed": true
   },
   "outputs": [],
   "source": []
  },
  {
   "cell_type": "code",
   "execution_count": null,
   "metadata": {
    "collapsed": true
   },
   "outputs": [],
   "source": []
  },
  {
   "cell_type": "code",
   "execution_count": null,
   "metadata": {
    "collapsed": true
   },
   "outputs": [],
   "source": []
  },
  {
   "cell_type": "code",
   "execution_count": null,
   "metadata": {
    "collapsed": true
   },
   "outputs": [],
   "source": []
  },
  {
   "cell_type": "code",
   "execution_count": null,
   "metadata": {
    "collapsed": true
   },
   "outputs": [],
   "source": []
  },
  {
   "cell_type": "code",
   "execution_count": null,
   "metadata": {
    "collapsed": true
   },
   "outputs": [],
   "source": []
  }
 ],
 "metadata": {
  "kernelspec": {
   "display_name": "Python 2",
   "language": "python",
   "name": "python2"
  },
  "language_info": {
   "codemirror_mode": {
    "name": "ipython",
    "version": 2
   },
   "file_extension": ".py",
   "mimetype": "text/x-python",
   "name": "python",
   "nbconvert_exporter": "python",
   "pygments_lexer": "ipython2",
   "version": "2.7.6"
  }
 },
 "nbformat": 4,
 "nbformat_minor": 1
}

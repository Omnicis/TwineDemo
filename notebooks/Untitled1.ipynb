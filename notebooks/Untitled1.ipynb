{
 "cells": [
  {
   "cell_type": "code",
   "execution_count": 4,
   "metadata": {
    "collapsed": false
   },
   "outputs": [
    {
     "name": "stdout",
     "output_type": "stream",
     "text": [
      "\n",
      "magbc.claim:\n",
      "  (O) claim.etl.InscopeClaims\n",
      "  (O) claim.etl.PhysicianLevelStats\n",
      "  (M) claim.etl.PrimPhyn\n",
      "  (I) claim.inputdata.Claims\n",
      "  (I) claim.inputdata.ProductMaster\n",
      "\n",
      "magbc.pd:\n",
      "  (I) pd.inputdata.OpenPayment\n",
      "  (O) pd.openpayment.OpenPaymentPhynStats\n",
      "\n",
      "magbc.matcher:\n",
      "  (I) matcher.inputdata.OpenPayment\n",
      "  (I) matcher.inputdata.PhysicianMaster\n",
      "  (M) matcher.physicianmatch.NppesPhysicians\n",
      "  (M) matcher.physicianmatch.OpenPaymentPhysicians\n",
      "  (O) matcher.physicianmatch.PhysicianMatch\n",
      "\n",
      "magbc.phys:\n",
      "  (L) claim.etl.PhysicianLevelStats\n",
      "  (L) matcher.physicianmatch.PhysicianMatch\n",
      "  (L) pd.openpayment.OpenPaymentPhynStats\n",
      "  (I) phys.inputdata.PhynProfile\n",
      "  (O) phys.physician.AllPhynStats\n",
      "\n",
      "magbc.geo:\n",
      "  (O) geo.geoagg.AllStatsGeoLevel\n",
      "  (M) geo.geoagg.ZipHierMap\n",
      "  (I) geo.inputdata.ZipMaster\n",
      "  (L) phys.physician.AllPhynStats\n"
     ]
    }
   ],
   "source": [
    "ls()"
   ]
  },
  {
   "cell_type": "code",
   "execution_count": null,
   "metadata": {
    "collapsed": false
   },
   "outputs": [],
   "source": [
    "matching = df(\"PhysicianMatch\")"
   ]
  },
  {
   "cell_type": "code",
   "execution_count": null,
   "metadata": {
    "collapsed": false
   },
   "outputs": [],
   "source": [
    "matching.peek()"
   ]
  },
  {
   "cell_type": "code",
   "execution_count": 15,
   "metadata": {
    "collapsed": false
   },
   "outputs": [],
   "source": [
    "stas = df(\"PhysicianLevelStats\")"
   ]
  },
  {
   "cell_type": "code",
   "execution_count": 16,
   "metadata": {
    "collapsed": false
   },
   "outputs": [
    {
     "name": "stdout",
     "output_type": "stream",
     "text": [
      "prim_phyn_gid:String                 = 00000000000000729633\n",
      "NumberOfPrescriptions_HERCEPTIN:Long = 26\n",
      "NumberOfPrescriptions_KADCYLA:Long   = null\n",
      "NumberOfPrescriptions_PERJETA:Long   = null\n",
      "NumberOfPrescriptions_TYKERB:Long    = null\n"
     ]
    }
   ],
   "source": [
    "stas.peek()"
   ]
  },
  {
   "cell_type": "code",
   "execution_count": 17,
   "metadata": {
    "collapsed": false
   },
   "outputs": [
    {
     "data": {
      "text/plain": [
       "141"
      ]
     },
     "execution_count": 17,
     "metadata": {},
     "output_type": "execute_result"
    }
   ],
   "source": [
    "stas.count()"
   ]
  },
  {
   "cell_type": "code",
   "execution_count": 7,
   "metadata": {
    "collapsed": false
   },
   "outputs": [],
   "source": [
    "op = df(\"OpenPaymentPhynStats\")"
   ]
  },
  {
   "cell_type": "code",
   "execution_count": 8,
   "metadata": {
    "collapsed": false
   },
   "outputs": [
    {
     "name": "stdout",
     "output_type": "stream",
     "text": [
      "Physician_Profile_ID:String              = 335183\n",
      "Total_Amount_of_Payment_HERCEPTIN:Double = null\n",
      "Total_Amount_of_Payment_KADCYLA:Double   = null\n",
      "Total_Amount_of_Payment_PERJETA:Double   = 125.0\n",
      "Total_Amount_of_Payment_TYKERB:Double    = null\n"
     ]
    }
   ],
   "source": [
    "op.peek()"
   ]
  },
  {
   "cell_type": "code",
   "execution_count": 7,
   "metadata": {
    "collapsed": false
   },
   "outputs": [],
   "source": [
    "phys = df(\"AllPhynStats\")"
   ]
  },
  {
   "cell_type": "code",
   "execution_count": 12,
   "metadata": {
    "collapsed": false
   },
   "outputs": [
    {
     "name": "stdout",
     "output_type": "stream",
     "text": [
      "prim_phyn_gid:String                     = 00000000000000423315\n",
      "NumberOfPrescriptions_HERCEPTIN:Long     = 3\n",
      "NumberOfPrescriptions_KADCYLA:Long       = null\n",
      "NumberOfPrescriptions_PERJETA:Long       = null\n",
      "NumberOfPrescriptions_TYKERB:Long        = null\n",
      "NPI:String                               = 1043291768\n",
      "phyn_fst_nm:String                       = ANDREW\n",
      "phyn_mid_nm:String                       = J\n",
      "phyn_last_nm:String                      = SOLAN\n",
      "phyn_gender:String                       = M\n",
      "phyn_addr:String                         = 12 MEADOW VIEW LN\n",
      "phyn_city:String                         = MALVERN\n",
      "phyn_st:String                           = PA\n",
      "phyn_zip_cde:String                      = 19355\n",
      "mdm_prim_specialty_code:String           = ON\n",
      "Physician_Profile_ID:String              = null\n",
      "Total_Amount_of_Payment_HERCEPTIN:Double = null\n",
      "Total_Amount_of_Payment_KADCYLA:Double   = null\n",
      "Total_Amount_of_Payment_PERJETA:Double   = null\n",
      "Total_Amount_of_Payment_TYKERB:Double    = null\n"
     ]
    }
   ],
   "source": [
    "phys.peek()"
   ]
  },
  {
   "cell_type": "code",
   "execution_count": 20,
   "metadata": {
    "collapsed": false
   },
   "outputs": [],
   "source": [
    "agg = df(\"AllStatsGeoLevel\")"
   ]
  },
  {
   "cell_type": "code",
   "execution_count": 22,
   "metadata": {
    "collapsed": false
   },
   "outputs": [
    {
     "name": "stdout",
     "output_type": "stream",
     "text": [
      "+--------+---------+----------------+--------------------+-------------------------------+-----------------------------+-----------------------------+----------------------------+---------------------------------+-------------------------------+-------------------------------+------------------------------+\n",
      "|geo_type|geo_value|        geo_name|Number_of_Physicians|NumberOfPrescriptions_HERCEPTIN|NumberOfPrescriptions_KADCYLA|NumberOfPrescriptions_PERJETA|NumberOfPrescriptions_TYKERB|Total_Amount_of_Payment_HERCEPTIN|Total_Amount_of_Payment_KADCYLA|Total_Amount_of_Payment_PERJETA|Total_Amount_of_Payment_TYKERB|\n",
      "+--------+---------+----------------+--------------------+-------------------------------+-----------------------------+-----------------------------+----------------------------+---------------------------------+-------------------------------+-------------------------------+------------------------------+\n",
      "|     hsa|     5063|   Encinitas, CA|                   1|                              1|                         null|                         null|                        null|                             null|                           null|                           null|                          null|\n",
      "|     hsa|    25039|     Jackson, MS|                   1|                              3|                         null|                         null|                        null|                             null|                           null|                           null|                          null|\n",
      "|     hsa|    42046| Spartanburg, SC|                   1|                             10|                         null|                            6|                        null|                             null|                           null|                         314.75|                          null|\n",
      "|     hsa|    45095|  Fort Worth, TX|                   1|                             18|                         null|                         null|                        null|                             null|                           null|                           null|                          null|\n",
      "|     hrr|      328|   Cleveland, OH|                   2|                             34|                         null|                         null|                        null|                             null|                           null|                           null|                          null|\n",
      "|     hrr|      326|      Canton, OH|                   1|                             81|                            5|                         null|                        null|                             null|                           null|                           null|                          null|\n",
      "|     hsa|     5126| Los Angeles, CA|                   1|                             14|                         null|                         null|                        null|                             null|                           null|                           null|                          null|\n",
      "|     hrr|      155| Blue Island, IL|                   2|                             58|                         null|                         null|                        null|                             null|                           null|                          45.01|                          null|\n",
      "|     hsa|    12001|        Hilo, HI|                   1|                             21|                         null|                         null|                        null|                             null|                           null|                          30.02|                          null|\n",
      "|     hrr|      251| Minneapolis, MN|                   1|                             17|                         null|                            6|                        null|                             null|                           null|                           null|                          null|\n",
      "|     hrr|      223|   Baltimore, MD|                   2|                             35|                         null|                         null|                        null|                             null|                           null|                          21.82|                          null|\n",
      "|     hsa|    11009|     Austell, GA|                   1|                             31|                         null|                         null|                        null|                             null|                           null|                           null|                          null|\n",
      "|     hsa|    33104|Poughkeepsie, NY|                   1|                              4|                         null|                            4|                        null|                             null|                           null|                           null|                          null|\n",
      "|     hrr|      312|      Durham, NC|                   1|                              3|                         null|                         null|                        null|                             null|                           null|                           null|                          null|\n",
      "|     hsa|     3022|     Phoenix, AZ|                   2|                             64|                            4|                         null|                           7|                             null|                           null|                           null|                          null|\n",
      "|     hsa|    19007| Baton Rouge, LA|                   1|                             26|                         null|                         null|                        null|                             null|                           null|                           null|                          null|\n",
      "|     hrr|       56| Los Angeles, CA|                   1|                             14|                         null|                         null|                        null|                             null|                           null|                           null|                          null|\n",
      "|     hrr|      141|       Tampa, FL|                   1|                             17|                         null|                         null|                        null|                             null|                           null|                           null|                          null|\n",
      "|     hrr|      173|      Urbana, IL|                   1|                             23|                         null|                         null|                        null|                             null|                           null|                           null|                          null|\n",
      "|     hrr|      243|    Petoskey, MI|                   1|                              2|                         null|                         null|                        null|                             null|                           null|                           null|                          null|\n",
      "+--------+---------+----------------+--------------------+-------------------------------+-----------------------------+-----------------------------+----------------------------+---------------------------------+-------------------------------+-------------------------------+------------------------------+\n",
      "only showing top 20 rows\n",
      "\n"
     ]
    }
   ],
   "source": [
    "agg.show()"
   ]
  },
  {
   "cell_type": "code",
   "execution_count": null,
   "metadata": {
    "collapsed": true
   },
   "outputs": [],
   "source": []
  },
  {
   "cell_type": "code",
   "execution_count": null,
   "metadata": {
    "collapsed": true
   },
   "outputs": [],
   "source": []
  },
  {
   "cell_type": "code",
   "execution_count": null,
   "metadata": {
    "collapsed": true
   },
   "outputs": [],
   "source": []
  },
  {
   "cell_type": "code",
   "execution_count": null,
   "metadata": {
    "collapsed": true
   },
   "outputs": [],
   "source": []
  },
  {
   "cell_type": "code",
   "execution_count": null,
   "metadata": {
    "collapsed": true
   },
   "outputs": [],
   "source": []
  },
  {
   "cell_type": "code",
   "execution_count": null,
   "metadata": {
    "collapsed": true
   },
   "outputs": [],
   "source": []
  },
  {
   "cell_type": "code",
   "execution_count": null,
   "metadata": {
    "collapsed": true
   },
   "outputs": [],
   "source": []
  },
  {
   "cell_type": "code",
   "execution_count": null,
   "metadata": {
    "collapsed": true
   },
   "outputs": [],
   "source": []
  },
  {
   "cell_type": "code",
   "execution_count": null,
   "metadata": {
    "collapsed": true
   },
   "outputs": [],
   "source": []
  },
  {
   "cell_type": "code",
   "execution_count": null,
   "metadata": {
    "collapsed": true
   },
   "outputs": [],
   "source": []
  },
  {
   "cell_type": "code",
   "execution_count": null,
   "metadata": {
    "collapsed": true
   },
   "outputs": [],
   "source": []
  },
  {
   "cell_type": "code",
   "execution_count": null,
   "metadata": {
    "collapsed": true
   },
   "outputs": [],
   "source": []
  },
  {
   "cell_type": "code",
   "execution_count": null,
   "metadata": {
    "collapsed": true
   },
   "outputs": [],
   "source": []
  },
  {
   "cell_type": "code",
   "execution_count": null,
   "metadata": {
    "collapsed": true
   },
   "outputs": [],
   "source": []
  },
  {
   "cell_type": "code",
   "execution_count": null,
   "metadata": {
    "collapsed": true
   },
   "outputs": [],
   "source": []
  },
  {
   "cell_type": "code",
   "execution_count": null,
   "metadata": {
    "collapsed": true
   },
   "outputs": [],
   "source": []
  },
  {
   "cell_type": "code",
   "execution_count": null,
   "metadata": {
    "collapsed": true
   },
   "outputs": [],
   "source": []
  },
  {
   "cell_type": "code",
   "execution_count": null,
   "metadata": {
    "collapsed": true
   },
   "outputs": [],
   "source": []
  },
  {
   "cell_type": "code",
   "execution_count": null,
   "metadata": {
    "collapsed": true
   },
   "outputs": [],
   "source": []
  },
  {
   "cell_type": "code",
   "execution_count": null,
   "metadata": {
    "collapsed": true
   },
   "outputs": [],
   "source": []
  },
  {
   "cell_type": "code",
   "execution_count": null,
   "metadata": {
    "collapsed": true
   },
   "outputs": [],
   "source": []
  },
  {
   "cell_type": "code",
   "execution_count": null,
   "metadata": {
    "collapsed": true
   },
   "outputs": [],
   "source": []
  },
  {
   "cell_type": "code",
   "execution_count": null,
   "metadata": {
    "collapsed": true
   },
   "outputs": [],
   "source": []
  },
  {
   "cell_type": "code",
   "execution_count": null,
   "metadata": {
    "collapsed": true
   },
   "outputs": [],
   "source": []
  },
  {
   "cell_type": "code",
   "execution_count": null,
   "metadata": {
    "collapsed": true
   },
   "outputs": [],
   "source": []
  },
  {
   "cell_type": "code",
   "execution_count": null,
   "metadata": {
    "collapsed": true
   },
   "outputs": [],
   "source": []
  },
  {
   "cell_type": "code",
   "execution_count": null,
   "metadata": {
    "collapsed": true
   },
   "outputs": [],
   "source": []
  },
  {
   "cell_type": "code",
   "execution_count": null,
   "metadata": {
    "collapsed": true
   },
   "outputs": [],
   "source": []
  },
  {
   "cell_type": "code",
   "execution_count": null,
   "metadata": {
    "collapsed": true
   },
   "outputs": [],
   "source": []
  },
  {
   "cell_type": "code",
   "execution_count": null,
   "metadata": {
    "collapsed": true
   },
   "outputs": [],
   "source": []
  },
  {
   "cell_type": "code",
   "execution_count": null,
   "metadata": {
    "collapsed": true
   },
   "outputs": [],
   "source": []
  },
  {
   "cell_type": "code",
   "execution_count": null,
   "metadata": {
    "collapsed": true
   },
   "outputs": [],
   "source": []
  },
  {
   "cell_type": "code",
   "execution_count": null,
   "metadata": {
    "collapsed": true
   },
   "outputs": [],
   "source": []
  },
  {
   "cell_type": "code",
   "execution_count": null,
   "metadata": {
    "collapsed": true
   },
   "outputs": [],
   "source": []
  },
  {
   "cell_type": "code",
   "execution_count": null,
   "metadata": {
    "collapsed": true
   },
   "outputs": [],
   "source": []
  },
  {
   "cell_type": "code",
   "execution_count": null,
   "metadata": {
    "collapsed": true
   },
   "outputs": [],
   "source": []
  },
  {
   "cell_type": "code",
   "execution_count": null,
   "metadata": {
    "collapsed": true
   },
   "outputs": [],
   "source": []
  },
  {
   "cell_type": "code",
   "execution_count": null,
   "metadata": {
    "collapsed": true
   },
   "outputs": [],
   "source": []
  },
  {
   "cell_type": "code",
   "execution_count": null,
   "metadata": {
    "collapsed": true
   },
   "outputs": [],
   "source": []
  },
  {
   "cell_type": "code",
   "execution_count": null,
   "metadata": {
    "collapsed": true
   },
   "outputs": [],
   "source": []
  },
  {
   "cell_type": "code",
   "execution_count": null,
   "metadata": {
    "collapsed": true
   },
   "outputs": [],
   "source": []
  },
  {
   "cell_type": "code",
   "execution_count": null,
   "metadata": {
    "collapsed": true
   },
   "outputs": [],
   "source": []
  },
  {
   "cell_type": "code",
   "execution_count": null,
   "metadata": {
    "collapsed": true
   },
   "outputs": [],
   "source": []
  },
  {
   "cell_type": "code",
   "execution_count": null,
   "metadata": {
    "collapsed": true
   },
   "outputs": [],
   "source": []
  },
  {
   "cell_type": "code",
   "execution_count": null,
   "metadata": {
    "collapsed": true
   },
   "outputs": [],
   "source": []
  },
  {
   "cell_type": "code",
   "execution_count": null,
   "metadata": {
    "collapsed": true
   },
   "outputs": [],
   "source": []
  },
  {
   "cell_type": "code",
   "execution_count": null,
   "metadata": {
    "collapsed": true
   },
   "outputs": [],
   "source": []
  },
  {
   "cell_type": "code",
   "execution_count": null,
   "metadata": {
    "collapsed": true
   },
   "outputs": [],
   "source": []
  },
  {
   "cell_type": "code",
   "execution_count": null,
   "metadata": {
    "collapsed": true
   },
   "outputs": [],
   "source": []
  },
  {
   "cell_type": "code",
   "execution_count": null,
   "metadata": {
    "collapsed": true
   },
   "outputs": [],
   "source": []
  },
  {
   "cell_type": "code",
   "execution_count": null,
   "metadata": {
    "collapsed": true
   },
   "outputs": [],
   "source": []
  },
  {
   "cell_type": "code",
   "execution_count": null,
   "metadata": {
    "collapsed": true
   },
   "outputs": [],
   "source": []
  },
  {
   "cell_type": "code",
   "execution_count": null,
   "metadata": {
    "collapsed": true
   },
   "outputs": [],
   "source": []
  },
  {
   "cell_type": "code",
   "execution_count": null,
   "metadata": {
    "collapsed": true
   },
   "outputs": [],
   "source": []
  },
  {
   "cell_type": "code",
   "execution_count": null,
   "metadata": {
    "collapsed": true
   },
   "outputs": [],
   "source": []
  },
  {
   "cell_type": "code",
   "execution_count": null,
   "metadata": {
    "collapsed": true
   },
   "outputs": [],
   "source": []
  },
  {
   "cell_type": "code",
   "execution_count": null,
   "metadata": {
    "collapsed": true
   },
   "outputs": [],
   "source": []
  }
 ],
 "metadata": {
  "kernelspec": {
   "display_name": "Python 2",
   "language": "python",
   "name": "python2"
  },
  "language_info": {
   "codemirror_mode": {
    "name": "ipython",
    "version": 2
   },
   "file_extension": ".py",
   "mimetype": "text/x-python",
   "name": "python",
   "nbconvert_exporter": "python",
   "pygments_lexer": "ipython2",
   "version": "2.7.6"
  }
 },
 "nbformat": 4,
 "nbformat_minor": 1
}

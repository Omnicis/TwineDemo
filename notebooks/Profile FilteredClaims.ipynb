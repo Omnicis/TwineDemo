{
 "cells": [
  {
   "cell_type": "code",
   "execution_count": 1,
   "metadata": {
    "collapsed": false
   },
   "outputs": [
    {
     "name": "stdout",
     "output_type": "stream",
     "text": [
      "\n",
      "magbc.tsdm:\n",
      "  (L) etl.claim.AllPhyns\n",
      "  (L) etl.claim.FilteredClaims\n",
      "  (M) tsdm.ptnt.PtntDiagFlgs\n",
      "  (M) tsdm.ptnt.PtntDrugFlgs\n",
      "  (M) tsdm.ptnt.PtntPrimPhyn\n",
      "  (M) tsdm.ptnt.PtntProcFlgs\n",
      "  (M) tsdm.test.AllPhynsDF\n",
      "  (M) tsdm.test.FilteredClaimsDF\n",
      "\n",
      "magbc.bcvc:\n",
      "\n",
      "magbc.etl:\n",
      "  (M) etl.claim.AllClaims\n",
      "  (O) etl.claim.AllPhyns\n",
      "  (O) etl.claim.AllProdts\n",
      "  (O) etl.claim.FilteredClaims\n",
      "  (I) etl.inputdata.Affl\n",
      "  (I) etl.inputdata.DrugMaster\n",
      "  (I) etl.inputdata.PhynDim\n",
      "  (I) etl.inputdata.PtntTumor\n",
      "  (I) etl.inputdata.PxDxRxONC\n",
      "  (I) etl.refinput.Diags\n",
      "  (I) etl.refinput.Drugs\n",
      "  (I) etl.refinput.Procs\n",
      "\n",
      "magbc.ui:\n"
     ]
    }
   ],
   "source": [
    "ls()"
   ]
  },
  {
   "cell_type": "code",
   "execution_count": 3,
   "metadata": {
    "collapsed": false
   },
   "outputs": [],
   "source": [
    "claim = df(\"FilteredClaimsDF\")"
   ]
  },
  {
   "cell_type": "code",
   "execution_count": 7,
   "metadata": {
    "collapsed": false
   },
   "outputs": [
    {
     "data": {
      "text/plain": [
       "294954"
      ]
     },
     "execution_count": 7,
     "metadata": {},
     "output_type": "execute_result"
    }
   ],
   "source": [
    "claim.count()"
   ]
  },
  {
   "cell_type": "code",
   "execution_count": 6,
   "metadata": {
    "collapsed": false
   },
   "outputs": [
    {
     "name": "stdout",
     "output_type": "stream",
     "text": [
      "clm_gid:String             = 00000072321001483953\n",
      "dt:Timestamp               = 2011-09-09 00:00:00.0\n",
      "svc_ln_seq:Integer         = 3\n",
      "ptnt_gid:String            = 00000000000763583804\n",
      "prodt:String               = 36416\n",
      "diagArr:Array(String,true) = WrappedArray(174.9, V58.81, , , , , , , , , , )\n",
      "phyn_key:String            = 00000000000000455207\n",
      "phyn_gid:String            = 00000000000000455207\n",
      "clm_typ:String             = PX_DX\n",
      "clm_sts:String             = null\n",
      "day_sply:Integer           = null\n",
      "drg_id:String              = null\n",
      "adj_svc_unit_nbr:Integer   = 0\n",
      "prodt_strgth:String        = null\n",
      "qty:Decimal(38,7)          = null\n",
      "dt_mth:String              = 201701\n",
      "prodt_cd:String            = null\n",
      "procType:String            = null\n",
      "prodt_type:String          = null\n"
     ]
    }
   ],
   "source": [
    "claim.peek(200)"
   ]
  },
  {
   "cell_type": "code",
   "execution_count": 9,
   "metadata": {
    "collapsed": false
   },
   "outputs": [
    {
     "name": "stdout",
     "output_type": "stream",
     "text": [
      "[clm_gid, svc_ln_seq], 10000\n"
     ]
    }
   ],
   "source": [
    "claim.smvDiscoverPK()"
   ]
  },
  {
   "cell_type": "code",
   "execution_count": 13,
   "metadata": {
    "collapsed": false
   },
   "outputs": [
    {
     "name": "stdout",
     "output_type": "stream",
     "text": [
      "clm_gid              Non-Null Count         294954\n",
      "clm_gid              Null Count             0\n",
      "clm_gid              Min Length             20\n",
      "clm_gid              Max Length             20\n",
      "clm_gid              Approx Distinct Count  118978\n",
      "dt                   Time Start             \"2007-01-02 00:00:00\"\n",
      "dt                   Time Edd               \"2017-01-31 00:00:00\"\n",
      "Histogram of dt: Year\n",
      "key                      count      Pct    cumCount   cumPct\n",
      "2007                     13228    4.48%       13228    4.48%\n",
      "2008                     28224    9.57%       41452   14.05%\n",
      "2009                     30803   10.44%       72255   24.50%\n",
      "2010                     31720   10.75%      103975   35.25%\n",
      "2011                     34145   11.58%      138120   46.83%\n",
      "2012                     39170   13.28%      177290   60.11%\n",
      "2013                     38826   13.16%      216116   73.27%\n",
      "2014                     39235   13.30%      255351   86.57%\n",
      "2015                     30319   10.28%      285670   96.85%\n",
      "2016                      8835    3.00%      294505   99.85%\n",
      "2017                       449    0.15%      294954  100.00%\n",
      "-------------------------------------------------\n",
      "Histogram of dt: Month\n",
      "key                      count      Pct    cumCount   cumPct\n",
      "01                       25826    8.76%       25826    8.76%\n",
      "02                       22940    7.78%       48766   16.53%\n",
      "03                       25300    8.58%       74066   25.11%\n",
      "04                       25802    8.75%       99868   33.86%\n",
      "05                       25022    8.48%      124890   42.34%\n",
      "06                       25124    8.52%      150014   50.86%\n",
      "07                       25336    8.59%      175350   59.45%\n",
      "08                       24448    8.29%      199798   67.74%\n",
      "09                       24836    8.42%      224634   76.16%\n",
      "10                       24637    8.35%      249271   84.51%\n",
      "11                       22669    7.69%      271940   92.20%\n",
      "12                       23014    7.80%      294954  100.00%\n",
      "-------------------------------------------------\n",
      "Histogram of dt: Day of Week\n",
      "key                      count      Pct    cumCount   cumPct\n",
      "1                         3628    1.23%        3628    1.23%\n",
      "2                        57467   19.48%       61095   20.71%\n",
      "3                        60427   20.49%      121522   41.20%\n",
      "4                        59348   20.12%      180870   61.32%\n",
      "5                        59118   20.04%      239988   81.36%\n",
      "6                        49801   16.88%      289789   98.25%\n",
      "7                         5165    1.75%      294954  100.00%\n",
      "-------------------------------------------------\n",
      "Histogram of dt: Hour\n",
      "key                      count      Pct    cumCount   cumPct\n",
      "00                      294954  100.00%      294954  100.00%\n",
      "-------------------------------------------------\n",
      "svc_ln_seq           Non-Null Count         277534\n",
      "svc_ln_seq           Null Count             17420\n",
      "svc_ln_seq           Average                5.141762811042971\n",
      "svc_ln_seq           Standard Deviation     7.070002352577959\n",
      "svc_ln_seq           Min                    1.0\n",
      "svc_ln_seq           Max                    95.0\n",
      "ptnt_gid             Non-Null Count         294954\n",
      "ptnt_gid             Null Count             0\n",
      "ptnt_gid             Min Length             20\n",
      "ptnt_gid             Max Length             20\n",
      "ptnt_gid             Approx Distinct Count  4422\n",
      "prodt                Non-Null Count         294954\n",
      "prodt                Null Count             0\n",
      "prodt                Min Length             5\n",
      "prodt                Max Length             11\n",
      "prodt                Approx Distinct Count  2719\n",
      "phyn_key             Non-Null Count         277864\n",
      "phyn_key             Null Count             17090\n",
      "phyn_key             Min Length             0\n",
      "phyn_key             Max Length             20\n",
      "phyn_key             Approx Distinct Count  25019\n",
      "phyn_gid             Non-Null Count         277489\n",
      "phyn_gid             Null Count             17465\n",
      "phyn_gid             Min Length             20\n",
      "phyn_gid             Max Length             20\n",
      "phyn_gid             Approx Distinct Count  23886\n",
      "clm_typ              Non-Null Count         294954\n",
      "clm_typ              Null Count             0\n",
      "clm_typ              Min Length             2\n",
      "clm_typ              Max Length             5\n",
      "clm_typ              Approx Distinct Count  3\n",
      "clm_sts              Non-Null Count         17420\n",
      "clm_sts              Null Count             277534\n",
      "clm_sts              Min Length             1\n",
      "clm_sts              Max Length             1\n",
      "clm_sts              Approx Distinct Count  1\n",
      "day_sply             Non-Null Count         17420\n",
      "day_sply             Null Count             277534\n",
      "day_sply             Average                42.114982778415616\n",
      "day_sply             Standard Deviation     24.99188075227777\n",
      "day_sply             Min                    0.0\n",
      "day_sply             Max                    180.0\n",
      "drg_id               Non-Null Count         17420\n",
      "drg_id               Null Count             277534\n",
      "drg_id               Min Length             13\n",
      "drg_id               Max Length             13\n",
      "drg_id               Approx Distinct Count  72\n",
      "adj_svc_unit_nbr     Non-Null Count         277534\n",
      "adj_svc_unit_nbr     Null Count             17420\n",
      "adj_svc_unit_nbr     Average                180.390723298767\n",
      "adj_svc_unit_nbr     Standard Deviation     32672.520624240224\n",
      "adj_svc_unit_nbr     Min                    0.0\n",
      "adj_svc_unit_nbr     Max                    1.7E7\n",
      "prodt_strgth         Non-Null Count         17420\n",
      "prodt_strgth         Null Count             277534\n",
      "prodt_strgth         Min Length             2\n",
      "prodt_strgth         Max Length             5\n",
      "prodt_strgth         Approx Distinct Count  17\n",
      "qty                  Non-Null Count         17420\n",
      "qty                  Null Count             277534\n",
      "qty                  Average                44.21509758898\n",
      "qty                  Standard Deviation     26.597109331161512\n",
      "qty                  Min                    1.0\n",
      "qty                  Max                    448.0\n",
      "dt_mth               Non-Null Count         294954\n",
      "dt_mth               Null Count             0\n",
      "dt_mth               Min Length             6\n",
      "dt_mth               Max Length             6\n",
      "dt_mth               Approx Distinct Count  1\n",
      "prodt_cd             Non-Null Count         74330\n",
      "prodt_cd             Null Count             220624\n",
      "prodt_cd             Min Length             5\n",
      "prodt_cd             Max Length             10\n",
      "prodt_cd             Approx Distinct Count  24\n",
      "procType             Non-Null Count         36912\n",
      "procType             Null Count             258042\n",
      "procType             Min Length             3\n",
      "procType             Max Length             10\n",
      "procType             Approx Distinct Count  7\n",
      "prodt_type           Non-Null Count         25140\n",
      "prodt_type           Null Count             269814\n",
      "prodt_type           Min Length             5\n",
      "prodt_type           Max Length             7\n",
      "prodt_type           Approx Distinct Count  3\n"
     ]
    }
   ],
   "source": [
    "claim.drop(\"diagArr\").smvEdd()"
   ]
  },
  {
   "cell_type": "code",
   "execution_count": 32,
   "metadata": {
    "collapsed": false
   },
   "outputs": [
    {
     "name": "stdout",
     "output_type": "stream",
     "text": [
      "Histogram of phykeylength: with BIN size 1.0\n",
      "key                      count      Pct    cumCount   cumPct\n",
      "null                     17090    5.79%       17090    5.79%\n",
      "0.0                        364    0.12%       17454    5.92%\n",
      "20.0                    277500   94.08%      294954  100.00%\n",
      "-------------------------------------------------\n"
     ]
    }
   ],
   "source": [
    "claim.withColumn(\"phykeylength\", length(\"phyn_key\")).smvBinHist((\"phykeylength\", 1))"
   ]
  },
  {
   "cell_type": "code",
   "execution_count": 4,
   "metadata": {
    "collapsed": false
   },
   "outputs": [
    {
     "name": "stdout",
     "output_type": "stream",
     "text": [
      "Histogram of clm_typ: String sort by Key\n",
      "key                      count      Pct    cumCount   cumPct\n",
      "PX                          47    0.02%          47    0.02%\n",
      "PX_DX                   277487   94.08%      277534   94.09%\n",
      "RX                       17420    5.91%      294954  100.00%\n",
      "-------------------------------------------------\n"
     ]
    }
   ],
   "source": [
    "claim.smvHist(\"clm_typ\")"
   ]
  },
  {
   "cell_type": "code",
   "execution_count": 51,
   "metadata": {
    "collapsed": false
   },
   "outputs": [
    {
     "name": "stdout",
     "output_type": "stream",
     "text": [
      "Histogram of prodt: String sort by Key\n",
      "key                      count      Pct    cumCount   cumPct\n",
      "0159T                        1    2.13%           1    2.13%\n",
      "19102                        1    2.13%           2    4.26%\n",
      "71020                        3    6.38%           5   10.64%\n",
      "76645                        5   10.64%          10   21.28%\n",
      "76942                        1    2.13%          11   23.40%\n",
      "77051                        4    8.51%          15   31.91%\n",
      "77052                        3    6.38%          18   38.30%\n",
      "77055                        1    2.13%          19   40.43%\n",
      "77056                        2    4.26%          21   44.68%\n",
      "77057                        2    4.26%          23   48.94%\n",
      "77059                        1    2.13%          24   51.06%\n",
      "88342                        1    2.13%          25   53.19%\n",
      "88360                        1    2.13%          26   55.32%\n",
      "88361                        1    2.13%          27   57.45%\n",
      "88367                        1    2.13%          28   59.57%\n",
      "G0202                        1    2.13%          29   61.70%\n",
      "G0204                        2    4.26%          31   65.96%\n",
      "G0206                        4    8.51%          35   74.47%\n",
      "J9045                        2    4.26%          37   78.72%\n",
      "J9060                        2    4.26%          39   82.98%\n",
      "J9190                        1    2.13%          40   85.11%\n",
      "J9250                        1    2.13%          41   87.23%\n",
      "J9355                        2    4.26%          43   91.49%\n",
      "J9395                        4    8.51%          47  100.00%\n",
      "-------------------------------------------------\n",
      "Histogram of prodt_type: String sort by Key\n",
      "key                      count      Pct    cumCount   cumPct\n",
      "null                        35   74.47%          35   74.47%\n",
      "CHEMO                        6   12.77%          41   87.23%\n",
      "HORMONE                      4    8.51%          45   95.74%\n",
      "TARGET                       2    4.26%          47  100.00%\n",
      "-------------------------------------------------\n",
      "Histogram of procType: String sort by Key\n",
      "key                      count      Pct    cumCount   cumPct\n",
      "null                        20   42.55%          20   42.55%\n",
      "Biopsy                       1    2.13%          21   44.68%\n",
      "MRI                          2    4.26%          23   48.94%\n",
      "Mammogram                   12   25.53%          35   74.47%\n",
      "Radio                        3    6.38%          38   80.85%\n",
      "Test                         3    6.38%          41   87.23%\n",
      "Ultrasound                   6   12.77%          47  100.00%\n",
      "-------------------------------------------------\n"
     ]
    }
   ],
   "source": [
    "claim.filter(col(\"clm_typ\") == \"PX\").smvHist(\"prodt\", \"prodt_type\", \"procType\")"
   ]
  },
  {
   "cell_type": "code",
   "execution_count": 49,
   "metadata": {
    "collapsed": false
   },
   "outputs": [
    {
     "name": "stdout",
     "output_type": "stream",
     "text": [
      "Histogram of clm_typ: String sort by Key\n",
      "key                      count      Pct    cumCount   cumPct\n",
      "RX                       17420  100.00%       17420  100.00%\n",
      "-------------------------------------------------\n"
     ]
    }
   ],
   "source": [
    "claim.filter(col(\"drg_id\").isNotNull()).smvHist(\"clm_typ\")"
   ]
  },
  {
   "cell_type": "code",
   "execution_count": 10,
   "metadata": {
    "collapsed": false
   },
   "outputs": [
    {
     "name": "stdout",
     "output_type": "stream",
     "text": [
      "Histogram of dt_mth: String sort by Key\n",
      "key                      count      Pct    cumCount   cumPct\n",
      "201701                  294954  100.00%      294954  100.00%\n",
      "-------------------------------------------------\n"
     ]
    }
   ],
   "source": [
    "claim.smvHist(\"dt_mth\")"
   ]
  },
  {
   "cell_type": "code",
   "execution_count": 15,
   "metadata": {
    "collapsed": false
   },
   "outputs": [
    {
     "name": "stdout",
     "output_type": "stream",
     "text": [
      "Histogram of prodt_cd: String sort by Key\n",
      "key                      count      Pct    cumCount   cumPct\n",
      "null                    220624   74.80%      220624   74.80%\n",
      "ABRAXANE                   429    0.15%      221053   74.94%\n",
      "ADRIAMYCIN                 763    0.26%      221816   75.20%\n",
      "ADRUCIL                    410    0.14%      222226   75.34%\n",
      "AFINITOR                   105    0.04%      222331   75.38%\n",
      "ARIMIDEX                 10458    3.55%      232789   78.92%\n",
      "CYTOXAN                    952    0.32%      233741   79.25%\n",
      "ELLENCE                     20    0.01%      233761   79.25%\n",
      "FASLODEX                   499    0.17%      234260   79.42%\n",
      "FEMARA                    5857    1.99%      240117   81.41%\n",
      "GEMZAR                     451    0.15%      240568   81.56%\n",
      "HALAVEN                     99    0.03%      240667   81.59%\n",
      "HERCEPTIN                 2401    0.81%      243068   82.41%\n",
      "IBRANCE                    226    0.08%      243294   82.49%\n",
      "IXEMPRA                     83    0.03%      243377   82.51%\n",
      "KADCYLA                     74    0.03%      243451   82.54%\n",
      "MAXTREX                    109    0.04%      243560   82.58%\n",
      "NAVELBINE                  313    0.11%      243873   82.68%\n",
      "Other                    49190   16.68%      293063   99.36%\n",
      "PARAPLATIN                 755    0.26%      293818   99.61%\n",
      "PERJETA                    168    0.06%      293986   99.67%\n",
      "PLATINOL                   122    0.04%      294108   99.71%\n",
      "TAXOTERE                   240    0.08%      294348   99.79%\n",
      "TYKERB                      32    0.01%      294380   99.81%\n",
      "XELODA                     574    0.19%      294954  100.00%\n",
      "-------------------------------------------------\n"
     ]
    }
   ],
   "source": [
    "claim.smvHist(\"prodt_cd\")"
   ]
  },
  {
   "cell_type": "code",
   "execution_count": 44,
   "metadata": {
    "collapsed": false
   },
   "outputs": [
    {
     "name": "stdout",
     "output_type": "stream",
     "text": [
      "Histogram of clm_typ: String sort by Key\n",
      "key                      count      Pct    cumCount   cumPct\n",
      "PX                          47    0.06%          47    0.06%\n",
      "PX_DX                    56863   76.50%       56910   76.56%\n",
      "RX                       17420   23.44%       74330  100.00%\n",
      "-------------------------------------------------\n"
     ]
    }
   ],
   "source": [
    "claim.filter(col(\"prodt_cd\").isNotNull()).smvHist(\"clm_typ\")"
   ]
  },
  {
   "cell_type": "code",
   "execution_count": 20,
   "metadata": {
    "collapsed": false
   },
   "outputs": [
    {
     "name": "stdout",
     "output_type": "stream",
     "text": [
      "clm_gid:String             = 00001177750000490131\n",
      "dt:Timestamp               = 2014-10-14 00:00:00.0\n",
      "svc_ln_seq:Integer         = 2\n",
      "ptnt_gid:String            = 00000000000217572101\n",
      "prodt:String               = 88172\n",
      "diagArr:Array(String,true) = WrappedArray(182.0, 197.6, 198.82, 362.50, 785.6, V14.8, V15.07, V76.49, V87.41, , , )\n",
      "phyn_key:String            = 00000000000033987961\n",
      "phyn_gid:String            = 00000000000029118117\n",
      "clm_typ:String             = PX_DX\n",
      "clm_sts:String             = null\n",
      "day_sply:Integer           = null\n",
      "drg_id:String              = null\n",
      "adj_svc_unit_nbr:Integer   = 0\n",
      "prodt_strgth:String        = null\n",
      "qty:Decimal(38,7)          = null\n",
      "dt_mth:String              = 201701\n",
      "prodt_cd:String            = Other\n",
      "procType:String            = Biopsy\n",
      "prodt_type:String          = null\n"
     ]
    }
   ],
   "source": [
    "claim.filter((col(\"prodt_cd\").isNotNull()) & (col(\"clm_typ\") == \"PX_DX\")).peek()"
   ]
  },
  {
   "cell_type": "code",
   "execution_count": 53,
   "metadata": {
    "collapsed": false
   },
   "outputs": [
    {
     "name": "stdout",
     "output_type": "stream",
     "text": [
      "clm_gid:String             = 00000068116000019446\n",
      "dt:Timestamp               = 2009-06-15 00:00:00.0\n",
      "svc_ln_seq:Integer         = 6\n",
      "ptnt_gid:String            = 00000000000175879114\n",
      "prodt:String               = 19325\n",
      "diagArr:Array(String,true) = WrappedArray(174.8, 311, 611.81, V45.71, , , , , , , , )\n",
      "phyn_key:String            = 00000000000000339834\n",
      "phyn_gid:String            = 00000000000000339834\n",
      "clm_typ:String             = PX_DX\n",
      "clm_sts:String             = null\n",
      "day_sply:Integer           = null\n",
      "drg_id:String              = null\n",
      "adj_svc_unit_nbr:Integer   = 0\n",
      "prodt_strgth:String        = null\n",
      "qty:Decimal(38,7)          = null\n",
      "dt_mth:String              = 201701\n",
      "prodt_cd:String            = null\n",
      "procType:String            = null\n",
      "prodt_type:String          = null\n"
     ]
    }
   ],
   "source": [
    "claim.filter((col(\"prodt_cd\").isNull()) & (col(\"clm_typ\") == \"PX_DX\")).peek()"
   ]
  },
  {
   "cell_type": "code",
   "execution_count": 63,
   "metadata": {
    "collapsed": false
   },
   "outputs": [
    {
     "name": "stdout",
     "output_type": "stream",
     "text": [
      "Histogram of clm_typ: String sort by Key\n",
      "key                      count      Pct    cumCount   cumPct\n",
      "PX                          12    0.03%          12    0.03%\n",
      "PX_DX                    35489   99.97%       35501  100.00%\n",
      "-------------------------------------------------\n"
     ]
    }
   ],
   "source": [
    "claim.filter(col(\"adj_svc_unit_nbr\")> 0).smvHist(\"clm_typ\")"
   ]
  },
  {
   "cell_type": "code",
   "execution_count": 41,
   "metadata": {
    "collapsed": false
   },
   "outputs": [
    {
     "name": "stdout",
     "output_type": "stream",
     "text": [
      "Histogram of prodtStarter: String sort by Key\n",
      "key                      count      Pct    cumCount   cumPct\n",
      "C                           32    0.09%          32    0.09%\n",
      "J                        35407   99.74%       35439   99.83%\n",
      "Q                           61    0.17%       35500  100.00%\n",
      "S                            1    0.00%       35501  100.00%\n",
      "-------------------------------------------------\n"
     ]
    }
   ],
   "source": [
    "claim.filter(col(\"adj_svc_unit_nbr\")> 0).withColumn(\"prodtStarter\", col(\"prodt\").substr(1, 1)).smvHist(\"prodtStarter\")"
   ]
  },
  {
   "cell_type": "code",
   "execution_count": 61,
   "metadata": {
    "collapsed": false
   },
   "outputs": [],
   "source": [
    "claim2 = claim.withColumn(\"isDrug\", when(claim.adj_svc_unit_nbr > 0, lit(\"PxDrug\")).\\\n",
    "                           when(claim.clm_typ == \"RX\", lit(\"RxDrug\")).\\\n",
    "                           otherwise(lit(\"NotDrug\")))"
   ]
  },
  {
   "cell_type": "code",
   "execution_count": 62,
   "metadata": {
    "collapsed": false
   },
   "outputs": [
    {
     "name": "stdout",
     "output_type": "stream",
     "text": [
      "Histogram of isDrug: String sort by Key\n",
      "key                      count      Pct    cumCount   cumPct\n",
      "NotDrug                 242033   82.06%      242033   82.06%\n",
      "PxDrug                   35501   12.04%      277534   94.09%\n",
      "RxDrug                   17420    5.91%      294954  100.00%\n",
      "-------------------------------------------------\n"
     ]
    }
   ],
   "source": [
    "claim2.smvHist(\"isDrug\")"
   ]
  },
  {
   "cell_type": "code",
   "execution_count": 71,
   "metadata": {
    "collapsed": false
   },
   "outputs": [
    {
     "name": "stdout",
     "output_type": "stream",
     "text": [
      "prodt_type           Non-Null Count         25140\n",
      "prodt_type           Null Count             49190\n",
      "prodt_type           Min Length             5\n",
      "prodt_type           Max Length             7\n",
      "prodt_type           Approx Distinct Count  3\n",
      "procType             Non-Null Count         36912\n",
      "procType             Null Count             37418\n",
      "procType             Min Length             3\n",
      "procType             Max Length             10\n",
      "procType             Approx Distinct Count  7\n"
     ]
    }
   ],
   "source": [
    "claim.filter(col(\"prodt_cd\").isNotNull()).smvEdd(\"prodt_type\", \"procType\")"
   ]
  },
  {
   "cell_type": "code",
   "execution_count": 77,
   "metadata": {
    "collapsed": false
   },
   "outputs": [
    {
     "name": "stdout",
     "output_type": "stream",
     "text": [
      "clm_gid:String             = 00002432980001732966\n",
      "dt:Timestamp               = 2016-12-21 00:00:00.0\n",
      "svc_ln_seq:Integer         = 1\n",
      "ptnt_gid:String            = 00000000000236800421\n",
      "prodt:String               = 88366\n",
      "diagArr:Array(String,true) = WrappedArray(C77.3, , , , , , , , , , , )\n",
      "phyn_key:String            = 00000000000021659943\n",
      "phyn_gid:String            = 00000000000021659944\n",
      "clm_typ:String             = PX_DX\n",
      "clm_sts:String             = null\n",
      "day_sply:Integer           = null\n",
      "drg_id:String              = null\n",
      "adj_svc_unit_nbr:Integer   = 0\n",
      "prodt_strgth:String        = null\n",
      "qty:Decimal(38,7)          = null\n",
      "dt_mth:String              = 201701\n",
      "prodt_cd:String            = Other\n",
      "procType:String            = null\n",
      "prodt_type:String          = null\n"
     ]
    }
   ],
   "source": [
    "claim.filter(col(\"prodt_cd\").isNotNull()).filter(col(\"prodt_type\").isNull()).filter(col(\"procType\").isNull()).peek()"
   ]
  },
  {
   "cell_type": "code",
   "execution_count": 65,
   "metadata": {
    "collapsed": false
   },
   "outputs": [],
   "source": [
    "allpd = df(\"AllProdtsDF\")"
   ]
  },
  {
   "cell_type": "code",
   "execution_count": 78,
   "metadata": {
    "collapsed": false
   },
   "outputs": [
    {
     "name": "stdout",
     "output_type": "stream",
     "text": [
      "prodt:String      = 88366\n",
      "prodt_cd:String   = Other\n",
      "procType:String   = null\n",
      "prodt_type:String = null\n"
     ]
    }
   ],
   "source": [
    "allpd.filter(col(\"prodt\") == \"88366\").peek()"
   ]
  },
  {
   "cell_type": "code",
   "execution_count": 72,
   "metadata": {
    "collapsed": false
   },
   "outputs": [
    {
     "name": "stdout",
     "output_type": "stream",
     "text": [
      "prodt                Non-Null Count         1451\n",
      "prodt                Null Count             0\n",
      "prodt                Min Length             5\n",
      "prodt                Max Length             11\n",
      "prodt                Approx Distinct Count  1451\n",
      "prodt_cd             Non-Null Count         1451\n",
      "prodt_cd             Null Count             0\n",
      "prodt_cd             Min Length             5\n",
      "prodt_cd             Max Length             10\n",
      "prodt_cd             Approx Distinct Count  25\n",
      "procType             Non-Null Count         98\n",
      "procType             Null Count             1353\n",
      "procType             Min Length             3\n",
      "procType             Max Length             10\n",
      "procType             Approx Distinct Count  7\n",
      "prodt_type           Non-Null Count         1337\n",
      "prodt_type           Null Count             114\n",
      "prodt_type           Min Length             5\n",
      "prodt_type           Max Length             7\n",
      "prodt_type           Approx Distinct Count  3\n"
     ]
    }
   ],
   "source": [
    "allpd.smvEdd()"
   ]
  },
  {
   "cell_type": "code",
   "execution_count": 80,
   "metadata": {
    "collapsed": false
   },
   "outputs": [
    {
     "name": "stdout",
     "output_type": "stream",
     "text": [
      "Histogram of prodt_type: String sort by Key\n",
      "key                      count      Pct    cumCount   cumPct\n",
      "null                       114    7.86%         114    7.86%\n",
      "CHEMO                     1209   83.32%        1323   91.18%\n",
      "HORMONE                    120    8.27%        1443   99.45%\n",
      "TARGET                       8    0.55%        1451  100.00%\n",
      "-------------------------------------------------\n"
     ]
    }
   ],
   "source": [
    "allpd.smvHist(\"prodt_type\")"
   ]
  },
  {
   "cell_type": "code",
   "execution_count": null,
   "metadata": {
    "collapsed": true
   },
   "outputs": [],
   "source": []
  }
 ],
 "metadata": {
  "kernelspec": {
   "display_name": "Python 2",
   "language": "python",
   "name": "python2"
  },
  "language_info": {
   "codemirror_mode": {
    "name": "ipython",
    "version": 2
   },
   "file_extension": ".py",
   "mimetype": "text/x-python",
   "name": "python",
   "nbconvert_exporter": "python",
   "pygments_lexer": "ipython2",
   "version": "2.7.6"
  }
 },
 "nbformat": 4,
 "nbformat_minor": 1
}

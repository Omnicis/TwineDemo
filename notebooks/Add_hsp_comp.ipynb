{
 "cells": [
  {
   "cell_type": "code",
   "execution_count": 11,
   "metadata": {
    "collapsed": true
   },
   "outputs": [],
   "source": [
    "a=df(\"AccountsMaster\")"
   ]
  },
  {
   "cell_type": "code",
   "execution_count": 10,
   "metadata": {
    "collapsed": false
   },
   "outputs": [
    {
     "name": "stdout",
     "output_type": "stream",
     "text": [
      "Cannot peek an empty DataFrame\n"
     ]
    }
   ],
   "source": [
    "a.where(a.lvl1_org_id == \"INS00718066\").peek()"
   ]
  },
  {
   "cell_type": "code",
   "execution_count": 6,
   "metadata": {
    "collapsed": true
   },
   "outputs": [],
   "source": [
    "t=df('AcctFlags')"
   ]
  },
  {
   "cell_type": "code",
   "execution_count": 9,
   "metadata": {
    "collapsed": false
   },
   "outputs": [
    {
     "name": "stdout",
     "output_type": "stream",
     "text": [
      "ORGANIZATION_ID:String         = INS00718066\n",
      "zip:String                     = 95817\n",
      "isCommissionOnCancer:Integer   = null\n",
      "isOncCareModel:Integer         = null\n",
      "isNatCompCancerNetwork:Integer = 1\n",
      "isNCICancerCenter:Integer      = 1\n"
     ]
    }
   ],
   "source": [
    "t.where(t.isNCICancerCenter>0).peek()"
   ]
  },
  {
   "cell_type": "code",
   "execution_count": 19,
   "metadata": {
    "collapsed": false
   },
   "outputs": [],
   "source": [
    "a=df(\"AccountsByHsa\")"
   ]
  },
  {
   "cell_type": "code",
   "execution_count": 21,
   "metadata": {
    "collapsed": false
   },
   "outputs": [
    {
     "name": "stdout",
     "output_type": "stream",
     "text": [
      "geo_type:String                         = hrr\n",
      "geo_value:String                        = 77\n",
      "geo_name:String                         = Sacramento, CA\n",
      "avg_Able_To_Receive_eLab_Results:Double = 0.0\n",
      "avg_Able_To_Track_Lab_Results:Double    = 0.0\n",
      "avg_H_HSP_RATING_STAR_RATING:Double     = 3.0\n",
      "avg_Total_Performance_Score:Double      = 42.21428680419922\n",
      "hasCommissionOnCancer:Boolean           = null\n",
      "hasOncCareModel:Boolean                 = null\n",
      "hasNatCompCancerNetwork:Boolean         = true\n",
      "hasNCICancerCenter:Boolean              = true\n"
     ]
    }
   ],
   "source": [
    "a.where(a.hasNCICancerCenter).peek(2)"
   ]
  },
  {
   "cell_type": "code",
   "execution_count": 1,
   "metadata": {
    "collapsed": false
   },
   "outputs": [],
   "source": [
    "b=df('GeoMaster')"
   ]
  },
  {
   "cell_type": "code",
   "execution_count": 2,
   "metadata": {
    "collapsed": false,
    "scrolled": false
   },
   "outputs": [
    {
     "name": "stdout",
     "output_type": "stream",
     "text": [
      "geo_type:String                                   = hrr\n",
      "geo_value:String                                  = 423\n",
      "geo_name:String                                   = Salt Lake City, UT\n",
      "ptnt_cnt:Long                                     = 172\n",
      "_ptnt_cnt:Long                                    = 193\n",
      "ptnt_pct_use_her_neoadjuvant:Double               = 1.0\n",
      "ptnt_pct_use_her_adjuvant:Double                  = 0.9898989796638489\n",
      "ptnt_pct_use_her_1L:Double                        = 0.8571428656578064\n",
      "ptnt_pct_use_her_2Lplus:Double                    = 0.8684210777282715\n",
      "avg_her_inf_neoadjuvant:Double                    = 7.214285714285714\n",
      "avg_her_inf_adjuvant:Double                       = 12.816326530612244\n",
      "avg_her_inf_1L:Double                             = 24.555555555555557\n",
      "avg_her_inf_2Lplus:Double                         = 23.90909090909091\n",
      "avg_her_cmplnt_drtn_neoadjuvant:Double            = 104.78571428571429\n",
      "avg_her_cmplnt_drtn_adjuvant:Double               = 213.31578947368422\n",
      "avg_her_cmplnt_drtn_1L:Double                     = 435.38235294117646\n",
      "avg_her_cmplnt_drtn_2Lplus:Double                 = 378.4\n",
      "ptnt_pct_use_per_neoadjuvant:Double               = 0.8571428656578064\n",
      "ptnt_pct_use_per_adjuvant:Double                  = 0.19191919267177582\n",
      "ptnt_pct_use_per_1L:Double                        = 0.2857142984867096\n",
      "ptnt_pct_use_per_2Lplus:Double                    = 0.3684210479259491\n",
      "avg_per_inf_neoadjuvant:Double                    = 4.416666666666667\n",
      "avg_per_inf_adjuvant:Double                       = 4.7894736842105265\n",
      "avg_per_inf_1L:Double                             = 13.833333333333334\n",
      "avg_per_inf_2Lplus:Double                         = 13.142857142857142\n",
      "avg_per_cmplnt_drtn_neoadjuvant:Double            = 72.5\n",
      "avg_per_cmplnt_drtn_adjuvant:Double               = 85.27777777777777\n",
      "avg_per_cmplnt_drtn_1L:Double                     = 273.1666666666667\n",
      "avg_per_cmplnt_drtn_2Lplus:Double                 = 330.3636363636364\n",
      "ptnt_pct_use_kad_neoadjuvant:Double               = 0.0\n",
      "ptnt_pct_use_kad_adjuvant:Double                  = 0.0\n",
      "ptnt_pct_use_kad_1L:Double                        = 0.095238097012043\n",
      "ptnt_pct_use_kad_2Lplus:Double                    = 0.28947368264198303\n",
      "avg_kad_inf_neoadjuvant:Double                    = null\n",
      "avg_kad_inf_adjuvant:Double                       = null\n",
      "avg_kad_inf_1L:Double                             = 7.25\n",
      "avg_kad_inf_2Lplus:Double                         = 6.909090909090909\n",
      "avg_kad_cmplnt_drtn_neoadjuvant:Double            = null\n",
      "avg_kad_cmplnt_drtn_adjuvant:Double               = null\n",
      "avg_kad_cmplnt_drtn_1L:Double                     = 181.0\n",
      "avg_kad_cmplnt_drtn_2Lplus:Double                 = 157.11111111111111\n",
      "ptnt_pct_use_tax_neoadjuvant:Double               = 1.0\n",
      "ptnt_pct_use_tax_adjuvant:Double                  = 0.6060606241226196\n",
      "ptnt_pct_use_tax_1L:Double                        = 0.4047619104385376\n",
      "ptnt_pct_use_tax_2Lplus:Double                    = 0.15789473056793213\n",
      "avg_tax_inf_neoadjuvant:Double                    = 7.357142857142857\n",
      "avg_tax_inf_adjuvant:Double                       = 7.133333333333334\n",
      "avg_tax_inf_1L:Double                             = 12.352941176470589\n",
      "avg_tax_inf_2Lplus:Double                         = 4.0\n",
      "ptnt_pct_surg_rmvl_neoadjuvant:Double             = 1.0\n",
      "ptnt_pct_surg_rmvl_adjuvant:Double                = 0.747474730014801\n",
      "ptnt_pct_surg_rmvl_1L:Double                      = 0.6904761791229248\n",
      "ptnt_pct_surg_rmvl_2Lplus:Double                  = 0.3947368562221527\n",
      "ptnt_pct_surg_recons_neoadjuvant:Double           = 0.5\n",
      "ptnt_pct_surg_recons_adjuvant:Double              = 0.24242424964904785\n",
      "ptnt_pct_surg_recons_1L:Double                    = 0.3095238208770752\n",
      "ptnt_pct_surg_recons_2Lplus:Double                = 0.42105263471603394\n",
      "ptnt_pct_use_hom_neoadjuvant:Double               = null\n",
      "ptnt_pct_use_hom_adjuvant:Double                  = 0.4040403962135315\n",
      "ptnt_pct_use_hom_1L:Double                        = 0.4761904776096344\n",
      "ptnt_pct_use_hom_2Lplus:Double                    = 0.15789473056793213\n",
      "ptnt_pct_use_kad_1l_neoadjuvant:Double            = 0.0\n",
      "ptnt_pct_use_kad_1l_adjuvant:Double               = 0.0\n",
      "ptnt_pct_use_kad_1l_1L:Double                     = 0.0714285746216774\n",
      "ptnt_pct_use_kad_1l_2Lplus:Double                 = 0.1315789520740509\n",
      "ptnt_pct_HER_mono_neoadjuvant:Double              = null\n",
      "ptnt_pct_HER_mono_adjuvant:Double                 = 0.35353535413742065\n",
      "ptnt_pct_HER_mono_1L:Double                       = 0.3571428656578064\n",
      "ptnt_pct_HER_mono_2Lplus:Double                   = 0.15789473056793213\n",
      "ptnt_pct_HER_AC_neoadjuvant:Double                = null\n",
      "ptnt_pct_HER_AC_adjuvant:Double                   = null\n",
      "ptnt_pct_HER_AC_1L:Double                         = null\n",
      "ptnt_pct_HER_AC_2Lplus:Double                     = null\n",
      "ptnt_pct_HER_FEC_neoadjuvant:Double               = null\n",
      "ptnt_pct_HER_FEC_adjuvant:Double                  = null\n",
      "ptnt_pct_HER_FEC_1L:Double                        = null\n",
      "ptnt_pct_HER_FEC_2Lplus:Double                    = null\n",
      "ptnt_pct_HER_KAD_neoadjuvant:Double               = null\n",
      "ptnt_pct_HER_KAD_adjuvant:Double                  = null\n",
      "ptnt_pct_HER_KAD_1L:Double                        = null\n",
      "ptnt_pct_HER_KAD_2Lplus:Double                    = 0.1315789520740509\n",
      "ptnt_pct_HER_OTHER_neoadjuvant:Double             = null\n",
      "ptnt_pct_HER_OTHER_adjuvant:Double                = 0.04040404036641121\n",
      "ptnt_pct_HER_OTHER_1L:Double                      = 0.02380952425301075\n",
      "ptnt_pct_HER_OTHER_2Lplus:Double                  = 0.18421052396297455\n",
      "ptnt_pct_HER_PER_OTHER_neoadjuvant:Double         = null\n",
      "ptnt_pct_HER_PER_OTHER_adjuvant:Double            = 0.020202020183205605\n",
      "ptnt_pct_HER_PER_OTHER_1L:Double                  = 0.095238097012043\n",
      "ptnt_pct_HER_PER_OTHER_2Lplus:Double              = 0.18421052396297455\n",
      "ptnt_pct_HER_PER_KAD_neoadjuvant:Double           = null\n",
      "ptnt_pct_HER_PER_KAD_adjuvant:Double              = null\n",
      "ptnt_pct_HER_PER_KAD_1L:Double                    = null\n",
      "ptnt_pct_HER_PER_KAD_2Lplus:Double                = 0.05263157933950424\n",
      "ptnt_pct_HER_PER_TAXANE_neoadjuvant:Double        = 0.6428571343421936\n",
      "ptnt_pct_HER_PER_TAXANE_adjuvant:Double           = 0.16161616146564484\n",
      "ptnt_pct_HER_PER_TAXANE_1L:Double                 = 0.1666666716337204\n",
      "ptnt_pct_HER_PER_TAXANE_2Lplus:Double             = 0.10526315867900848\n",
      "ptnt_pct_HER_TAXANE_neoadjuvant:Double            = 0.0714285746216774\n",
      "ptnt_pct_HER_TAXANE_adjuvant:Double               = 0.1515151560306549\n",
      "ptnt_pct_HER_TAXANE_1L:Double                     = 0.095238097012043\n",
      "ptnt_pct_HER_TAXANE_2Lplus:Double                 = 0.02631578966975212\n",
      "ptnt_pct_KAD_neoadjuvant:Double                   = null\n",
      "ptnt_pct_KAD_adjuvant:Double                      = null\n",
      "ptnt_pct_KAD_1L:Double                            = 0.095238097012043\n",
      "ptnt_pct_KAD_2Lplus:Double                        = 0.10526315867900848\n",
      "ptnt_pct_KAD_OTHER_neoadjuvant:Double             = null\n",
      "ptnt_pct_KAD_OTHER_adjuvant:Double                = null\n",
      "ptnt_pct_KAD_OTHER_1L:Double                      = null\n",
      "ptnt_pct_KAD_OTHER_2Lplus:Double                  = null\n",
      "ptnt_pct_KAD_PER_neoadjuvant:Double               = null\n",
      "ptnt_pct_KAD_PER_adjuvant:Double                  = null\n",
      "ptnt_pct_KAD_PER_1L:Double                        = null\n",
      "ptnt_pct_KAD_PER_2Lplus:Double                    = null\n",
      "ptnt_pct_OTHER_neoadjuvant:Double                 = 0.2857142984867096\n",
      "ptnt_pct_OTHER_adjuvant:Double                    = 0.1111111119389534\n",
      "ptnt_pct_OTHER_1L:Double                          = 0.095238097012043\n",
      "ptnt_pct_OTHER_2Lplus:Double                      = 0.05263157933950424\n",
      "ptnt_pct_PER_OTHER_neoadjuvant:Double             = null\n",
      "ptnt_pct_PER_OTHER_adjuvant:Double                = null\n",
      "ptnt_pct_PER_OTHER_1L:Double                      = null\n",
      "ptnt_pct_PER_OTHER_2Lplus:Double                  = null\n",
      "ptnt_pct_PER_TAXANE_neoadjuvant:Double            = null\n",
      "ptnt_pct_PER_TAXANE_adjuvant:Double               = null\n",
      "ptnt_pct_PER_TAXANE_1L:Double                     = null\n",
      "ptnt_pct_PER_TAXANE_2Lplus:Double                 = null\n",
      "ptnt_pct_TCH_neoadjuvant:Double                   = null\n",
      "ptnt_pct_TCH_adjuvant:Double                      = 0.16161616146564484\n",
      "ptnt_pct_TCH_1L:Double                            = 0.0714285746216774\n",
      "ptnt_pct_TCH_2Lplus:Double                        = null\n",
      "Number_of_Physicians_InScope:Long                 = 252\n",
      "Average_Physician_Practice_Years_InScope:Double   = 24.75\n",
      "Average_GroupPractice_Size:Double                 = 388.64285714285717\n",
      "Sum_Patient_Cnt_InScope:Double                    = 14359.766666666666\n",
      "Average_Patient_Cnt_InScope:Double                = 56.983201058201054\n",
      "Sum_Patient_Cnt_Total:Double                      = 246733.66666666666\n",
      "Average_Patient_Cnt_Total:Double                  = 979.1018518518518\n",
      "Average_Patient_Cancer_Pct:Double                 = 42.308411214953274\n",
      "Average_Patient_InScope_Pct:Double                = 8.038529480705437\n",
      "Pub_Cnt_Total:Long                                = 378\n",
      "Trail_Cnt_Total:Long                              = 49\n",
      "OpenPayment_Cnt_Total:Long                        = 826\n",
      "OpenPayment_Amt_Total:Double                      = 6864531.600000001\n",
      "OpenPayment_Cnt_Consulting:Long                   = 8\n",
      "OpenPayment_Cnt_OtherGeneral:Long                 = 546\n",
      "OpenPayment_Cnt_Research:Long                     = 266\n",
      "OpenPayment_Cnt_Speaker:Long                      = 6\n",
      "OpenPayment_Amt_Consulting:Double                 = 34000.0\n",
      "OpenPayment_Amt_OtherGeneral:Double               = 26202.470000000005\n",
      "OpenPayment_Amt_Research:Double                   = 6794329.130000001\n",
      "OpenPayment_Amt_Speaker:Double                    = 10000.0\n",
      "Average_Total_Physician_From_Any:Double           = 30.289256198347108\n",
      "SD_Total_Physician_From_Any:Double                = 33.34900298769373\n",
      "Average_Total_Patient_From_Any:Double             = 850.5165289256198\n",
      "SD_Total_Patient_From_Any:Double                  = 1137.9563791293474\n",
      "Average_Total_Physician_From_SameSpecialty:Double = 2.450413223140496\n",
      "SD_Total_Physician_From_SameSpecialty:Double      = 2.745322813424278\n",
      "Average_Total_Patient_From_SameSpecialty:Double   = 55.97107438016529\n",
      "SD_Total_Patient_From_SameSpecialty:Double        = 80.75395744263783\n",
      "Average_Total_Physician_From_Primarycare:Double   = 3.2236286919831225\n",
      "SD_Total_Physician_From_Primarycare:Double        = 7.073200052627752\n",
      "Average_Total_Patient_From_Primarycare:Double     = 64.25316455696202\n",
      "SD_Total_Patient_From_Primarycare:Double          = 142.76703176568424\n",
      "total_prmry_phy:Long                              = 35\n",
      "pct_phyn_gender_male:Double                       = 0.6285714285714286\n",
      "pop:Long                                          = 2037090\n",
      "AllAge_incRate:Double                             = 293.6973452326603\n",
      "AllAge_scrRate:Double                             = 0.7144340436603194\n",
      "HospBedsPer1K:Float                               = 1.6956398\n",
      "RegNursesPer1K:Float                              = 3.9781845\n",
      "HospEmplPer1K:Float                               = 14.106271\n",
      "avg_yrs_of_practice:Double                        = 17.837540766252637\n",
      "avgNumGrpPrac:Double                              = 853.384104804529\n",
      "pctAccptMedicare:Double                           = 0.8936276635925958\n",
      "pctRprtQM:Double                                  = 0.6212982244998959\n",
      "pctUseEHR:Double                                  = 0.5681827862803419\n",
      "pctMMCP:Double                                    = 0.0018043167241288088\n",
      "pctMHI:Double                                     = 0.0\n",
      "avgScrDepression:Double                           = null\n",
      "avgScrTobacco:Double                              = 9.051956467313667\n",
      "avgScrWeight:Double                               = 7.726047940935354\n",
      "avgScrHiBldPres:Double                            = 7.679680328311464\n",
      "avgCompMed:Double                                 = null\n",
      "avgUseAspirin:Double                              = null\n",
      "65Plus_prevalence:Double                          = 0.021500000953674315\n",
      "avg_Able_To_Receive_eLab_Results:Double           = 0.0\n",
      "avg_Able_To_Track_Lab_Results:Double              = 0.0\n",
      "avg_H_HSP_RATING_STAR_RATING:Double               = null\n",
      "avg_Total_Performance_Score:Double                = null\n",
      "hasCommissionOnCancer:Integer                     = 0\n",
      "hasOncCareModel:Integer                           = 0\n",
      "hasNatCompCancerNetwork:Integer                   = 1\n",
      "hasNCICancerCenter:Integer                        = 1\n"
     ]
    }
   ],
   "source": [
    "b.where(b.hasNCICancerCenter>0).peek()"
   ]
  },
  {
   "cell_type": "code",
   "execution_count": 16,
   "metadata": {
    "collapsed": true
   },
   "outputs": [],
   "source": [
    "c=df('AcctFlags')"
   ]
  },
  {
   "cell_type": "code",
   "execution_count": 20,
   "metadata": {
    "collapsed": false
   },
   "outputs": [
    {
     "name": "stdout",
     "output_type": "stream",
     "text": [
      "ORGANIZATION_ID:String         = INS00718066\n",
      "isCommissionOnCancer:Integer   = null\n",
      "isOncCareModel:Integer         = null\n",
      "isNatCompCancerNetwork:Integer = 1\n",
      "isNCICancerCenter:Integer      = 1\n"
     ]
    }
   ],
   "source": [
    "c.where(c.isNCICancerCenter.isNotNull()).peek()"
   ]
  },
  {
   "cell_type": "code",
   "execution_count": 12,
   "metadata": {
    "collapsed": false
   },
   "outputs": [],
   "source": [
    "a=df('GeoVarDevivation')"
   ]
  },
  {
   "cell_type": "code",
   "execution_count": 13,
   "metadata": {
    "collapsed": false
   },
   "outputs": [
    {
     "name": "stdout",
     "output_type": "stream",
     "text": [
      "hrrnum:String                                     = 335\n",
      "Number_of_Physicians_InScope:Double               = 101.0\n",
      "Average_Physician_Practice_Years_InScope:Double   = 29.66\n",
      "Average_GroupPractice_Size:Double                 = 35.896907216494846\n",
      "Pub_Cnt_Total:Double                              = 31.0\n",
      "Trail_Cnt_Total:Double                            = 7.0\n",
      "OpenPayment_Amt_Total:Double                      = 8951.9\n",
      "OpenPayment_Amt_Consulting:Double                 = 0.0\n",
      "OpenPayment_Amt_Research:Double                   = 0.0\n",
      "OpenPayment_Amt_Speaker:Double                    = 0.0\n",
      "Average_Total_Physician_From_Any:Double           = 72.13131313131314\n",
      "pct_phyn_gender_male:Double                       = 0.6428571428571429\n",
      "AllAge_scrRate:Double                             = 0.6688091511043871\n",
      "HospBedsPer1K:Double                              = 2.6538596153259277\n",
      "RegNursesPer1K:Double                             = 4.61435604095459\n",
      "HospEmplPer1K:Double                              = 16.723722457885742\n",
      "pctAccptMedicare:Double                           = 1.0\n",
      "pctRprtQM:Double                                  = 0.10352789330068023\n",
      "pctUseEHR:Double                                  = 0.07473932041038128\n",
      "pctMMCP:Double                                    = 0.0\n",
      "hasNatCompCancerNetwork:Double                    = 0.0\n",
      "hasNCICancerCenter:Double                         = 0.0\n",
      "Number_of_Physicians_InScope_z:Double             = -0.5481485818691899\n",
      "Average_Physician_Practice_Years_InScope_z:Double = 1.5770184129582487\n",
      "Average_GroupPractice_Size_z:Double               = -0.6488703167141247\n",
      "Pub_Cnt_Total_z:Double                            = -0.351580965726979\n",
      "Trail_Cnt_Total_z:Double                          = -0.4595727791626524\n",
      "OpenPayment_Amt_Total_z:Double                    = -0.3063526721667751\n",
      "OpenPayment_Amt_Consulting_z:Double               = -0.4363966699801213\n",
      "OpenPayment_Amt_Research_z:Double                 = -0.2978503601402418\n",
      "OpenPayment_Amt_Speaker_z:Double                  = -0.41384156544588385\n",
      "Average_Total_Physician_From_Any_z:Double         = 0.122013798146762\n",
      "pct_phyn_gender_male_z:Double                     = -0.12293007597881947\n",
      "AllAge_scrRate_z:Double                           = -0.37522416726275354\n",
      "HospBedsPer1K_z:Double                            = 1.4605925226937069\n",
      "RegNursesPer1K_z:Double                           = 0.5536275409835778\n",
      "HospEmplPer1K_z:Double                            = 0.6579855753879957\n",
      "pctAccptMedicare_z:Double                         = 1.2972300877029685\n",
      "pctRprtQM_z:Double                                = -1.1134515193336048\n",
      "pctUseEHR_z:Double                                = -1.178295629430133\n",
      "pctMMCP_z:Double                                  = -0.28057531087054616\n",
      "hasNatCompCancerNetwork_z:Double                  = -0.15384615384615385\n",
      "hasNCICancerCenter_z:Double                       = -0.2201927530252721\n"
     ]
    }
   ],
   "source": [
    "a.peek()"
   ]
  },
  {
   "cell_type": "code",
   "execution_count": 15,
   "metadata": {
    "collapsed": false
   },
   "outputs": [],
   "source": [
    "        all_vars = [\n",
    "            \"Number_of_Physicians_InScope\",\n",
    "            \"Average_Physician_Practice_Years_InScope\",\n",
    "            \"Average_GroupPractice_Size\",\n",
    "            \"Pub_Cnt_Total\",\n",
    "            \"Trail_Cnt_Total\",\n",
    "            \"OpenPayment_Amt_Total\",\n",
    "            \"OpenPayment_Amt_Consulting\",\n",
    "            \"OpenPayment_Amt_Research\",\n",
    "            \"OpenPayment_Amt_Speaker\",\n",
    "            \"Average_Total_Physician_From_Any\",\n",
    "            \"pct_phyn_gender_male\",\n",
    "            \"AllAge_scrRate\",\n",
    "            \"HospBedsPer1K\",\n",
    "            \"RegNursesPer1K\",\n",
    "            \"HospEmplPer1K\",\n",
    "            \"pctAccptMedicare\",\n",
    "            \"pctRprtQM\",\n",
    "            \"pctUseEHR\",\n",
    "            \"pctMMCP\",\n",
    "            \"hasNatCompCancerNetwork\",\n",
    "            \"hasNCICancerCenter\"\n",
    "        ]"
   ]
  },
  {
   "cell_type": "code",
   "execution_count": 16,
   "metadata": {
    "collapsed": false
   },
   "outputs": [],
   "source": [
    "b=a.select(*(['hrrnum'] + all_vars)).smvUnpivot(*all_vars)"
   ]
  },
  {
   "cell_type": "code",
   "execution_count": 17,
   "metadata": {
    "collapsed": false
   },
   "outputs": [
    {
     "name": "stdout",
     "output_type": "stream",
     "text": [
      "hrrnum:String = 335\n",
      "column:String = AllAge_scrRate\n",
      "value:Double  = 0.6688091511043871\n"
     ]
    }
   ],
   "source": [
    "b.peek()"
   ]
  },
  {
   "cell_type": "code",
   "execution_count": 3,
   "metadata": {
    "collapsed": false
   },
   "outputs": [],
   "source": [
    "    c=df('GeoVarDevivationPilot')"
   ]
  },
  {
   "cell_type": "code",
   "execution_count": 4,
   "metadata": {
    "collapsed": false
   },
   "outputs": [
    {
     "name": "stdout",
     "output_type": "stream",
     "text": [
      "+------+--------------------+-------------------+-------------------+-------+-------------------+--------------------+\n",
      "|hrrnum|              column|              value|        country_avg|   rank|      country_value|         column_desc|\n",
      "+------+--------------------+-------------------+-------------------+-------+-------------------+--------------------+\n",
      "|   335|       HospEmplPer1K| 16.723722457885742| 14.798425728318382|   top3| 14.718438148498535|Number of hospita...|\n",
      "|   335|Average_Physician...|              29.66| 25.411402639705017|   top1|  25.16497562736956|Average physician...|\n",
      "|   335|           pctRprtQM|0.10352789330068023|0.28815042957943726|bottom2|0.29747630031776995|Percent of physic...|\n",
      "|   335|       HospBedsPer1K| 2.6538596153259277|  2.028627943184416|   top2|  2.033053398132324|Number of hospita...|\n",
      "|   335|Number_of_Physici...|              101.0|  269.6497175141243|bottom3|            56384.0|Number of physicians|\n",
      "|   335|           pctUseEHR|0.07473932041038128|0.26669771617639965|bottom1|0.26982092968137267|Percent of physic...|\n",
      "+------+--------------------+-------------------+-------------------+-------+-------------------+--------------------+\n",
      "\n"
     ]
    }
   ],
   "source": [
    "c.where(c.hrrnum==\"335\").show()"
   ]
  },
  {
   "cell_type": "code",
   "execution_count": 5,
   "metadata": {
    "collapsed": true
   },
   "outputs": [],
   "source": [
    "c.smvExportCsv(\"GeoVarDevivationPilot.csv\")"
   ]
  },
  {
   "cell_type": "code",
   "execution_count": null,
   "metadata": {
    "collapsed": true
   },
   "outputs": [],
   "source": []
  }
 ],
 "metadata": {
  "kernelspec": {
   "display_name": "Python 2",
   "language": "python",
   "name": "python2"
  },
  "language_info": {
   "codemirror_mode": {
    "name": "ipython",
    "version": 2
   },
   "file_extension": ".py",
   "mimetype": "text/x-python",
   "name": "python",
   "nbconvert_exporter": "python",
   "pygments_lexer": "ipython2",
   "version": "2.7.6"
  }
 },
 "nbformat": 4,
 "nbformat_minor": 1
}

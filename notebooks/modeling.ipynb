{
 "cells": [
  {
   "cell_type": "code",
   "execution_count": 6,
   "metadata": {
    "collapsed": false
   },
   "outputs": [],
   "source": [
    "a=df(\"HrrAnalysis\")"
   ]
  },
  {
   "cell_type": "code",
   "execution_count": 7,
   "metadata": {
    "collapsed": false
   },
   "outputs": [
    {
     "name": "stdout",
     "output_type": "stream",
     "text": [
      "geo_type:String                                 = hrr\n",
      "geo_value:String                                = 352\n",
      "geo_name:String                                 = Harrisburg, PA\n",
      "ptnt_cnt:Long                                   = 218\n",
      "ptnt_pct_use_per_neoadjuvant:Double             = 0.7333333492279053\n",
      "avg_her_cmplnt_drtn_adjuvant:Double             = 243.1081081081081\n",
      "ptnt_pct_use_per_1L:Double                      = 0.3125\n",
      "ptnt_pct_use_kad_2L:Double                      = 0.47999998927116394\n",
      "_ptnt_cnt:Long                                  = 218\n",
      "full_scr:Double                                 = 0.551622418879056\n",
      "parent_geo_type:String                          = country\n",
      "parent_geo_value:String                         = US\n",
      "parent_geo_name:String                          = US\n",
      "hrrnum:String                                   = 352\n",
      "Number_of_Physicians_InScope:Long               = 294\n",
      "Average_Physician_Practice_Years_InScope:Double = 25.545774647887324\n",
      "Average_GroupPractice_Size:Double               = 319.4878892733564\n",
      "Pub_Cnt_Total:Long                              = 253\n",
      "Trail_Cnt_Total:Long                            = 44\n",
      "OpenPayment_Amt_Total:Double                    = 262377.19\n",
      "OpenPayment_Amt_Consulting:Double               = 4800.0\n",
      "OpenPayment_Amt_Research:Double                 = 184980.06\n",
      "OpenPayment_Amt_Speaker:Double                  = 47040.0\n",
      "Average_Total_Physician_From_Any:Double         = 53.831541218637994\n",
      "pct_phyn_gender_male:Double                     = 0.6\n",
      "AllAge_scrRate:Double                           = 0.7301367494233054\n",
      "HospBedsPer1K:Float                             = 1.6170831\n",
      "RegNursesPer1K:Float                            = 3.6343093\n",
      "HospEmplPer1K:Float                             = 15.526273\n",
      "pctAccptMedicare:Double                         = 0.7813301773707906\n",
      "pctRprtQM:Double                                = 0.26725205933328583\n",
      "pctUseEHR:Double                                = 0.08194555056812436\n",
      "pctMMCP:Double                                  = 0.0\n",
      "hasNatCompCancerNetwork:Integer                 = 0\n",
      "hasNCICancerCenter:Integer                      = 0\n"
     ]
    }
   ],
   "source": [
    "a.peek()"
   ]
  },
  {
   "cell_type": "code",
   "execution_count": 25,
   "metadata": {
    "collapsed": false
   },
   "outputs": [],
   "source": [
    "vars=[      \"ptnt_cnt\",\n",
    "            \"Number_of_Physicians_InScope\",\n",
    "            \"Average_Physician_Practice_Years_InScope\",\n",
    "            \"Average_GroupPractice_Size\",\n",
    "            \"Pub_Cnt_Total\",\n",
    "            \"Trail_Cnt_Total\",\n",
    "            \"OpenPayment_Amt_Total\",\n",
    "            \"OpenPayment_Amt_Consulting\",\n",
    "            \"OpenPayment_Amt_Research\",\n",
    "            \"OpenPayment_Amt_Speaker\",\n",
    "            \"Average_Total_Physician_From_Any\",\n",
    "            \"pct_phyn_gender_male\",\n",
    "            \"AllAge_scrRate\",\n",
    "            \"HospBedsPer1K\",\n",
    "            \"RegNursesPer1K\",\n",
    "            \"HospEmplPer1K\",\n",
    "            \"pctAccptMedicare\",\n",
    "            \"pctRprtQM\",\n",
    "            \"pctUseEHR\",\n",
    "            \"pctMMCP\",\n",
    "            \"hasNatCompCancerNetwork\",\n",
    "            \"hasNCICancerCenter\"]"
   ]
  },
  {
   "cell_type": "code",
   "execution_count": 3,
   "metadata": {
    "collapsed": true
   },
   "outputs": [],
   "source": [
    "d=a.select('full_scr', 'Number_of_Physicians_InScope_z').toPandas()"
   ]
  },
  {
   "cell_type": "code",
   "execution_count": 3,
   "metadata": {
    "collapsed": true
   },
   "outputs": [],
   "source": [
    "import pandas as pd\n",
    "import matplotlib.pyplot as plt\n",
    "%matplotlib inline"
   ]
  },
  {
   "cell_type": "code",
   "execution_count": 15,
   "metadata": {
    "collapsed": false
   },
   "outputs": [
    {
     "data": {
      "text/plain": [
       "<matplotlib.axes.AxesSubplot at 0x7f8dc270ad50>"
      ]
     },
     "execution_count": 15,
     "metadata": {},
     "output_type": "execute_result"
    },
    {
     "data": {
      "image/png": "[encoded data removed]",
      "text/plain": [
       "<matplotlib.figure.Figure at 0x7f8dc2584510>"
      ]
     },
     "metadata": {},
     "output_type": "display_data"
    }
   ],
   "source": [
    "a.select('full_scr', 'OpenPayment_Amt_Research_z').toPandas().plot.scatter(0, 1)"
   ]
  },
  {
   "cell_type": "code",
   "execution_count": 19,
   "metadata": {
    "collapsed": false
   },
   "outputs": [
    {
     "data": {
      "text/html": [
       "<div>\n",
       "<table border=\"1\" class=\"dataframe\">\n",
       "  <thead>\n",
       "    <tr style=\"text-align: right;\">\n",
       "      <th></th>\n",
       "      <th>geo_type</th>\n",
       "      <th>geo_value</th>\n",
       "      <th>geo_name</th>\n",
       "      <th>ptnt_cnt</th>\n",
       "      <th>ptnt_pct_use_per_neoadjuvant</th>\n",
       "      <th>avg_her_cmplnt_drtn_adjuvant</th>\n",
       "      <th>ptnt_pct_use_per_1L</th>\n",
       "      <th>ptnt_pct_use_kad_2L</th>\n",
       "      <th>_ptnt_cnt</th>\n",
       "      <th>full_scr</th>\n",
       "      <th>parent_geo_type</th>\n",
       "      <th>parent_geo_value</th>\n",
       "      <th>parent_geo_name</th>\n",
       "      <th>hrrnum</th>\n",
       "      <th>Number_of_Physicians_InScope_z</th>\n",
       "      <th>Average_Physician_Practice_Years_InScope_z</th>\n",
       "      <th>Average_GroupPractice_Size_z</th>\n",
       "      <th>Pub_Cnt_Total_z</th>\n",
       "      <th>Trail_Cnt_Total_z</th>\n",
       "      <th>OpenPayment_Amt_Total_z</th>\n",
       "      <th>OpenPayment_Amt_Research_z</th>\n",
       "      <th>OpenPayment_Amt_Speaker_z</th>\n",
       "      <th>Average_Total_Physician_From_Any_z</th>\n",
       "      <th>pct_phyn_gender_male_z</th>\n",
       "      <th>AllAge_scrRate_z</th>\n",
       "      <th>HospBedsPer1K_z</th>\n",
       "    </tr>\n",
       "  </thead>\n",
       "  <tbody>\n",
       "    <tr>\n",
       "      <th>0</th>\n",
       "      <td>hrr</td>\n",
       "      <td>385</td>\n",
       "      <td>Austin, TX</td>\n",
       "      <td>589</td>\n",
       "      <td>0.920000</td>\n",
       "      <td>291.414773</td>\n",
       "      <td>0.450382</td>\n",
       "      <td>0.511111</td>\n",
       "      <td>589</td>\n",
       "      <td>0.991150</td>\n",
       "      <td>country</td>\n",
       "      <td>US</td>\n",
       "      <td>US</td>\n",
       "      <td>385</td>\n",
       "      <td>-0.385638</td>\n",
       "      <td>-1.315427</td>\n",
       "      <td>-0.145847</td>\n",
       "      <td>-0.343698</td>\n",
       "      <td>-0.405930</td>\n",
       "      <td>-0.299759</td>\n",
       "      <td>-0.292057</td>\n",
       "      <td>-0.378708</td>\n",
       "      <td>-0.386331</td>\n",
       "      <td>0.336525</td>\n",
       "      <td>-0.303945</td>\n",
       "      <td>-0.843691</td>\n",
       "    </tr>\n",
       "    <tr>\n",
       "      <th>1</th>\n",
       "      <td>hrr</td>\n",
       "      <td>222</td>\n",
       "      <td>Portland, ME</td>\n",
       "      <td>238</td>\n",
       "      <td>0.961538</td>\n",
       "      <td>224.504202</td>\n",
       "      <td>0.464286</td>\n",
       "      <td>0.575758</td>\n",
       "      <td>238</td>\n",
       "      <td>0.955752</td>\n",
       "      <td>country</td>\n",
       "      <td>US</td>\n",
       "      <td>US</td>\n",
       "      <td>222</td>\n",
       "      <td>-0.281631</td>\n",
       "      <td>-0.476725</td>\n",
       "      <td>-0.441864</td>\n",
       "      <td>-0.326619</td>\n",
       "      <td>-0.149638</td>\n",
       "      <td>-0.241876</td>\n",
       "      <td>-0.241303</td>\n",
       "      <td>0.051124</td>\n",
       "      <td>-0.414890</td>\n",
       "      <td>-1.843804</td>\n",
       "      <td>1.845482</td>\n",
       "      <td>-0.458334</td>\n",
       "    </tr>\n",
       "    <tr>\n",
       "      <th>2</th>\n",
       "      <td>hrr</td>\n",
       "      <td>369</td>\n",
       "      <td>Spartanburg, SC</td>\n",
       "      <td>187</td>\n",
       "      <td>0.913043</td>\n",
       "      <td>248.554455</td>\n",
       "      <td>0.421053</td>\n",
       "      <td>0.400000</td>\n",
       "      <td>187</td>\n",
       "      <td>0.923304</td>\n",
       "      <td>country</td>\n",
       "      <td>US</td>\n",
       "      <td>US</td>\n",
       "      <td>369</td>\n",
       "      <td>-0.743162</td>\n",
       "      <td>1.983874</td>\n",
       "      <td>0.066166</td>\n",
       "      <td>-0.369974</td>\n",
       "      <td>-0.364208</td>\n",
       "      <td>-0.303121</td>\n",
       "      <td>-0.295110</td>\n",
       "      <td>-0.413842</td>\n",
       "      <td>-0.828857</td>\n",
       "      <td>-0.716860</td>\n",
       "      <td>0.685385</td>\n",
       "      <td>0.538753</td>\n",
       "    </tr>\n",
       "    <tr>\n",
       "      <th>3</th>\n",
       "      <td>hrr</td>\n",
       "      <td>172</td>\n",
       "      <td>Springfield, IL</td>\n",
       "      <td>258</td>\n",
       "      <td>0.972222</td>\n",
       "      <td>232.544776</td>\n",
       "      <td>0.465517</td>\n",
       "      <td>0.318182</td>\n",
       "      <td>258</td>\n",
       "      <td>0.902655</td>\n",
       "      <td>country</td>\n",
       "      <td>US</td>\n",
       "      <td>US</td>\n",
       "      <td>172</td>\n",
       "      <td>-0.278380</td>\n",
       "      <td>0.746947</td>\n",
       "      <td>-0.193900</td>\n",
       "      <td>0.139783</td>\n",
       "      <td>0.136455</td>\n",
       "      <td>-0.292070</td>\n",
       "      <td>-0.284006</td>\n",
       "      <td>-0.413842</td>\n",
       "      <td>0.271701</td>\n",
       "      <td>-0.045461</td>\n",
       "      <td>-0.122777</td>\n",
       "      <td>1.228370</td>\n",
       "    </tr>\n",
       "    <tr>\n",
       "      <th>4</th>\n",
       "      <td>hrr</td>\n",
       "      <td>145</td>\n",
       "      <td>Augusta, GA</td>\n",
       "      <td>335</td>\n",
       "      <td>0.916667</td>\n",
       "      <td>270.248804</td>\n",
       "      <td>0.507463</td>\n",
       "      <td>0.400000</td>\n",
       "      <td>335</td>\n",
       "      <td>0.979351</td>\n",
       "      <td>country</td>\n",
       "      <td>US</td>\n",
       "      <td>US</td>\n",
       "      <td>145</td>\n",
       "      <td>-0.583901</td>\n",
       "      <td>1.208307</td>\n",
       "      <td>-0.575082</td>\n",
       "      <td>-0.372602</td>\n",
       "      <td>-0.453612</td>\n",
       "      <td>-0.304542</td>\n",
       "      <td>-0.296348</td>\n",
       "      <td>-0.413842</td>\n",
       "      <td>-0.314490</td>\n",
       "      <td>0.401126</td>\n",
       "      <td>0.597993</td>\n",
       "      <td>1.097742</td>\n",
       "    </tr>\n",
       "  </tbody>\n",
       "</table>\n",
       "</div>"
      ],
      "text/plain": [
       "  geo_type geo_value         geo_name  ptnt_cnt  ptnt_pct_use_per_neoadjuvant  \\\n",
       "0      hrr       385       Austin, TX       589                      0.920000   \n",
       "1      hrr       222     Portland, ME       238                      0.961538   \n",
       "2      hrr       369  Spartanburg, SC       187                      0.913043   \n",
       "3      hrr       172  Springfield, IL       258                      0.972222   \n",
       "4      hrr       145      Augusta, GA       335                      0.916667   \n",
       "\n",
       "   avg_her_cmplnt_drtn_adjuvant  ptnt_pct_use_per_1L  ptnt_pct_use_kad_2L  \\\n",
       "0                    291.414773             0.450382             0.511111   \n",
       "1                    224.504202             0.464286             0.575758   \n",
       "2                    248.554455             0.421053             0.400000   \n",
       "3                    232.544776             0.465517             0.318182   \n",
       "4                    270.248804             0.507463             0.400000   \n",
       "\n",
       "   _ptnt_cnt  full_scr parent_geo_type parent_geo_value parent_geo_name  \\\n",
       "0        589  0.991150         country               US              US   \n",
       "1        238  0.955752         country               US              US   \n",
       "2        187  0.923304         country               US              US   \n",
       "3        258  0.902655         country               US              US   \n",
       "4        335  0.979351         country               US              US   \n",
       "\n",
       "  hrrnum  Number_of_Physicians_InScope_z  \\\n",
       "0    385                       -0.385638   \n",
       "1    222                       -0.281631   \n",
       "2    369                       -0.743162   \n",
       "3    172                       -0.278380   \n",
       "4    145                       -0.583901   \n",
       "\n",
       "   Average_Physician_Practice_Years_InScope_z  Average_GroupPractice_Size_z  \\\n",
       "0                                   -1.315427                     -0.145847   \n",
       "1                                   -0.476725                     -0.441864   \n",
       "2                                    1.983874                      0.066166   \n",
       "3                                    0.746947                     -0.193900   \n",
       "4                                    1.208307                     -0.575082   \n",
       "\n",
       "   Pub_Cnt_Total_z  Trail_Cnt_Total_z  OpenPayment_Amt_Total_z  \\\n",
       "0        -0.343698          -0.405930                -0.299759   \n",
       "1        -0.326619          -0.149638                -0.241876   \n",
       "2        -0.369974          -0.364208                -0.303121   \n",
       "3         0.139783           0.136455                -0.292070   \n",
       "4        -0.372602          -0.453612                -0.304542   \n",
       "\n",
       "   OpenPayment_Amt_Research_z  OpenPayment_Amt_Speaker_z  \\\n",
       "0                   -0.292057                  -0.378708   \n",
       "1                   -0.241303                   0.051124   \n",
       "2                   -0.295110                  -0.413842   \n",
       "3                   -0.284006                  -0.413842   \n",
       "4                   -0.296348                  -0.413842   \n",
       "\n",
       "   Average_Total_Physician_From_Any_z  pct_phyn_gender_male_z  \\\n",
       "0                           -0.386331                0.336525   \n",
       "1                           -0.414890               -1.843804   \n",
       "2                           -0.828857               -0.716860   \n",
       "3                            0.271701               -0.045461   \n",
       "4                           -0.314490                0.401126   \n",
       "\n",
       "   AllAge_scrRate_z  HospBedsPer1K_z  \n",
       "0         -0.303945        -0.843691  \n",
       "1          1.845482        -0.458334  \n",
       "2          0.685385         0.538753  \n",
       "3         -0.122777         1.228370  \n",
       "4          0.597993         1.097742  "
      ]
     },
     "execution_count": 19,
     "metadata": {},
     "output_type": "execute_result"
    }
   ],
   "source": [
    "a.where(a.full_scr >= 0.90).toPandas().head()"
   ]
  },
  {
   "cell_type": "code",
   "execution_count": 9,
   "metadata": {
    "collapsed": false
   },
   "outputs": [
    {
     "name": "stderr",
     "output_type": "stream",
     "text": [
      "/usr/local/lib/python2.7/dist-packages/numpy/core/fromnumeric.py:2699: VisibleDeprecationWarning: `rank` is deprecated; use the `ndim` attribute or function instead. To find the rank of a matrix see `numpy.linalg.matrix_rank`.\n",
      "  VisibleDeprecationWarning)\n"
     ]
    }
   ],
   "source": [
    "import numpy as np\n",
    "from sklearn import datasets, linear_model"
   ]
  },
  {
   "cell_type": "code",
   "execution_count": 10,
   "metadata": {
    "collapsed": false
   },
   "outputs": [],
   "source": [
    "b=a.toPandas()"
   ]
  },
  {
   "cell_type": "code",
   "execution_count": 59,
   "metadata": {
    "collapsed": false
   },
   "outputs": [],
   "source": [
    "vars=[\n",
    "            \"Number_of_Physicians_InScope\",\n",
    "            \"Average_Physician_Practice_Years_InScope\",\n",
    "            \"Pub_Cnt_Total\",\n",
    "            \"Trail_Cnt_Total\",\n",
    "            \"OpenPayment_Amt_Total\",\n",
    "            \"OpenPayment_Amt_Consulting\",\n",
    "            \"OpenPayment_Amt_Research\",\n",
    "            \"OpenPayment_Amt_Speaker\",\n",
    "            \"AllAge_scrRate\",\n",
    "            \"HospBedsPer1K\",\n",
    "            \"RegNursesPer1K\",\n",
    "            \"HospEmplPer1K\",\n",
    "            \"pctAccptMedicare\",\n",
    "            \"pctRprtQM\",\n",
    "            \"pctUseEHR\",\n",
    "            \"pctMMCP\",\n",
    "            \"hasNatCompCancerNetwork\",\n",
    "            \"hasNCICancerCenter\"]"
   ]
  },
  {
   "cell_type": "code",
   "execution_count": 60,
   "metadata": {
    "collapsed": false
   },
   "outputs": [],
   "source": [
    "X = np.nan_to_num(np.array(b[vars]))"
   ]
  },
  {
   "cell_type": "code",
   "execution_count": 12,
   "metadata": {
    "collapsed": true
   },
   "outputs": [],
   "source": [
    "Y = b['full_scr']"
   ]
  },
  {
   "cell_type": "code",
   "execution_count": 61,
   "metadata": {
    "collapsed": false
   },
   "outputs": [
    {
     "data": {
      "text/plain": [
       "Lasso(alpha=0.005, copy_X=True, fit_intercept=True, max_iter=1000,\n",
       "   normalize=False, positive=False, precompute='auto', tol=0.0001,\n",
       "   warm_start=False)"
      ]
     },
     "execution_count": 61,
     "metadata": {},
     "output_type": "execute_result"
    }
   ],
   "source": [
    "regr = linear_model.Lasso(alpha=0.005)\n",
    "regr.fit(X,Y)"
   ]
  },
  {
   "cell_type": "code",
   "execution_count": 62,
   "metadata": {
    "collapsed": false
   },
   "outputs": [
    {
     "data": {
      "text/plain": [
       "array([ -1.18815389e-04,   8.50378668e-03,   6.56059490e-05,\n",
       "         1.36595669e-04,  -8.23761471e-09,  -2.81563550e-07,\n",
       "         6.63989057e-09,  -2.04296287e-08,  -0.00000000e+00,\n",
       "        -0.00000000e+00,  -4.06157493e-02,   0.00000000e+00,\n",
       "        -0.00000000e+00,   0.00000000e+00,  -0.00000000e+00,\n",
       "         0.00000000e+00,  -0.00000000e+00,  -0.00000000e+00])"
      ]
     },
     "execution_count": 62,
     "metadata": {},
     "output_type": "execute_result"
    }
   ],
   "source": [
    "regr.coef_"
   ]
  },
  {
   "cell_type": "code",
   "execution_count": 37,
   "metadata": {
    "collapsed": false
   },
   "outputs": [
    {
     "data": {
      "text/plain": [
       "0.069893226211003828"
      ]
     },
     "execution_count": 37,
     "metadata": {},
     "output_type": "execute_result"
    }
   ],
   "source": [
    "np.mean((regr.predict(X) - Y) ** 2)"
   ]
  },
  {
   "cell_type": "code",
   "execution_count": 38,
   "metadata": {
    "collapsed": false
   },
   "outputs": [
    {
     "data": {
      "text/plain": [
       "0.49883859198583425"
      ]
     },
     "execution_count": 38,
     "metadata": {},
     "output_type": "execute_result"
    }
   ],
   "source": [
    "regr.intercept_"
   ]
  },
  {
   "cell_type": "code",
   "execution_count": 63,
   "metadata": {
    "collapsed": false
   },
   "outputs": [
    {
     "data": {
      "text/plain": [
       "['Number_of_Physicians_InScope',\n",
       " 'Average_Physician_Practice_Years_InScope',\n",
       " 'Pub_Cnt_Total',\n",
       " 'Trail_Cnt_Total',\n",
       " 'OpenPayment_Amt_Total',\n",
       " 'OpenPayment_Amt_Consulting',\n",
       " 'OpenPayment_Amt_Research',\n",
       " 'OpenPayment_Amt_Speaker',\n",
       " 'AllAge_scrRate',\n",
       " 'HospBedsPer1K',\n",
       " 'RegNursesPer1K',\n",
       " 'HospEmplPer1K',\n",
       " 'pctAccptMedicare',\n",
       " 'pctRprtQM',\n",
       " 'pctUseEHR',\n",
       " 'pctMMCP',\n",
       " 'hasNatCompCancerNetwork',\n",
       " 'hasNCICancerCenter']"
      ]
     },
     "execution_count": 63,
     "metadata": {},
     "output_type": "execute_result"
    }
   ],
   "source": [
    "vars"
   ]
  }
 ],
 "metadata": {
  "kernelspec": {
   "display_name": "Python 2",
   "language": "python",
   "name": "python2"
  }
 },
 "nbformat": 4,
 "nbformat_minor": 1
}

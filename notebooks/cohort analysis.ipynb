{
 "cells": [
  {
   "cell_type": "code",
   "execution_count": 1,
   "metadata": {
    "collapsed": false
   },
   "outputs": [],
   "source": [
    "lot = df('magbc.sha.byhsa.LotRgmnReGroup')"
   ]
  },
  {
   "cell_type": "code",
   "execution_count": 2,
   "metadata": {
    "collapsed": false
   },
   "outputs": [
    {
     "name": "stdout",
     "output_type": "stream",
     "text": [
      "Histogram of new_lot_rgmn: String sort by Key\n",
      "key                      count      Pct    cumCount   cumPct\n",
      "HER mono                 19052   23.17%       19052   23.17%\n",
      "HER+AC                     346    0.42%       19398   23.59%\n",
      "HER+FEC                    139    0.17%       19537   23.76%\n",
      "HER+KAD                   1418    1.72%       20955   25.48%\n",
      "HER+OTHER                 2720    3.31%       23675   28.79%\n",
      "HER+PER+/-OTHER           4633    5.63%       28308   34.42%\n",
      "HER+PER+KAD               1033    1.26%       29341   35.68%\n",
      "HER+PER+TAXANE           19413   23.60%       48754   59.28%\n",
      "HER+TAXANE                8002    9.73%       56756   69.01%\n",
      "KAD                       2618    3.18%       59374   72.19%\n",
      "KAD+OTHER                  307    0.37%       59681   72.57%\n",
      "KAD+PER                     32    0.04%       59713   72.61%\n",
      "OTHER                    11666   14.18%       71379   86.79%\n",
      "PER+/-OTHER                 64    0.08%       71443   86.87%\n",
      "PER+TAXANE                  40    0.05%       71483   86.92%\n",
      "TCH                      10759   13.08%       82242  100.00%\n",
      "-------------------------------------------------\n"
     ]
    }
   ],
   "source": [
    "lot.smvHist('new_lot_rgmn')"
   ]
  },
  {
   "cell_type": "code",
   "execution_count": 3,
   "metadata": {
    "collapsed": true
   },
   "outputs": [],
   "source": [
    "lot = lot.withColumn('lot_dur', datediff(col('lot_lst_dt'),col('lot_frst_dt')))"
   ]
  },
  {
   "cell_type": "code",
   "execution_count": 4,
   "metadata": {
    "collapsed": false
   },
   "outputs": [],
   "source": [
    "from pyspark.sql import Window"
   ]
  },
  {
   "cell_type": "code",
   "execution_count": 5,
   "metadata": {
    "collapsed": false,
    "scrolled": true
   },
   "outputs": [],
   "source": [
    "w = Window.partitionBy('ptnt_gid').orderBy('lot')"
   ]
  },
  {
   "cell_type": "code",
   "execution_count": 6,
   "metadata": {
    "collapsed": false
   },
   "outputs": [],
   "source": [
    "lot = lot.withColumn('nextLot', lead(col('lot_frst_dt')).over(w))"
   ]
  },
  {
   "cell_type": "code",
   "execution_count": 7,
   "metadata": {
    "collapsed": false
   },
   "outputs": [],
   "source": [
    "lots = lot.groupBy('ptnt_gid').agg(min('lot').alias('first_lot'), max('lot').alias('end_lot'), countDistinct('lot').alias('lotcnt'))"
   ]
  },
  {
   "cell_type": "code",
   "execution_count": 8,
   "metadata": {
    "collapsed": false
   },
   "outputs": [],
   "source": [
    "lot = lot.smvJoinByKey(lots, ['ptnt_gid'],'leftouter')"
   ]
  },
  {
   "cell_type": "code",
   "execution_count": null,
   "metadata": {
    "collapsed": true
   },
   "outputs": [],
   "source": []
  },
  {
   "cell_type": "code",
   "execution_count": 9,
   "metadata": {
    "collapsed": false
   },
   "outputs": [
    {
     "name": "stdout",
     "output_type": "stream",
     "text": [
      "Histogram of cohort: String sort by Key\n",
      "key                      count      Pct    cumCount   cumPct\n",
      "1L                       18010   21.90%       18010   21.90%\n",
      "2Lplus                   14818   18.02%       32828   39.92%\n",
      "adjuvant                 41001   49.85%       73829   89.77%\n",
      "neoadjuvant               8413   10.23%       82242  100.00%\n",
      "-------------------------------------------------\n"
     ]
    }
   ],
   "source": [
    "lot.smvHist('cohort')"
   ]
  },
  {
   "cell_type": "code",
   "execution_count": 10,
   "metadata": {
    "collapsed": true
   },
   "outputs": [],
   "source": [
    "firstlot = lot.smvGroupBy('ptnt_gid').smvTopNRecs(1, col('lot').asc())"
   ]
  },
  {
   "cell_type": "code",
   "execution_count": 11,
   "metadata": {
    "collapsed": true
   },
   "outputs": [],
   "source": [
    "firstlot = firstlot.filter((col('lot_frst_dt').smvYear() == 2013) | (col('lot_frst_dt').smvYear() == 2014))"
   ]
  },
  {
   "cell_type": "code",
   "execution_count": 12,
   "metadata": {
    "collapsed": false
   },
   "outputs": [
    {
     "name": "stdout",
     "output_type": "stream",
     "text": [
      "Histogram of cohort: String sort by Key\n",
      "key                      count      Pct    cumCount   cumPct\n",
      "1L                        5541   20.52%        5541   20.52%\n",
      "2Lplus                    3126   11.57%        8667   32.09%\n",
      "adjuvant                 15484   57.33%       24151   89.42%\n",
      "neoadjuvant               2858   10.58%       27009  100.00%\n",
      "-------------------------------------------------\n"
     ]
    }
   ],
   "source": [
    "firstlot.smvHist('cohort')"
   ]
  },
  {
   "cell_type": "code",
   "execution_count": 13,
   "metadata": {
    "collapsed": false
   },
   "outputs": [
    {
     "data": {
      "text/plain": [
       "27009"
      ]
     },
     "execution_count": 13,
     "metadata": {},
     "output_type": "execute_result"
    }
   ],
   "source": [
    "firstlot.count()"
   ]
  },
  {
   "cell_type": "code",
   "execution_count": 14,
   "metadata": {
    "collapsed": true
   },
   "outputs": [],
   "source": [
    "early = firstlot.filter(col('lot')<1.0)"
   ]
  },
  {
   "cell_type": "code",
   "execution_count": 15,
   "metadata": {
    "collapsed": false
   },
   "outputs": [],
   "source": [
    "cohort1 = firstlot.filter(((col('new_lot_rgmn') == 'HER+PER+TAXANE') & (col('lot') == 0.1)) | ((col('new_lot_rgmn').like('HER%')) & (col('lot') == 0.2)))"
   ]
  },
  {
   "cell_type": "code",
   "execution_count": 16,
   "metadata": {
    "collapsed": true
   },
   "outputs": [],
   "source": [
    "cohort2 = firstlot.filter(((col('new_lot_rgmn') == 'HER+PER+/-OTHER') & (col('lot') == 1.0)) | ((col('new_lot_rgmn')=='KAD') & (col('lot') > 1.0)))"
   ]
  },
  {
   "cell_type": "code",
   "execution_count": 17,
   "metadata": {
    "collapsed": false
   },
   "outputs": [],
   "source": [
    "cohort1 = cohort1.select('ptnt_gid').distinct()"
   ]
  },
  {
   "cell_type": "code",
   "execution_count": 18,
   "metadata": {
    "collapsed": false
   },
   "outputs": [
    {
     "data": {
      "text/plain": [
       "8950"
      ]
     },
     "execution_count": 18,
     "metadata": {},
     "output_type": "execute_result"
    }
   ],
   "source": [
    "cohort1.count()"
   ]
  },
  {
   "cell_type": "code",
   "execution_count": 19,
   "metadata": {
    "collapsed": true
   },
   "outputs": [],
   "source": [
    "cohort2 = cohort2.select('ptnt_gid').distinct()"
   ]
  },
  {
   "cell_type": "code",
   "execution_count": null,
   "metadata": {
    "collapsed": false
   },
   "outputs": [
    {
     "data": {
      "text/plain": [
       "827"
      ]
     },
     "execution_count": 20,
     "metadata": {},
     "output_type": "execute_result"
    }
   ],
   "source": [
    "cohort2.count()"
   ]
  },
  {
   "cell_type": "markdown",
   "metadata": {},
   "source": [
    "#### which stage do patients start in"
   ]
  },
  {
   "cell_type": "code",
   "execution_count": null,
   "metadata": {
    "collapsed": false
   },
   "outputs": [],
   "source": [
    "cohort1.smvJoinByKey(firstlot,['ptnt_gid'],'leftouter').smvHist('cohort')"
   ]
  },
  {
   "cell_type": "code",
   "execution_count": null,
   "metadata": {
    "collapsed": false
   },
   "outputs": [],
   "source": [
    "cohort2.smvJoinByKey(firstlot,['ptnt_gid'],'leftouter').smvHist('cohort')"
   ]
  },
  {
   "cell_type": "markdown",
   "metadata": {},
   "source": [
    "#### lot dur"
   ]
  },
  {
   "cell_type": "code",
   "execution_count": null,
   "metadata": {
    "collapsed": false
   },
   "outputs": [],
   "source": [
    "cohort1.smvJoinByKey(firstlot,['ptnt_gid'],'inner').select('lot_dur').smvEdd()"
   ]
  },
  {
   "cell_type": "code",
   "execution_count": null,
   "metadata": {
    "collapsed": false
   },
   "outputs": [],
   "source": [
    "cohort2.smvJoinByKey(firstlot,['ptnt_gid'],'inner').select('lot_dur').smvEdd()"
   ]
  },
  {
   "cell_type": "markdown",
   "metadata": {},
   "source": [
    "#### diag2surg"
   ]
  },
  {
   "cell_type": "code",
   "execution_count": null,
   "metadata": {
    "collapsed": false
   },
   "outputs": [],
   "source": [
    "cohort1.smvJoinByKey(td,['ptnt_gid'],'leftouter').select(datediff(col('First_SurgeryDate'), col('First_BreastDiagDate')).alias('diag2surg')).smvEdd()"
   ]
  },
  {
   "cell_type": "code",
   "execution_count": null,
   "metadata": {
    "collapsed": false
   },
   "outputs": [],
   "source": [
    "cohort2.smvJoinByKey(td,['ptnt_gid'],'leftouter').select(datediff(col('First_SurgeryDate'), col('First_BreastDiagDate')).alias('diag2surg')).smvEdd()"
   ]
  },
  {
   "cell_type": "code",
   "execution_count": null,
   "metadata": {
    "collapsed": true
   },
   "outputs": [],
   "source": []
  },
  {
   "cell_type": "code",
   "execution_count": null,
   "metadata": {
    "collapsed": false
   },
   "outputs": [],
   "source": [
    "cohort1.smvJoinByKey(firstlot,['ptnt_gid'],'inner').withColumn('lotstr',col('end_lot').cast('string')).smvHist('lotstr')"
   ]
  },
  {
   "cell_type": "code",
   "execution_count": null,
   "metadata": {
    "collapsed": false
   },
   "outputs": [],
   "source": [
    "cohort2.smvJoinByKey(firstlot,['ptnt_gid'],'inner').withColumn('lotstr',col('end_lot').cast('string')).smvHist('lotstr')"
   ]
  },
  {
   "cell_type": "code",
   "execution_count": null,
   "metadata": {
    "collapsed": false
   },
   "outputs": [],
   "source": [
    "cohort1.smvJoinByKey(firstlot,['ptnt_gid'],'inner').withColumn('lotstr',col('lotcnt').cast('string')).smvHist('lotstr')"
   ]
  },
  {
   "cell_type": "code",
   "execution_count": null,
   "metadata": {
    "collapsed": false
   },
   "outputs": [],
   "source": [
    "cohort2.smvJoinByKey(firstlot,['ptnt_gid'],'inner').withColumn('lotstr',col('lotcnt').cast('string')).smvHist('lotstr')"
   ]
  },
  {
   "cell_type": "code",
   "execution_count": null,
   "metadata": {
    "collapsed": true
   },
   "outputs": [],
   "source": [
    "group1 = cohort1.smvJoinByKey(firstlot,['ptnt_gid'],'inner').filter(col('cohort') == 'neoadjuvant').select('ptnt_gid').distinct()"
   ]
  },
  {
   "cell_type": "code",
   "execution_count": null,
   "metadata": {
    "collapsed": true
   },
   "outputs": [],
   "source": [
    "group2 = cohort1.smvJoinByKey(firstlot,['ptnt_gid'],'inner').filter(col('cohort') == 'adjuvant').select('ptnt_gid').distinct()"
   ]
  },
  {
   "cell_type": "code",
   "execution_count": null,
   "metadata": {
    "collapsed": true
   },
   "outputs": [],
   "source": [
    "group3 = cohort2.smvJoinByKey(firstlot,['ptnt_gid'],'inner').filter(col('cohort') == '1L').select('ptnt_gid').distinct()"
   ]
  },
  {
   "cell_type": "code",
   "execution_count": null,
   "metadata": {
    "collapsed": true
   },
   "outputs": [],
   "source": [
    "group4 = cohort2.smvJoinByKey(firstlot,['ptnt_gid'],'inner').filter(col('cohort') == '2Lplus').select('ptnt_gid').distinct()"
   ]
  },
  {
   "cell_type": "code",
   "execution_count": null,
   "metadata": {
    "collapsed": true
   },
   "outputs": [],
   "source": [
    "group1.smvJoinByKey(firstlot,['ptnt_gid'],'inner').select('lot_dur').smvEdd()"
   ]
  },
  {
   "cell_type": "code",
   "execution_count": null,
   "metadata": {
    "collapsed": false
   },
   "outputs": [],
   "source": [
    "group1.smvJoinByKey(lot,['ptnt_gid'],'leftouter').where(col('cohort') == 'adjuvant').smvHist('new_lot_rgmn')"
   ]
  },
  {
   "cell_type": "code",
   "execution_count": null,
   "metadata": {
    "collapsed": false
   },
   "outputs": [],
   "source": [
    "group1.smvJoinByKey(lot,['ptnt_gid'],'leftouter').where(col('cohort') == '1L').smvHist('new_lot_rgmn')"
   ]
  },
  {
   "cell_type": "code",
   "execution_count": null,
   "metadata": {
    "collapsed": true
   },
   "outputs": [],
   "source": [
    "group1.smvJoinByKey(lot,['ptnt_gid'],'leftouter').where(col('lot') == 2.0).smvHist('new_lot_rgmn')"
   ]
  },
  {
   "cell_type": "code",
   "execution_count": null,
   "metadata": {
    "collapsed": true
   },
   "outputs": [],
   "source": [
    "group3.smvJoinByKey(lot,['ptnt_gid'],'leftouter').where(col('lot') == 2.0).smvHist('new_lot_rgmn')"
   ]
  },
  {
   "cell_type": "code",
   "execution_count": null,
   "metadata": {
    "collapsed": false
   },
   "outputs": [],
   "source": [
    "lot.where(col('cohort') == 'adjuvant').smvHist('new_lot_rgmn')"
   ]
  },
  {
   "cell_type": "code",
   "execution_count": null,
   "metadata": {
    "collapsed": true
   },
   "outputs": [],
   "source": []
  },
  {
   "cell_type": "markdown",
   "metadata": {},
   "source": [
    "# run above"
   ]
  },
  {
   "cell_type": "code",
   "execution_count": 8,
   "metadata": {
    "collapsed": false
   },
   "outputs": [],
   "source": [
    "first = lot.groupBy('ptnt_gid').agg(min(col('lot_frst_dt').smvYear()).alias('year'))"
   ]
  },
  {
   "cell_type": "code",
   "execution_count": 9,
   "metadata": {
    "collapsed": true
   },
   "outputs": [],
   "source": [
    "ptnts = first.where((col('year')==2013) | (col('year')==2014))"
   ]
  },
  {
   "cell_type": "code",
   "execution_count": 10,
   "metadata": {
    "collapsed": false
   },
   "outputs": [
    {
     "data": {
      "text/plain": [
       "27009"
      ]
     },
     "execution_count": 10,
     "metadata": {},
     "output_type": "execute_result"
    }
   ],
   "source": [
    "ptnts.count()"
   ]
  },
  {
   "cell_type": "code",
   "execution_count": 11,
   "metadata": {
    "collapsed": false
   },
   "outputs": [],
   "source": [
    "ptnts = ptnts.smvJoinByKey(lot,['ptnt_gid'],'leftouter')"
   ]
  },
  {
   "cell_type": "code",
   "execution_count": 12,
   "metadata": {
    "collapsed": true
   },
   "outputs": [
    {
     "name": "stdout",
     "output_type": "stream",
     "text": [
      "Histogram of lotstr: String sort by Key\n",
      "key                      count      Pct    cumCount   cumPct\n",
      "0.1                       5742   14.46%        5742   14.46%\n",
      "0.2                      19048   47.97%       24790   62.42%\n",
      "1.0                       8966   22.58%       33756   85.00%\n",
      "11.0                         1    0.00%       33757   85.00%\n",
      "2.0                       3215    8.10%       36972   93.10%\n",
      "3.0                       1425    3.59%       38397   96.69%\n",
      "4.0                        730    1.84%       39127   98.53%\n",
      "5.0                        280    0.71%       39407   99.23%\n",
      "6.0                        170    0.43%       39577   99.66%\n",
      "7.0                         86    0.22%       39663   99.88%\n",
      "8.0                         19    0.05%       39682   99.92%\n",
      "9.0                         30    0.08%       39712  100.00%\n",
      "-------------------------------------------------\n"
     ]
    }
   ],
   "source": [
    "ptnts.withColumn('lotstr',col('first_lot').cast('string')).smvHist('lotstr')"
   ]
  },
  {
   "cell_type": "code",
   "execution_count": null,
   "metadata": {
    "collapsed": true
   },
   "outputs": [],
   "source": []
  },
  {
   "cell_type": "code",
   "execution_count": 13,
   "metadata": {
    "collapsed": false
   },
   "outputs": [],
   "source": [
    "early = ptnts.where((col('first_lot')<1.0))"
   ]
  },
  {
   "cell_type": "code",
   "execution_count": 14,
   "metadata": {
    "collapsed": true
   },
   "outputs": [
    {
     "name": "stdout",
     "output_type": "stream",
     "text": [
      "ptnt_gid:String                    = 00000000000073531261\n",
      "year:Integer                       = 2014\n",
      "lot:Decimal(10,1)                  = 0.1\n",
      "ptnt_age:Integer                   = 54\n",
      "ptnt_gender:String                 = F\n",
      "ptnt_zip:String                    = 233\n",
      "ptnt_st:String                     = VA\n",
      "lot_frst_dt:Timestamp              = 2014-12-22 00:00:00.0\n",
      "lot_lst_dt:Timestamp               = 2015-04-20 00:00:00.0\n",
      "her_frst_dt:Timestamp              = 2014-12-22 00:00:00.0\n",
      "her_lst_dt:Timestamp               = 2015-04-20 00:00:00.0\n",
      "her_schedl:Integer                 = 7\n",
      "tot_her_inf:Integer                = 9\n",
      "tot_her_gap:Integer                = 119\n",
      "tot_c_her_inf:Integer              = 8\n",
      "tot_her_c_gap:Integer              = 63\n",
      "her_drtn:Decimal(10,2)             = 18.00\n",
      "her_cmplnt_drtn:Integer            = 64\n",
      "per_frst_dt:Timestamp              = null\n",
      "per_lst_dt:Timestamp               = null\n",
      "tot_per_inf:Integer                = 0\n",
      "tot_per_gap:Integer                = null\n",
      "tot_gap_per_inf:Integer            = null\n",
      "tot_per_c_gap:Integer              = null\n",
      "per_schedl:Integer                 = null\n",
      "per_drtn:Decimal(10,2)             = null\n",
      "per_cmplnt_drtn:Integer            = null\n",
      "kad_frst_dt:Timestamp              = null\n",
      "kad_lst_dt:Timestamp               = null\n",
      "tot_kad_inf:Integer                = 0\n",
      "tot_kad_gap:Integer                = null\n",
      "tot_gap_kad_inf:Integer            = null\n",
      "tot_kad_c_gap:Integer              = null\n",
      "kad_schedl:Integer                 = null\n",
      "kad_drtn:Decimal(10,2)             = null\n",
      "kad_cmplnt_drtn:Integer            = null\n",
      "tax_frst_dt:Timestamp              = 2014-12-22 00:00:00.0\n",
      "tax_lst_dt:Timestamp               = 2015-04-06 00:00:00.0\n",
      "tot_tax_inf:Integer                = 7\n",
      "surg_rmvl_fst_dt:Timestamp         = 2015-05-11 00:00:00.0\n",
      "surg_rmvl_lst_dt:Timestamp         = 2015-05-11 00:00:00.0\n",
      "tot_rmvl_surg:String               = 2\n",
      "surg_recons_frst_dt:Timestamp      = null\n",
      "surg_recons_lst_dt:Timestamp       = null\n",
      "hom_usage_bfr:Integer              = null\n",
      "hom_usage_inline:Integer           = null\n",
      "hom_usage_aftr:Integer             = null\n",
      "lot_frst_rgmn:String               = _HER_TAXT_DOX_CYT_CARP\n",
      "lot_rgmn:String                    = _HER_TAX\n",
      "prmry_phy_lot:String               = 00000000000001665449\n",
      "phyn_me_nbr_lot:String             = 7480186013\n",
      "phyn_spcl_desc_lot:String          = HEMATOLOGY/ONCOLOGY\n",
      "phyn_lst_nm_lot:String             = TAN\n",
      "phyn_frst_nm_lot:String            = VALIANT\n",
      "phyn_addr_lot:String               = 1503B N ROAD ST\n",
      "phyn_city_lot:String               = ELIZABETH CITY\n",
      "phyn_st_lot:String                 = NC\n",
      "phyn_region_lot:String             = null\n",
      "phyn_zip_cd_lot:String             = 27909\n",
      "phyn_age_lot:String                = null\n",
      "phyn_gender_lot:String             = M\n",
      "prmry_phyn:String                  = 00000000000001665449\n",
      "phyn_me_nbr:String                 = 7480186013\n",
      "phyn_spcl_desc:String              = HEMATOLOGY/ONCOLOGY\n",
      "phyn_lst_nm:String                 = TAN\n",
      "phyn_frst_nm:String                = VALIANT\n",
      "phyn_addr:String                   = 1503B N ROAD ST\n",
      "phyn_city:String                   = ELIZABETH CITY\n",
      "phyn_st:String                     = NC\n",
      "phyn_region:String                 = null\n",
      "phyn_zip_cde:String                = 27909\n",
      "phyn_age:String                    = null\n",
      "phyn_gender:String                 = M\n",
      "prmry_loc_lot:String               = CLINIC\n",
      "prmry_breast_loc:String            = CLINIC\n",
      "prmry_pyr_lot:String               = Third Party Managed Care\n",
      "prmry_breast_payer:String          = Third Party Managed Care\n",
      "ptnt_denovo_adj_flag:Integer       = null\n",
      "ptnt_denovo_1l_flag:Integer        = null\n",
      "persist_13m_flag:Integer           = 1\n",
      "p_ex:Integer                       = 0\n",
      "k_ex:Integer                       = 0\n",
      "frst_lot_uniden_met_flg:Integer    = 0\n",
      "frst_lot_uniden_no_met_flg:Integer = 0\n",
      "ld_tm:Timestamp                    = 2017-04-26 21:44:56.109\n",
      "tot_recons_surg:String             = null\n",
      "new_lot_rgmn:String                = HER+AC\n",
      "neo_adj_rgmn:String                = P+ACTH\n",
      "rgrp_lot_rgmn:String               = HER_plus\n",
      "zip:String                         = 27909\n",
      "cohort:String                      = neoadjuvant\n",
      "lot_dur:Integer                    = 119\n",
      "nextLot:Timestamp                  = 2015-05-18 00:00:00.0\n",
      "first_lot:Decimal(10,1)            = 0.1\n",
      "end_lot:Decimal(10,1)              = 0.2\n",
      "lotcnt:Long                        = 2\n"
     ]
    }
   ],
   "source": [
    "early.peek()"
   ]
  },
  {
   "cell_type": "code",
   "execution_count": 31,
   "metadata": {
    "collapsed": false
   },
   "outputs": [
    {
     "name": "stdout",
     "output_type": "stream",
     "text": [
      "Histogram of cohort: String sort by Key\n",
      "key                      count      Pct    cumCount   cumPct\n",
      "1L                        8477   21.35%        8477   21.35%\n",
      "2Lplus                   10667   26.86%       19144   48.21%\n",
      "adjuvant                 17710   44.60%       36854   92.80%\n",
      "neoadjuvant               2858    7.20%       39712  100.00%\n",
      "-------------------------------------------------\n"
     ]
    }
   ],
   "source": [
    "ptnts.smvHist('cohort')"
   ]
  },
  {
   "cell_type": "code",
   "execution_count": 22,
   "metadata": {
    "collapsed": true
   },
   "outputs": [],
   "source": [
    "meta = ptnts.smvJoinByKey(lot,['ptnt_gid'],'leftouter').where((col('cohort')=='1L') | (col('cohort')=='2Lplus'))"
   ]
  },
  {
   "cell_type": "code",
   "execution_count": 23,
   "metadata": {
    "collapsed": true
   },
   "outputs": [],
   "source": [
    "cohort1 = ptnts.where(((col('first_lot')=='neoadjuvant') & (col('new_lot_rgmn') == 'HER+PER+TAXANE')) | ((col('cohort')=='adjuvant') & (col('new_lot_rgmn').like('HER%'))))"
   ]
  },
  {
   "cell_type": "code",
   "execution_count": 24,
   "metadata": {
    "collapsed": false
   },
   "outputs": [
    {
     "data": {
      "text/plain": [
       "11109"
      ]
     },
     "execution_count": 24,
     "metadata": {},
     "output_type": "execute_result"
    }
   ],
   "source": [
    "cohort1.count()"
   ]
  },
  {
   "cell_type": "code",
   "execution_count": 25,
   "metadata": {
    "collapsed": false
   },
   "outputs": [],
   "source": [
    "cohort2 = meta.where(((col('cohort')=='1L') & (col('new_lot_rgmn') == 'HER+PER+/-OTHER')) | ((col('cohort')=='2Lplus') & (col('new_lot_rgmn')=='KAD')))"
   ]
  },
  {
   "cell_type": "code",
   "execution_count": 26,
   "metadata": {
    "collapsed": false
   },
   "outputs": [
    {
     "data": {
      "text/plain": [
       "1899"
      ]
     },
     "execution_count": 26,
     "metadata": {},
     "output_type": "execute_result"
    }
   ],
   "source": [
    "cohort2.count()"
   ]
  },
  {
   "cell_type": "code",
   "execution_count": 33,
   "metadata": {
    "collapsed": false
   },
   "outputs": [
    {
     "name": "stdout",
     "output_type": "stream",
     "text": [
      "Histogram of lotstr: String sort by Key\n",
      "key                      count      Pct    cumCount   cumPct\n",
      "0.1                       4128   37.16%        4128   37.16%\n",
      "0.2                       6981   62.84%       11109  100.00%\n",
      "-------------------------------------------------\n"
     ]
    }
   ],
   "source": [
    "cohort1.withColumn('lotstr',col('first_lot').cast('string')).smvHist('lotstr')"
   ]
  },
  {
   "cell_type": "code",
   "execution_count": 41,
   "metadata": {
    "collapsed": true
   },
   "outputs": [],
   "source": [
    "c1neo = cohort1.where(col('cohort') == 'neoadjuvant')"
   ]
  },
  {
   "cell_type": "code",
   "execution_count": 42,
   "metadata": {
    "collapsed": true
   },
   "outputs": [],
   "source": [
    "c1adj = cohort1.where(col('cohort') == 'adjuvant')"
   ]
  },
  {
   "cell_type": "code",
   "execution_count": 40,
   "metadata": {
    "collapsed": true
   },
   "outputs": [],
   "source": [
    "c1g1 = cohort1.select('ptnt_gid').smvJoinByKey(lot,['ptnt_gid'],'leftouter').where(col('cohort') == 'neoadjuvant')"
   ]
  },
  {
   "cell_type": "code",
   "execution_count": 39,
   "metadata": {
    "collapsed": true
   },
   "outputs": [],
   "source": [
    "c1g2 = cohort1.select('ptnt_gid').smvJoinByKey(lot,['ptnt_gid'],'leftouter').where(col('cohort') == 'adjuvant')"
   ]
  },
  {
   "cell_type": "code",
   "execution_count": 36,
   "metadata": {
    "collapsed": true
   },
   "outputs": [],
   "source": [
    "c1g3 = cohort1.select('ptnt_gid').smvJoinByKey(lot,['ptnt_gid'],'leftouter').where(col('cohort') == '1L')"
   ]
  },
  {
   "cell_type": "code",
   "execution_count": 37,
   "metadata": {
    "collapsed": true
   },
   "outputs": [],
   "source": [
    "c1g4 = cohort1.select('ptnt_gid').smvJoinByKey(lot,['ptnt_gid'],'leftouter').where(col('cohort') == '2Lplus')"
   ]
  },
  {
   "cell_type": "code",
   "execution_count": 38,
   "metadata": {
    "collapsed": false
   },
   "outputs": [
    {
     "name": "stdout",
     "output_type": "stream",
     "text": [
      "Histogram of cohort: String sort by Key\n",
      "key                      count      Pct    cumCount   cumPct\n",
      "1L                        1782   10.23%        1782   10.23%\n",
      "2Lplus                     779    4.47%        2561   14.71%\n",
      "adjuvant                 10724   61.59%       13285   76.29%\n",
      "neoadjuvant               4128   23.71%       17413  100.00%\n",
      "-------------------------------------------------\n"
     ]
    }
   ],
   "source": [
    "cohort1.select('ptnt_gid').smvJoinByKey(lot,['ptnt_gid'],'leftouter').smvHist('cohort')"
   ]
  },
  {
   "cell_type": "code",
   "execution_count": 43,
   "metadata": {
    "collapsed": false
   },
   "outputs": [
    {
     "name": "stdout",
     "output_type": "stream",
     "text": [
      "lot_dur              Non-Null Count         11109\n",
      "lot_dur              Null Count             0\n",
      "lot_dur              Average                217.5544153389144\n",
      "lot_dur              Standard Deviation     145.88940356685933\n",
      "lot_dur              Min                    0.0\n",
      "lot_dur              Max                    1532.0\n"
     ]
    }
   ],
   "source": [
    "cohort1.select('lot_dur').smvEdd()"
   ]
  },
  {
   "cell_type": "markdown",
   "metadata": {},
   "source": [
    "## total population of patients"
   ]
  },
  {
   "cell_type": "code",
   "execution_count": 5,
   "metadata": {
    "collapsed": true
   },
   "outputs": [
    {
     "name": "stdout",
     "output_type": "stream",
     "text": [
      "ptnt_gid:String                    = 00000000000238490661\n",
      "lot:Decimal(10,1)                  = 1.0\n",
      "ptnt_age:Integer                   = 46\n",
      "ptnt_gender:String                 = F\n",
      "ptnt_zip:String                    = 078\n",
      "ptnt_st:String                     = NJ\n",
      "lot_frst_dt:Timestamp              = 2010-04-12 00:00:00.0\n",
      "lot_lst_dt:Timestamp               = 2017-03-20 00:00:00.0\n",
      "her_frst_dt:Timestamp              = 2010-04-12 00:00:00.0\n",
      "her_lst_dt:Timestamp               = 2017-03-20 00:00:00.0\n",
      "her_schedl:Integer                 = 21\n",
      "tot_her_inf:Integer                = 118\n",
      "tot_her_gap:Integer                = 2534\n",
      "tot_c_her_inf:Integer              = 118\n",
      "tot_her_c_gap:Integer              = 2534\n",
      "her_drtn:Decimal(10,2)             = 365.00\n",
      "her_cmplnt_drtn:Integer            = 2510\n",
      "per_frst_dt:Timestamp              = null\n",
      "per_lst_dt:Timestamp               = null\n",
      "tot_per_inf:Integer                = 0\n",
      "tot_per_gap:Integer                = null\n",
      "tot_gap_per_inf:Integer            = null\n",
      "tot_per_c_gap:Integer              = null\n",
      "per_schedl:Integer                 = null\n",
      "per_drtn:Decimal(10,2)             = null\n",
      "per_cmplnt_drtn:Integer            = null\n",
      "kad_frst_dt:Timestamp              = null\n",
      "kad_lst_dt:Timestamp               = null\n",
      "tot_kad_inf:Integer                = 0\n",
      "tot_kad_gap:Integer                = null\n",
      "tot_gap_kad_inf:Integer            = null\n",
      "tot_kad_c_gap:Integer              = null\n",
      "kad_schedl:Integer                 = null\n",
      "kad_drtn:Decimal(10,2)             = null\n",
      "kad_cmplnt_drtn:Integer            = null\n",
      "tax_frst_dt:Timestamp              = null\n",
      "tax_lst_dt:Timestamp               = null\n",
      "tot_tax_inf:Integer                = 0\n",
      "surg_rmvl_fst_dt:Timestamp         = 2009-08-05 00:00:00.0\n",
      "surg_rmvl_lst_dt:Timestamp         = 2009-08-05 00:00:00.0\n",
      "tot_rmvl_surg:String               = 2\n",
      "surg_recons_frst_dt:Timestamp      = 2009-08-05 00:00:00.0\n",
      "surg_recons_lst_dt:Timestamp       = 2010-02-02 00:00:00.0\n",
      "hom_usage_bfr:Integer              = null\n",
      "hom_usage_inline:Integer           = null\n",
      "hom_usage_aftr:Integer             = null\n",
      "lot_frst_rgmn:String               = _HER\n",
      "lot_rgmn:String                    = _HER\n",
      "prmry_phy_lot:String               = 00000000000000651766\n",
      "phyn_me_nbr_lot:String             = 6491477082\n",
      "phyn_spcl_desc_lot:String          = ONCOLOGY MEDICAL\n",
      "phyn_lst_nm_lot:String             = HALIBEY\n",
      "phyn_frst_nm_lot:String            = BOHDAN\n",
      "phyn_addr_lot:String               = 28 FAIRVIEW HILL RD\n",
      "phyn_city_lot:String               = NEWTON\n",
      "phyn_st_lot:String                 = NJ\n",
      "phyn_region_lot:String             = null\n",
      "phyn_zip_cd_lot:String             = 07860\n",
      "phyn_age_lot:String                = null\n",
      "phyn_gender_lot:String             = M\n",
      "prmry_phyn:String                  = 00000000000000651766\n",
      "phyn_me_nbr:String                 = 6491477082\n",
      "phyn_spcl_desc:String              = ONCOLOGY MEDICAL\n",
      "phyn_lst_nm:String                 = HALIBEY\n",
      "phyn_frst_nm:String                = BOHDAN\n",
      "phyn_addr:String                   = 28 FAIRVIEW HILL RD\n",
      "phyn_city:String                   = NEWTON\n",
      "phyn_st:String                     = NJ\n",
      "phyn_region:String                 = null\n",
      "phyn_zip_cde:String                = 07860\n",
      "phyn_age:String                    = null\n",
      "phyn_gender:String                 = M\n",
      "prmry_loc_lot:String               = CLINIC\n",
      "prmry_breast_loc:String            = CLINIC\n",
      "prmry_pyr_lot:String               = Third Party Medical Blue Cross Blue Shield\n",
      "prmry_breast_payer:String          = Third Party Medical Blue Cross Blue Shield\n",
      "ptnt_denovo_adj_flag:Integer       = null\n",
      "ptnt_denovo_1l_flag:Integer        = null\n",
      "persist_13m_flag:Integer           = 1\n",
      "p_ex:Integer                       = 0\n",
      "k_ex:Integer                       = 0\n",
      "frst_lot_uniden_met_flg:Integer    = 0\n",
      "frst_lot_uniden_no_met_flg:Integer = 0\n",
      "ld_tm:Timestamp                    = 2017-04-26 21:44:56.109\n",
      "tot_recons_surg:String             = 9\n",
      "new_lot_rgmn:String                = HER mono\n",
      "neo_adj_rgmn:String                = P+H+OTHER\n",
      "rgrp_lot_rgmn:String               = HER\n",
      "zip:String                         = 07860\n",
      "cohort:String                      = 1L\n"
     ]
    }
   ],
   "source": [
    "lot.peek()"
   ]
  },
  {
   "cell_type": "code",
   "execution_count": 10,
   "metadata": {
    "collapsed": false
   },
   "outputs": [
    {
     "data": {
      "text/plain": [
       "59404"
      ]
     },
     "execution_count": 10,
     "metadata": {},
     "output_type": "execute_result"
    }
   ],
   "source": [
    "lot.select('ptnt_gid').distinct().count()"
   ]
  },
  {
   "cell_type": "code",
   "execution_count": 11,
   "metadata": {
    "collapsed": false
   },
   "outputs": [
    {
     "data": {
      "text/plain": [
       "8413"
      ]
     },
     "execution_count": 11,
     "metadata": {},
     "output_type": "execute_result"
    }
   ],
   "source": [
    "lot.where(col('lot') == 0.1).count()"
   ]
  },
  {
   "cell_type": "code",
   "execution_count": 12,
   "metadata": {
    "collapsed": true
   },
   "outputs": [],
   "source": [
    "lott = df('magbc.sha.ptnt.LotDF')"
   ]
  },
  {
   "cell_type": "code",
   "execution_count": null,
   "metadata": {
    "collapsed": false
   },
   "outputs": [],
   "source": []
  },
  {
   "cell_type": "code",
   "execution_count": 13,
   "metadata": {
    "collapsed": false
   },
   "outputs": [
    {
     "data": {
      "text/plain": [
       "169824"
      ]
     },
     "execution_count": 13,
     "metadata": {},
     "output_type": "execute_result"
    }
   ],
   "source": [
    "lott.count()"
   ]
  },
  {
   "cell_type": "code",
   "execution_count": 14,
   "metadata": {
    "collapsed": true
   },
   "outputs": [
    {
     "name": "stdout",
     "output_type": "stream",
     "text": [
      "lot_frst_dt          Time Start             \"2007-01-02 00:00:00\"\n",
      "lot_frst_dt          Time Edd               \"2017-03-31 00:00:00\"\n",
      "Histogram of lot_frst_dt: Year\n",
      "key                      count      Pct    cumCount   cumPct\n",
      "2007                      1360    0.80%        1360    0.80%\n",
      "2008                     14958    8.81%       16318    9.61%\n",
      "2009                     14242    8.39%       30560   18.00%\n",
      "2010                     14158    8.34%       44718   26.33%\n",
      "2011                     18062   10.64%       62780   36.97%\n",
      "2012                     17966   10.58%       80746   47.55%\n",
      "2013                     19340   11.39%      100086   58.94%\n",
      "2014                     21605   12.72%      121691   71.66%\n",
      "2015                     21608   12.72%      143299   84.38%\n",
      "2016                     22726   13.38%      166025   97.76%\n",
      "2017                      3799    2.24%      169824  100.00%\n",
      "-------------------------------------------------\n",
      "Histogram of lot_frst_dt: Month\n",
      "key                      count      Pct    cumCount   cumPct\n",
      "01                       19702   11.60%       19702   11.60%\n",
      "02                       14350    8.45%       34052   20.05%\n",
      "03                       15078    8.88%       49130   28.93%\n",
      "04                       13450    7.92%       62580   36.85%\n",
      "05                       13142    7.74%       75722   44.59%\n",
      "06                       13203    7.77%       88925   52.36%\n",
      "07                       14865    8.75%      103790   61.12%\n",
      "08                       13369    7.87%      117159   68.99%\n",
      "09                       12973    7.64%      130132   76.63%\n",
      "10                       13646    8.04%      143778   84.66%\n",
      "11                       12500    7.36%      156278   92.02%\n",
      "12                       13546    7.98%      169824  100.00%\n",
      "-------------------------------------------------\n",
      "Histogram of lot_frst_dt: Day of Week\n",
      "key                      count      Pct    cumCount   cumPct\n",
      "1                        29141   17.16%       29141   17.16%\n",
      "2                        33413   19.68%       62554   36.83%\n",
      "3                        35384   20.84%       97938   57.67%\n",
      "4                        40891   24.08%      138829   81.75%\n",
      "5                        30515   17.97%      169344   99.72%\n",
      "6                          381    0.22%      169725   99.94%\n",
      "7                           99    0.06%      169824  100.00%\n",
      "-------------------------------------------------\n",
      "Histogram of lot_frst_dt: Hour\n",
      "key                      count      Pct    cumCount   cumPct\n",
      "00                      169824  100.00%      169824  100.00%\n",
      "-------------------------------------------------\n"
     ]
    }
   ],
   "source": [
    "lott.select('lot_frst_dt').smvEdd()"
   ]
  },
  {
   "cell_type": "markdown",
   "metadata": {},
   "source": [
    "# Identify different groups to track\n",
    "## Split lot into four stages"
   ]
  },
  {
   "cell_type": "code",
   "execution_count": 15,
   "metadata": {
    "collapsed": false
   },
   "outputs": [],
   "source": [
    "neo = lot.where(col('cohort')=='neoadjuvant')"
   ]
  },
  {
   "cell_type": "code",
   "execution_count": 16,
   "metadata": {
    "collapsed": false
   },
   "outputs": [],
   "source": [
    "adj = lot.where(col('cohort')=='adjuvant')"
   ]
  },
  {
   "cell_type": "code",
   "execution_count": 17,
   "metadata": {
    "collapsed": true
   },
   "outputs": [],
   "source": [
    "one = lot.where(col('cohort')=='1L')"
   ]
  },
  {
   "cell_type": "code",
   "execution_count": 18,
   "metadata": {
    "collapsed": true
   },
   "outputs": [],
   "source": [
    "two = lot.where(col('cohort')=='2Lplus')"
   ]
  },
  {
   "cell_type": "code",
   "execution_count": 19,
   "metadata": {
    "collapsed": false
   },
   "outputs": [
    {
     "data": {
      "text/plain": [
       "8413"
      ]
     },
     "execution_count": 19,
     "metadata": {},
     "output_type": "execute_result"
    }
   ],
   "source": [
    "neo.count()"
   ]
  },
  {
   "cell_type": "code",
   "execution_count": 20,
   "metadata": {
    "collapsed": false
   },
   "outputs": [
    {
     "data": {
      "text/plain": [
       "41001"
      ]
     },
     "execution_count": 20,
     "metadata": {},
     "output_type": "execute_result"
    }
   ],
   "source": [
    "adj.count()"
   ]
  },
  {
   "cell_type": "code",
   "execution_count": 21,
   "metadata": {
    "collapsed": false
   },
   "outputs": [
    {
     "data": {
      "text/plain": [
       "18010"
      ]
     },
     "execution_count": 21,
     "metadata": {},
     "output_type": "execute_result"
    }
   ],
   "source": [
    "one.count()"
   ]
  },
  {
   "cell_type": "code",
   "execution_count": 22,
   "metadata": {
    "collapsed": false
   },
   "outputs": [
    {
     "data": {
      "text/plain": [
       "14818"
      ]
     },
     "execution_count": 22,
     "metadata": {},
     "output_type": "execute_result"
    }
   ],
   "source": [
    "two.count()"
   ]
  },
  {
   "cell_type": "code",
   "execution_count": 23,
   "metadata": {
    "collapsed": false
   },
   "outputs": [
    {
     "data": {
      "text/plain": [
       "6237"
      ]
     },
     "execution_count": 23,
     "metadata": {},
     "output_type": "execute_result"
    }
   ],
   "source": [
    "neo.smvJoinByKey(adj.select('ptnt_gid'),['ptnt_gid'], 'inner').count()"
   ]
  },
  {
   "cell_type": "code",
   "execution_count": 24,
   "metadata": {
    "collapsed": false
   },
   "outputs": [
    {
     "data": {
      "text/plain": [
       "5015"
      ]
     },
     "execution_count": 24,
     "metadata": {},
     "output_type": "execute_result"
    }
   ],
   "source": [
    "adj.smvJoinByKey(one.select('ptnt_gid'),['ptnt_gid'], 'inner').count()"
   ]
  },
  {
   "cell_type": "code",
   "execution_count": 25,
   "metadata": {
    "collapsed": false
   },
   "outputs": [
    {
     "name": "stdout",
     "output_type": "stream",
     "text": [
      "Histogram of cohort: String sort by Key\n",
      "key                      count      Pct    cumCount   cumPct\n",
      "1L                       18010   21.90%       18010   21.90%\n",
      "2Lplus                   14818   18.02%       32828   39.92%\n",
      "adjuvant                 41001   49.85%       73829   89.77%\n",
      "neoadjuvant               8413   10.23%       82242  100.00%\n",
      "-------------------------------------------------\n"
     ]
    }
   ],
   "source": [
    "lot.smvHist('cohort')"
   ]
  },
  {
   "cell_type": "markdown",
   "metadata": {},
   "source": [
    "## Within each stage identify patients taking soc regimen"
   ]
  },
  {
   "cell_type": "code",
   "execution_count": 26,
   "metadata": {
    "collapsed": false
   },
   "outputs": [],
   "source": [
    "soc = neo.where(col('new_lot_rgmn') == 'HER+PER+TAXANE')"
   ]
  },
  {
   "cell_type": "code",
   "execution_count": 27,
   "metadata": {
    "collapsed": true
   },
   "outputs": [
    {
     "name": "stdout",
     "output_type": "stream",
     "text": [
      "+--------------------+\n",
      "|SmvYear(lot_frst_dt)|\n",
      "+--------------------+\n",
      "|                2014|\n",
      "|                2015|\n",
      "|                2015|\n",
      "|                2015|\n",
      "|                2014|\n",
      "|                2013|\n",
      "|                2016|\n",
      "|                2015|\n",
      "|                2015|\n",
      "|                2016|\n",
      "|                2014|\n",
      "|                2015|\n",
      "|                2015|\n",
      "|                2015|\n",
      "|                2014|\n",
      "|                2015|\n",
      "|                2014|\n",
      "|                2014|\n",
      "|                2014|\n",
      "|                2014|\n",
      "+--------------------+\n",
      "only showing top 20 rows\n",
      "\n"
     ]
    }
   ],
   "source": [
    "soc.select(col('lot_frst_dt').smvYear()).show()"
   ]
  },
  {
   "cell_type": "code",
   "execution_count": 28,
   "metadata": {
    "collapsed": false
   },
   "outputs": [],
   "source": [
    "group2 = adj.filter(col('new_lot_rgmn').like('HER%'))"
   ]
  },
  {
   "cell_type": "code",
   "execution_count": 29,
   "metadata": {
    "collapsed": false
   },
   "outputs": [
    {
     "data": {
      "text/plain": [
       "26359"
      ]
     },
     "execution_count": 29,
     "metadata": {},
     "output_type": "execute_result"
    }
   ],
   "source": [
    "group2.count()"
   ]
  },
  {
   "cell_type": "code",
   "execution_count": 29,
   "metadata": {
    "collapsed": false
   },
   "outputs": [],
   "source": [
    "td = df('magbc.sha.ptnt.TargetDates')"
   ]
  },
  {
   "cell_type": "code",
   "execution_count": 31,
   "metadata": {
    "collapsed": false
   },
   "outputs": [
    {
     "name": "stdout",
     "output_type": "stream",
     "text": [
      "ptnt_gid:String                 = 00000000000850294928\n",
      "First_BreastDiagDate:Timestamp  = 2015-02-23 00:00:00.0\n",
      "First_Her2TestDate:Timestamp    = null\n",
      "First_IHCTestDate:Timestamp     = null\n",
      "First_ISHTestDate:Timestamp     = null\n",
      "First_BRCATestDate:Timestamp    = null\n",
      "First_TreamentDate:Timestamp    = 2015-04-02 00:00:00.0\n",
      "First_Her2TargetDate:Timestamp  = 2015-04-02 00:00:00.0\n",
      "First_ChemoDate:Timestamp       = 2015-04-02 00:00:00.0\n",
      "First_HormoneDate:Timestamp     = null\n",
      "First_SurgeryDate:Timestamp     = 2015-08-17 00:00:00.0\n",
      "First_TrastuzumabDate:Timestamp = 2015-04-02 00:00:00.0\n",
      "First_PertuzumabDate:Timestamp  = null\n",
      "First_LapatinibDate:Timestamp   = null\n",
      "First_TDM1Date:Timestamp        = null\n",
      "Last_TreamentDate:Timestamp     = 2016-02-03 00:00:00.0\n",
      "Last_Her2TargetDate:Timestamp   = 2016-02-03 00:00:00.0\n",
      "Last_ChemoDate:Timestamp        = 2016-02-03 00:00:00.0\n",
      "Last_HormoneDate:Timestamp      = null\n",
      "Last_SurgeryDate:Timestamp      = 2015-08-17 00:00:00.0\n",
      "Last_TrastuzumabDate:Timestamp  = 2016-02-03 00:00:00.0\n",
      "Last_PertuzumabDate:Timestamp   = null\n",
      "Last_LapatinibDate:Timestamp    = null\n",
      "Last_TDM1Date:Timestamp         = null\n"
     ]
    }
   ],
   "source": [
    "td.peek()"
   ]
  },
  {
   "cell_type": "code",
   "execution_count": 34,
   "metadata": {
    "collapsed": false
   },
   "outputs": [
    {
     "data": {
      "text/plain": [
       "54"
      ]
     },
     "execution_count": 34,
     "metadata": {},
     "output_type": "execute_result"
    }
   ],
   "source": [
    "ptnts.count()"
   ]
  },
  {
   "cell_type": "code",
   "execution_count": 39,
   "metadata": {
    "collapsed": true
   },
   "outputs": [],
   "source": [
    "group1 = soc.select('ptnt_gid')"
   ]
  },
  {
   "cell_type": "code",
   "execution_count": 40,
   "metadata": {
    "collapsed": false
   },
   "outputs": [
    {
     "data": {
      "text/plain": [
       "6466"
      ]
     },
     "execution_count": 40,
     "metadata": {},
     "output_type": "execute_result"
    }
   ],
   "source": [
    "group1.count()"
   ]
  },
  {
   "cell_type": "code",
   "execution_count": null,
   "metadata": {
    "collapsed": false
   },
   "outputs": [],
   "source": []
  },
  {
   "cell_type": "code",
   "execution_count": 41,
   "metadata": {
    "collapsed": true
   },
   "outputs": [],
   "source": [
    "group3 = one.where(col('new_lot_rgmn') == 'HER+PER+/-OTHER')"
   ]
  },
  {
   "cell_type": "code",
   "execution_count": 42,
   "metadata": {
    "collapsed": false
   },
   "outputs": [
    {
     "data": {
      "text/plain": [
       "1792"
      ]
     },
     "execution_count": 42,
     "metadata": {},
     "output_type": "execute_result"
    }
   ],
   "source": [
    "group3.count()"
   ]
  },
  {
   "cell_type": "code",
   "execution_count": 43,
   "metadata": {
    "collapsed": true
   },
   "outputs": [],
   "source": [
    "group4 = two.filter(col('new_lot_rgmn')=='KAD')"
   ]
  },
  {
   "cell_type": "code",
   "execution_count": 168,
   "metadata": {
    "collapsed": false
   },
   "outputs": [
    {
     "data": {
      "text/plain": [
       "1621"
      ]
     },
     "execution_count": 168,
     "metadata": {},
     "output_type": "execute_result"
    }
   ],
   "source": [
    "group4.count()"
   ]
  },
  {
   "cell_type": "code",
   "execution_count": null,
   "metadata": {
    "collapsed": true
   },
   "outputs": [],
   "source": []
  },
  {
   "cell_type": "code",
   "execution_count": null,
   "metadata": {
    "collapsed": false
   },
   "outputs": [],
   "source": []
  },
  {
   "cell_type": "code",
   "execution_count": 169,
   "metadata": {
    "collapsed": false
   },
   "outputs": [
    {
     "name": "stdout",
     "output_type": "stream",
     "text": [
      "Histogram of new_lot_rgmn: String sort by Key\n",
      "key                      count      Pct    cumCount   cumPct\n",
      "HER mono                 11931   45.26%       11931   45.26%\n",
      "HER+AC                     162    0.61%       12093   45.88%\n",
      "HER+FEC                     70    0.27%       12163   46.14%\n",
      "HER+KAD                      1    0.00%       12164   46.15%\n",
      "HER+OTHER                  351    1.33%       12515   47.48%\n",
      "HER+PER+/-OTHER           1195    4.53%       13710   52.01%\n",
      "HER+PER+TAXANE            6996   26.54%       20706   78.55%\n",
      "HER+TAXANE                5653   21.45%       26359  100.00%\n",
      "-------------------------------------------------\n"
     ]
    }
   ],
   "source": [
    "group2.smvHist('new_lot_rgmn')"
   ]
  },
  {
   "cell_type": "code",
   "execution_count": 170,
   "metadata": {
    "collapsed": true
   },
   "outputs": [
    {
     "name": "stdout",
     "output_type": "stream",
     "text": [
      "ptnt_gid:String                    = 00000000000073531261\n",
      "lot:Decimal(10,1)                  = 0.2\n",
      "ptnt_age:Integer                   = 54\n",
      "ptnt_gender:String                 = F\n",
      "ptnt_zip:String                    = 233\n",
      "ptnt_st:String                     = VA\n",
      "lot_frst_dt:Timestamp              = 2015-05-18 00:00:00.0\n",
      "lot_lst_dt:Timestamp               = 2015-12-14 00:00:00.0\n",
      "her_frst_dt:Timestamp              = 2015-05-18 00:00:00.0\n",
      "her_lst_dt:Timestamp               = 2015-12-14 00:00:00.0\n",
      "her_schedl:Integer                 = 21\n",
      "tot_her_inf:Integer                = 11\n",
      "tot_her_gap:Integer                = 210\n",
      "tot_c_her_inf:Integer              = 11\n",
      "tot_her_c_gap:Integer              = 210\n",
      "her_drtn:Decimal(10,2)             = 33.00\n",
      "her_cmplnt_drtn:Integer            = 210\n",
      "per_frst_dt:Timestamp              = null\n",
      "per_lst_dt:Timestamp               = null\n",
      "tot_per_inf:Integer                = 0\n",
      "tot_per_gap:Integer                = null\n",
      "tot_gap_per_inf:Integer            = null\n",
      "tot_per_c_gap:Integer              = null\n",
      "per_schedl:Integer                 = null\n",
      "per_drtn:Decimal(10,2)             = null\n",
      "per_cmplnt_drtn:Integer            = null\n",
      "kad_frst_dt:Timestamp              = null\n",
      "kad_lst_dt:Timestamp               = null\n",
      "tot_kad_inf:Integer                = 0\n",
      "tot_kad_gap:Integer                = null\n",
      "tot_gap_kad_inf:Integer            = null\n",
      "tot_kad_c_gap:Integer              = null\n",
      "kad_schedl:Integer                 = null\n",
      "kad_drtn:Decimal(10,2)             = null\n",
      "kad_cmplnt_drtn:Integer            = null\n",
      "tax_frst_dt:Timestamp              = null\n",
      "tax_lst_dt:Timestamp               = null\n",
      "tot_tax_inf:Integer                = 0\n",
      "surg_rmvl_fst_dt:Timestamp         = 2015-05-11 00:00:00.0\n",
      "surg_rmvl_lst_dt:Timestamp         = 2015-05-11 00:00:00.0\n",
      "tot_rmvl_surg:String               = 2\n",
      "surg_recons_frst_dt:Timestamp      = null\n",
      "surg_recons_lst_dt:Timestamp       = null\n",
      "hom_usage_bfr:Integer              = null\n",
      "hom_usage_inline:Integer           = 1\n",
      "hom_usage_aftr:Integer             = 1\n",
      "lot_frst_rgmn:String               = _HER\n",
      "lot_rgmn:String                    = _HER_hormone\n",
      "prmry_phy_lot:String               = 00000000000001665449\n",
      "phyn_me_nbr_lot:String             = 7480186013\n",
      "phyn_spcl_desc_lot:String          = HEMATOLOGY/ONCOLOGY\n",
      "phyn_lst_nm_lot:String             = TAN\n",
      "phyn_frst_nm_lot:String            = VALIANT\n",
      "phyn_addr_lot:String               = 1503B N ROAD ST\n",
      "phyn_city_lot:String               = ELIZABETH CITY\n",
      "phyn_st_lot:String                 = NC\n",
      "phyn_region_lot:String             = null\n",
      "phyn_zip_cd_lot:String             = 27909\n",
      "phyn_age_lot:String                = null\n",
      "phyn_gender_lot:String             = M\n",
      "prmry_phyn:String                  = 00000000000001665449\n",
      "phyn_me_nbr:String                 = 7480186013\n",
      "phyn_spcl_desc:String              = HEMATOLOGY/ONCOLOGY\n",
      "phyn_lst_nm:String                 = TAN\n",
      "phyn_frst_nm:String                = VALIANT\n",
      "phyn_addr:String                   = 1503B N ROAD ST\n",
      "phyn_city:String                   = ELIZABETH CITY\n",
      "phyn_st:String                     = NC\n",
      "phyn_region:String                 = null\n",
      "phyn_zip_cde:String                = 27909\n",
      "phyn_age:String                    = null\n",
      "phyn_gender:String                 = M\n",
      "prmry_loc_lot:String               = CLINIC\n",
      "prmry_breast_loc:String            = CLINIC\n",
      "prmry_pyr_lot:String               = Third Party Managed Care\n",
      "prmry_breast_payer:String          = Third Party Managed Care\n",
      "ptnt_denovo_adj_flag:Integer       = null\n",
      "ptnt_denovo_1l_flag:Integer        = null\n",
      "persist_13m_flag:Integer           = 1\n",
      "p_ex:Integer                       = 0\n",
      "k_ex:Integer                       = 0\n",
      "frst_lot_uniden_met_flg:Integer    = 0\n",
      "frst_lot_uniden_no_met_flg:Integer = 0\n",
      "ld_tm:Timestamp                    = 2017-04-26 21:44:56.109\n",
      "tot_recons_surg:String             = null\n",
      "new_lot_rgmn:String                = HER mono\n",
      "neo_adj_rgmn:String                = P+H+OTHER\n",
      "rgrp_lot_rgmn:String               = HER\n",
      "zip:String                         = 27909\n",
      "cohort:String                      = adjuvant\n",
      "lot_dur:Integer                    = 210\n",
      "nextLot:Timestamp                  = null\n",
      "first_lot:Decimal(10,1)            = 0.1\n",
      "end_lot:Decimal(10,1)              = 0.2\n"
     ]
    }
   ],
   "source": [
    "group2.peek()"
   ]
  },
  {
   "cell_type": "code",
   "execution_count": 171,
   "metadata": {
    "collapsed": true
   },
   "outputs": [],
   "source": [
    "tc = df('magbc.sha.ptnt.TargetClaims')"
   ]
  },
  {
   "cell_type": "code",
   "execution_count": 172,
   "metadata": {
    "collapsed": true
   },
   "outputs": [
    {
     "name": "stdout",
     "output_type": "stream",
     "text": [
      "clm_gid:String                     = 00002000840000481091\n",
      "dt:Timestamp                       = 2016-06-14 00:00:00.0\n",
      "svc_ln_seq:Integer                 = 1\n",
      "ptnt_gid:String                    = 00000000000181032178\n",
      "prodt:String                       = 71020\n",
      "loc_cde:Integer                    = 4\n",
      "diagArr:Array(String,true)         = WrappedArray(C50.919, Z01.818, , , , , , , , , , )\n",
      "phyn_key:String                    = 00000000000001731160\n",
      "phyn_gid:String                    = 00000000000001731160\n",
      "clm_typ:String                     = PX_DX\n",
      "clm_sts:String                     = null\n",
      "day_sply:Integer                   = null\n",
      "drg_id:String                      = null\n",
      "adj_svc_unit_nbr:Integer           = 0\n",
      "prodt_strgth:String                = null\n",
      "qty:Decimal(38,7)                  = null\n",
      "dt_mth:String                      = 201703\n",
      "prodt_cd:String                    = Other\n",
      "targetType:String                  = Procedure\n",
      "procType:String                    = Radio\n",
      "procSubType:String                 = null\n",
      "drugType:String                    = null\n",
      "lot:Decimal(10,1)                  = 2.0\n",
      "ptnt_age:Integer                   = 52\n",
      "ptnt_gender:String                 = F\n",
      "ptnt_zip:String                    = 604\n",
      "ptnt_st:String                     = IL\n",
      "lot_frst_dt:Timestamp              = 2016-12-23 00:00:00.0\n",
      "lot_lst_dt:Timestamp               = 2016-12-23 00:00:00.0\n",
      "her_frst_dt:Timestamp              = 2016-12-23 00:00:00.0\n",
      "her_lst_dt:Timestamp               = 2016-12-23 00:00:00.0\n",
      "her_schedl:Integer                 = 7\n",
      "tot_her_inf:Integer                = 1\n",
      "tot_her_gap:Integer                = 0\n",
      "tot_c_her_inf:Integer              = 1\n",
      "tot_her_c_gap:Integer              = 0\n",
      "her_drtn:Decimal(10,2)             = 1.00\n",
      "her_cmplnt_drtn:Integer            = 0\n",
      "per_frst_dt:Timestamp              = null\n",
      "per_lst_dt:Timestamp               = null\n",
      "tot_per_inf:Integer                = 0\n",
      "tot_per_gap:Integer                = null\n",
      "tot_gap_per_inf:Integer            = null\n",
      "tot_per_c_gap:Integer              = null\n",
      "per_schedl:Integer                 = null\n",
      "per_drtn:Decimal(10,2)             = null\n",
      "per_cmplnt_drtn:Integer            = null\n",
      "kad_frst_dt:Timestamp              = null\n",
      "kad_lst_dt:Timestamp               = null\n",
      "tot_kad_inf:Integer                = 0\n",
      "tot_kad_gap:Integer                = null\n",
      "tot_gap_kad_inf:Integer            = null\n",
      "tot_kad_c_gap:Integer              = null\n",
      "kad_schedl:Integer                 = null\n",
      "kad_drtn:Decimal(10,2)             = null\n",
      "kad_cmplnt_drtn:Integer            = null\n",
      "tax_frst_dt:Timestamp              = null\n",
      "tax_lst_dt:Timestamp               = null\n",
      "tot_tax_inf:Integer                = 0\n",
      "surg_rmvl_fst_dt:Timestamp         = 2016-06-17 00:00:00.0\n",
      "surg_rmvl_lst_dt:Timestamp         = 2016-06-17 00:00:00.0\n",
      "tot_rmvl_surg:String               = 3\n",
      "surg_recons_frst_dt:Timestamp      = null\n",
      "surg_recons_lst_dt:Timestamp       = null\n",
      "hom_usage_bfr:Integer              = 1\n",
      "hom_usage_inline:Integer           = null\n",
      "hom_usage_aftr:Integer             = 1\n",
      "lot_frst_rgmn:String               = _HER\n",
      "lot_rgmn:String                    = _HER\n",
      "prmry_phy_lot:String               = 00000000000000622391\n",
      "phyn_me_nbr_lot:String             = 4952173042\n",
      "phyn_spcl_desc_lot:String          = INTERNAL MEDICINE\n",
      "phyn_lst_nm_lot:String             = CHENNAMANENI\n",
      "phyn_frst_nm_lot:String            = RUPA\n",
      "phyn_addr_lot:String               = 9831 S WESTERN AVE\n",
      "phyn_city_lot:String               = CHICAGO\n",
      "phyn_st_lot:String                 = IL\n",
      "phyn_region_lot:String             = null\n",
      "phyn_zip_cd_lot:String             = 60643\n",
      "phyn_age_lot:String                = null\n",
      "phyn_gender_lot:String             = F\n",
      "prmry_phyn:String                  = 00000000000000622391\n",
      "phyn_me_nbr:String                 = 4952173042\n",
      "phyn_spcl_desc:String              = INTERNAL MEDICINE\n",
      "phyn_lst_nm:String                 = CHENNAMANENI\n",
      "phyn_frst_nm:String                = RUPA\n",
      "phyn_addr:String                   = 9831 S WESTERN AVE\n",
      "phyn_city:String                   = CHICAGO\n",
      "phyn_st:String                     = IL\n",
      "phyn_region:String                 = null\n",
      "phyn_zip_cde:String                = 60643\n",
      "phyn_age:String                    = null\n",
      "phyn_gender:String                 = F\n",
      "prmry_loc_lot:String               = OUT_PAT_HOSP\n",
      "prmry_breast_loc:String            = OUT_PAT_HOSP\n",
      "prmry_pyr_lot:String               = Third Party Medical Blue Cross Blue Shield\n",
      "prmry_breast_payer:String          = Medicare Medical Managed Care\n",
      "ptnt_denovo_adj_flag:Integer       = null\n",
      "ptnt_denovo_1l_flag:Integer        = null\n",
      "persist_13m_flag:Integer           = 1\n",
      "p_ex:Integer                       = 0\n",
      "k_ex:Integer                       = 0\n",
      "frst_lot_uniden_met_flg:Integer    = 0\n",
      "frst_lot_uniden_no_met_flg:Integer = 0\n",
      "ld_tm:Timestamp                    = 2017-04-26 21:44:56.109\n",
      "tot_recons_surg:String             = null\n",
      "new_lot_rgmn:String                = HER mono\n",
      "neo_adj_rgmn:String                = P+H+OTHER\n",
      "IsBreastCancer:Boolean             = true\n",
      "IsTreament:Boolean                 = null\n",
      "IsHer2Test:Boolean                 = null\n",
      "IsIHCTest:Boolean                  = null\n",
      "IsISHTest:Boolean                  = null\n",
      "IsBRCATest:Boolean                 = null\n",
      "IsSurgery:Boolean                  = null\n",
      "IsPartialSurgery:Boolean           = null\n",
      "IsSubcutaneousSurgery:Boolean      = null\n",
      "IsSimpleTotalSurgery:Boolean       = null\n",
      "IsModifiedRadicalSurgery:Boolean   = null\n",
      "IsRadicalSurgery:Boolean           = null\n",
      "IsHer2Target:Boolean               = null\n",
      "IsTrastuzumab:Boolean              = null\n",
      "IsPertuzumab:Boolean               = null\n",
      "IsLapatinib:Boolean                = null\n",
      "IsTDM1:Boolean                     = null\n",
      "IsChemo:Boolean                    = null\n",
      "IsHormone:Boolean                  = null\n"
     ]
    }
   ],
   "source": [
    "tc.peek()"
   ]
  },
  {
   "cell_type": "code",
   "execution_count": null,
   "metadata": {
    "collapsed": false
   },
   "outputs": [],
   "source": []
  },
  {
   "cell_type": "code",
   "execution_count": null,
   "metadata": {
    "collapsed": false
   },
   "outputs": [],
   "source": [
    "one.peek()"
   ]
  },
  {
   "cell_type": "code",
   "execution_count": 174,
   "metadata": {
    "collapsed": true
   },
   "outputs": [
    {
     "ename": "KeyboardInterrupt",
     "evalue": "",
     "output_type": "error",
     "traceback": [
      "\u001b[0;31m------------------------------------------------------------------------\u001b[0m",
      "\u001b[0;31mKeyboardInterrupt\u001b[0m                      Traceback (most recent call last)",
      "\u001b[0;32m<ipython-input-174-8dbf5c61cc55>\u001b[0m in \u001b[0;36m<module>\u001b[0;34m()\u001b[0m\n\u001b[0;32m----> 1\u001b[0;31m \u001b[0mone\u001b[0m\u001b[0;34m.\u001b[0m\u001b[0msmvJoinByKey\u001b[0m\u001b[0;34m(\u001b[0m\u001b[0mgroup1\u001b[0m\u001b[0;34m,\u001b[0m\u001b[0;34m[\u001b[0m\u001b[0;34m'ptnt_gid'\u001b[0m\u001b[0;34m]\u001b[0m\u001b[0;34m,\u001b[0m\u001b[0;34m'inner'\u001b[0m\u001b[0;34m)\u001b[0m\u001b[0;34m.\u001b[0m\u001b[0mselect\u001b[0m\u001b[0;34m(\u001b[0m\u001b[0;34m'ptnt_gid'\u001b[0m\u001b[0;34m)\u001b[0m\u001b[0;34m.\u001b[0m\u001b[0mshow\u001b[0m\u001b[0;34m(\u001b[0m\u001b[0;34m)\u001b[0m\u001b[0;34m\u001b[0m\u001b[0m\n\u001b[0m",
      "\u001b[0;32m/usr/local/spark/current/python/pyspark/sql/dataframe.py\u001b[0m in \u001b[0;36mshow\u001b[0;34m(self, n, truncate)\u001b[0m\n\u001b[1;32m    254\u001b[0m         \u001b[0;34m+\u001b[0m\u001b[0;34m-\u001b[0m\u001b[0;34m-\u001b[0m\u001b[0;34m-\u001b[0m\u001b[0;34m+\u001b[0m\u001b[0;34m-\u001b[0m\u001b[0;34m-\u001b[0m\u001b[0;34m-\u001b[0m\u001b[0;34m-\u001b[0m\u001b[0;34m-\u001b[0m\u001b[0;34m+\u001b[0m\u001b[0;34m\u001b[0m\u001b[0m\n\u001b[1;32m    255\u001b[0m         \"\"\"\n\u001b[0;32m--> 256\u001b[0;31m         \u001b[0;32mprint\u001b[0m\u001b[0;34m(\u001b[0m\u001b[0mself\u001b[0m\u001b[0;34m.\u001b[0m\u001b[0m_jdf\u001b[0m\u001b[0;34m.\u001b[0m\u001b[0mshowString\u001b[0m\u001b[0;34m(\u001b[0m\u001b[0mn\u001b[0m\u001b[0;34m,\u001b[0m \u001b[0mtruncate\u001b[0m\u001b[0;34m)\u001b[0m\u001b[0;34m)\u001b[0m\u001b[0;34m\u001b[0m\u001b[0m\n\u001b[0m\u001b[1;32m    257\u001b[0m \u001b[0;34m\u001b[0m\u001b[0m\n\u001b[1;32m    258\u001b[0m     \u001b[0;32mdef\u001b[0m \u001b[0m__repr__\u001b[0m\u001b[0;34m(\u001b[0m\u001b[0mself\u001b[0m\u001b[0;34m)\u001b[0m\u001b[0;34m:\u001b[0m\u001b[0;34m\u001b[0m\u001b[0m\n",
      "\u001b[0;32m/usr/local/spark/current/python/lib/py4j-0.8.2.1-src.zip/py4j/java_gateway.py\u001b[0m in \u001b[0;36m__call__\u001b[0;34m(self, *args)\u001b[0m\n\u001b[1;32m    534\u001b[0m             \u001b[0mEND_COMMAND_PART\u001b[0m\u001b[0;34m\u001b[0m\u001b[0m\n\u001b[1;32m    535\u001b[0m \u001b[0;34m\u001b[0m\u001b[0m\n\u001b[0;32m--> 536\u001b[0;31m         \u001b[0manswer\u001b[0m \u001b[0;34m=\u001b[0m \u001b[0mself\u001b[0m\u001b[0;34m.\u001b[0m\u001b[0mgateway_client\u001b[0m\u001b[0;34m.\u001b[0m\u001b[0msend_command\u001b[0m\u001b[0;34m(\u001b[0m\u001b[0mcommand\u001b[0m\u001b[0;34m)\u001b[0m\u001b[0;34m\u001b[0m\u001b[0m\n\u001b[0m\u001b[1;32m    537\u001b[0m         return_value = get_return_value(answer, self.gateway_client,\n\u001b[1;32m    538\u001b[0m                 self.target_id, self.name)\n",
      "\u001b[0;32m/usr/local/spark/current/python/lib/py4j-0.8.2.1-src.zip/py4j/java_gateway.py\u001b[0m in \u001b[0;36msend_command\u001b[0;34m(self, command, retry)\u001b[0m\n\u001b[1;32m    362\u001b[0m         \u001b[0mconnection\u001b[0m \u001b[0;34m=\u001b[0m \u001b[0mself\u001b[0m\u001b[0;34m.\u001b[0m\u001b[0m_get_connection\u001b[0m\u001b[0;34m(\u001b[0m\u001b[0;34m)\u001b[0m\u001b[0;34m\u001b[0m\u001b[0m\n\u001b[1;32m    363\u001b[0m         \u001b[0;32mtry\u001b[0m\u001b[0;34m:\u001b[0m\u001b[0;34m\u001b[0m\u001b[0m\n\u001b[0;32m--> 364\u001b[0;31m             \u001b[0mresponse\u001b[0m \u001b[0;34m=\u001b[0m \u001b[0mconnection\u001b[0m\u001b[0;34m.\u001b[0m\u001b[0msend_command\u001b[0m\u001b[0;34m(\u001b[0m\u001b[0mcommand\u001b[0m\u001b[0;34m)\u001b[0m\u001b[0;34m\u001b[0m\u001b[0m\n\u001b[0m\u001b[1;32m    365\u001b[0m             \u001b[0mself\u001b[0m\u001b[0;34m.\u001b[0m\u001b[0m_give_back_connection\u001b[0m\u001b[0;34m(\u001b[0m\u001b[0mconnection\u001b[0m\u001b[0;34m)\u001b[0m\u001b[0;34m\u001b[0m\u001b[0m\n\u001b[1;32m    366\u001b[0m         \u001b[0;32mexcept\u001b[0m \u001b[0mPy4JNetworkError\u001b[0m\u001b[0;34m:\u001b[0m\u001b[0;34m\u001b[0m\u001b[0m\n",
      "\u001b[0;32m/usr/local/spark/current/python/lib/py4j-0.8.2.1-src.zip/py4j/java_gateway.py\u001b[0m in \u001b[0;36msend_command\u001b[0;34m(self, command)\u001b[0m\n\u001b[1;32m    471\u001b[0m         \u001b[0;32mtry\u001b[0m\u001b[0;34m:\u001b[0m\u001b[0;34m\u001b[0m\u001b[0m\n\u001b[1;32m    472\u001b[0m             \u001b[0mself\u001b[0m\u001b[0;34m.\u001b[0m\u001b[0msocket\u001b[0m\u001b[0;34m.\u001b[0m\u001b[0msendall\u001b[0m\u001b[0;34m(\u001b[0m\u001b[0mcommand\u001b[0m\u001b[0;34m.\u001b[0m\u001b[0mencode\u001b[0m\u001b[0;34m(\u001b[0m\u001b[0;34m'utf-8'\u001b[0m\u001b[0;34m)\u001b[0m\u001b[0;34m)\u001b[0m\u001b[0;34m\u001b[0m\u001b[0m\n\u001b[0;32m--> 473\u001b[0;31m             \u001b[0manswer\u001b[0m \u001b[0;34m=\u001b[0m \u001b[0msmart_decode\u001b[0m\u001b[0;34m(\u001b[0m\u001b[0mself\u001b[0m\u001b[0;34m.\u001b[0m\u001b[0mstream\u001b[0m\u001b[0;34m.\u001b[0m\u001b[0mreadline\u001b[0m\u001b[0;34m(\u001b[0m\u001b[0;34m)\u001b[0m\u001b[0;34m[\u001b[0m\u001b[0;34m:\u001b[0m\u001b[0;34m-\u001b[0m\u001b[0;36m1\u001b[0m\u001b[0;34m]\u001b[0m\u001b[0;34m)\u001b[0m\u001b[0;34m\u001b[0m\u001b[0m\n\u001b[0m\u001b[1;32m    474\u001b[0m             \u001b[0mlogger\u001b[0m\u001b[0;34m.\u001b[0m\u001b[0mdebug\u001b[0m\u001b[0;34m(\u001b[0m\u001b[0;34m\"Answer received: {0}\"\u001b[0m\u001b[0;34m.\u001b[0m\u001b[0mformat\u001b[0m\u001b[0;34m(\u001b[0m\u001b[0manswer\u001b[0m\u001b[0;34m)\u001b[0m\u001b[0;34m)\u001b[0m\u001b[0;34m\u001b[0m\u001b[0m\n\u001b[1;32m    475\u001b[0m             \u001b[0;31m# Happens when a the other end is dead. There might be an empty\u001b[0m\u001b[0;34m\u001b[0m\u001b[0;34m\u001b[0m\u001b[0m\n",
      "\u001b[0;32m/usr/lib/python2.7/socket.pyc\u001b[0m in \u001b[0;36mreadline\u001b[0;34m(self, size)\u001b[0m\n\u001b[1;32m    428\u001b[0m                     \u001b[0;32mtry\u001b[0m\u001b[0;34m:\u001b[0m\u001b[0;34m\u001b[0m\u001b[0m\n\u001b[1;32m    429\u001b[0m                         \u001b[0;32mwhile\u001b[0m \u001b[0mdata\u001b[0m \u001b[0;34m!=\u001b[0m \u001b[0;34m\"\\n\"\u001b[0m\u001b[0;34m:\u001b[0m\u001b[0;34m\u001b[0m\u001b[0m\n\u001b[0;32m--> 430\u001b[0;31m                             \u001b[0mdata\u001b[0m \u001b[0;34m=\u001b[0m \u001b[0mrecv\u001b[0m\u001b[0;34m(\u001b[0m\u001b[0;36m1\u001b[0m\u001b[0;34m)\u001b[0m\u001b[0;34m\u001b[0m\u001b[0m\n\u001b[0m\u001b[1;32m    431\u001b[0m                             \u001b[0;32mif\u001b[0m \u001b[0;32mnot\u001b[0m \u001b[0mdata\u001b[0m\u001b[0;34m:\u001b[0m\u001b[0;34m\u001b[0m\u001b[0m\n\u001b[1;32m    432\u001b[0m                                 \u001b[0;32mbreak\u001b[0m\u001b[0;34m\u001b[0m\u001b[0m\n",
      "\u001b[0;31mKeyboardInterrupt\u001b[0m: "
     ]
    }
   ],
   "source": [
    "one.smvJoinByKey(group1,['ptnt_gid'],'inner').select('ptnt_gid').show()"
   ]
  },
  {
   "cell_type": "code",
   "execution_count": null,
   "metadata": {
    "collapsed": true
   },
   "outputs": [],
   "source": []
  },
  {
   "cell_type": "code",
   "execution_count": null,
   "metadata": {
    "collapsed": true
   },
   "outputs": [],
   "source": [
    "group3.select('ptnt_gid').show()"
   ]
  },
  {
   "cell_type": "code",
   "execution_count": 176,
   "metadata": {
    "collapsed": true
   },
   "outputs": [],
   "source": [
    "#look at members of group3 who were also in adjuvant"
   ]
  },
  {
   "cell_type": "code",
   "execution_count": null,
   "metadata": {
    "collapsed": false
   },
   "outputs": [],
   "source": [
    "x=group3.select('ptnt_gid').smvJoinByKey(lot,['ptnt_gid'],'leftouter').where(col('cohort')=='adjuvant')"
   ]
  },
  {
   "cell_type": "code",
   "execution_count": null,
   "metadata": {
    "collapsed": false
   },
   "outputs": [],
   "source": [
    "x.smvHist('new_lot_rgmn')"
   ]
  },
  {
   "cell_type": "code",
   "execution_count": null,
   "metadata": {
    "collapsed": true
   },
   "outputs": [],
   "source": []
  },
  {
   "cell_type": "markdown",
   "metadata": {
    "collapsed": true
   },
   "source": [
    "# want to see progression of each group through stages"
   ]
  },
  {
   "cell_type": "markdown",
   "metadata": {},
   "source": [
    "## count overlap between different groups"
   ]
  },
  {
   "cell_type": "markdown",
   "metadata": {},
   "source": [
    "### group 1 patients reaching further stages"
   ]
  },
  {
   "cell_type": "code",
   "execution_count": null,
   "metadata": {
    "collapsed": false
   },
   "outputs": [],
   "source": [
    "group1.smvJoinByKey(adj,['ptnt_gid'],'inner').count()"
   ]
  },
  {
   "cell_type": "code",
   "execution_count": null,
   "metadata": {
    "collapsed": false
   },
   "outputs": [],
   "source": [
    "group1.smvJoinByKey(one,['ptnt_gid'],'inner').count()"
   ]
  },
  {
   "cell_type": "code",
   "execution_count": null,
   "metadata": {
    "collapsed": false
   },
   "outputs": [],
   "source": [
    "group1.smvJoinByKey(two,['ptnt_gid'],'inner').count()"
   ]
  },
  {
   "cell_type": "markdown",
   "metadata": {},
   "source": [
    "### group 1 patients in later groups"
   ]
  },
  {
   "cell_type": "code",
   "execution_count": null,
   "metadata": {
    "collapsed": false
   },
   "outputs": [],
   "source": [
    "group1.smvJoinByKey(group2.select('ptnt_gid'),['ptnt_gid'],'inner').count()"
   ]
  },
  {
   "cell_type": "code",
   "execution_count": null,
   "metadata": {
    "collapsed": false
   },
   "outputs": [],
   "source": [
    "group1.smvJoinByKey(group3.select('ptnt_gid'),['ptnt_gid'],'inner').count()"
   ]
  },
  {
   "cell_type": "code",
   "execution_count": null,
   "metadata": {
    "collapsed": false
   },
   "outputs": [],
   "source": [
    "group1.smvJoinByKey(group4.select('ptnt_gid'),['ptnt_gid'],'inner').count()"
   ]
  },
  {
   "cell_type": "markdown",
   "metadata": {},
   "source": [
    "### what regimen do group 1 patients take in later stages"
   ]
  },
  {
   "cell_type": "code",
   "execution_count": null,
   "metadata": {
    "collapsed": false
   },
   "outputs": [],
   "source": [
    "group1.smvJoinByKey(lot,['ptnt_gid'],'inner').where(col('cohort')=='adjuvant').smvHist('new_lot_rgmn')"
   ]
  },
  {
   "cell_type": "code",
   "execution_count": null,
   "metadata": {
    "collapsed": false
   },
   "outputs": [],
   "source": [
    "group1.smvJoinByKey(lot,['ptnt_gid'],'inner').where(col('cohort')=='1L').smvHist('new_lot_rgmn')"
   ]
  },
  {
   "cell_type": "code",
   "execution_count": null,
   "metadata": {
    "collapsed": false
   },
   "outputs": [],
   "source": [
    "group1.smvJoinByKey(lot,['ptnt_gid'],'inner').where(col('cohort')=='2Lplus').smvHist('new_lot_rgmn')"
   ]
  },
  {
   "cell_type": "markdown",
   "metadata": {},
   "source": [
    "### same for group 2"
   ]
  },
  {
   "cell_type": "code",
   "execution_count": null,
   "metadata": {
    "collapsed": false
   },
   "outputs": [],
   "source": [
    "group2.smvJoinByKey(one,['ptnt_gid'],'inner').count()"
   ]
  },
  {
   "cell_type": "code",
   "execution_count": 48,
   "metadata": {
    "collapsed": false
   },
   "outputs": [
    {
     "data": {
      "text/plain": [
       "1084"
      ]
     },
     "execution_count": 48,
     "metadata": {},
     "output_type": "execute_result"
    }
   ],
   "source": [
    "group2.smvJoinByKey(two,['ptnt_gid'],'inner').count()"
   ]
  },
  {
   "cell_type": "code",
   "execution_count": 47,
   "metadata": {
    "collapsed": false
   },
   "outputs": [
    {
     "data": {
      "text/plain": [
       "92"
      ]
     },
     "execution_count": 47,
     "metadata": {},
     "output_type": "execute_result"
    }
   ],
   "source": [
    "group2.smvJoinByKey(group4,['ptnt_gid'],'inner').count()"
   ]
  },
  {
   "cell_type": "code",
   "execution_count": null,
   "metadata": {
    "collapsed": false
   },
   "outputs": [],
   "source": [
    "group2.smvJoinByKey(group3.select('ptnt_gid'),['ptnt_gid'],'inner').count()"
   ]
  },
  {
   "cell_type": "code",
   "execution_count": null,
   "metadata": {
    "collapsed": false
   },
   "outputs": [],
   "source": [
    "group2.select('ptnt_gid').smvJoinByKey(lot,['ptnt_gid'],'inner').where(col('cohort')=='1L').smvHist('new_lot_rgmn')"
   ]
  },
  {
   "cell_type": "markdown",
   "metadata": {},
   "source": [
    "### group 3"
   ]
  },
  {
   "cell_type": "code",
   "execution_count": null,
   "metadata": {
    "collapsed": false
   },
   "outputs": [],
   "source": [
    "group3.select('ptnt_gid').smvJoinByKey(lot,['ptnt_gid'],'inner').where(col('cohort')=='2Lplus').smvHist('new_lot_rgmn')"
   ]
  },
  {
   "cell_type": "code",
   "execution_count": null,
   "metadata": {
    "collapsed": false
   },
   "outputs": [],
   "source": [
    "group3.smvJoinByKey(two,['ptnt_gid'],'inner').count()"
   ]
  },
  {
   "cell_type": "code",
   "execution_count": null,
   "metadata": {
    "collapsed": false
   },
   "outputs": [],
   "source": [
    "group3.smvJoinByKey(group4.select('ptnt_gid'),['ptnt_gid'],'inner').count()"
   ]
  },
  {
   "cell_type": "markdown",
   "metadata": {},
   "source": [
    "### group 4"
   ]
  },
  {
   "cell_type": "code",
   "execution_count": null,
   "metadata": {
    "collapsed": false
   },
   "outputs": [],
   "source": [
    "group4.select('ptnt_gid').smvJoinByKey(one,['ptnt_gid'],'inner').count()"
   ]
  },
  {
   "cell_type": "markdown",
   "metadata": {
    "collapsed": true
   },
   "source": [
    "## look at lot durations for each group"
   ]
  },
  {
   "cell_type": "code",
   "execution_count": null,
   "metadata": {
    "collapsed": false
   },
   "outputs": [],
   "source": [
    "group1.smvJoinByKey(lot,['ptnt_gid'],'inner').select('lot_dur').smvEdd()"
   ]
  },
  {
   "cell_type": "code",
   "execution_count": null,
   "metadata": {
    "collapsed": false
   },
   "outputs": [],
   "source": [
    "neo.select('lot_dur').smvEdd()"
   ]
  },
  {
   "cell_type": "code",
   "execution_count": null,
   "metadata": {
    "collapsed": false
   },
   "outputs": [],
   "source": [
    "group2.select('lot_dur').smvEdd()"
   ]
  },
  {
   "cell_type": "code",
   "execution_count": null,
   "metadata": {
    "collapsed": false
   },
   "outputs": [],
   "source": [
    "adj.select('lot_dur').smvEdd()"
   ]
  },
  {
   "cell_type": "code",
   "execution_count": null,
   "metadata": {
    "collapsed": false
   },
   "outputs": [],
   "source": [
    "group3.select('lot_dur').smvEdd()"
   ]
  },
  {
   "cell_type": "code",
   "execution_count": null,
   "metadata": {
    "collapsed": false
   },
   "outputs": [],
   "source": [
    "one.select('lot_dur').smvEdd()"
   ]
  },
  {
   "cell_type": "code",
   "execution_count": null,
   "metadata": {
    "collapsed": true
   },
   "outputs": [],
   "source": [
    "group3.peek()"
   ]
  },
  {
   "cell_type": "code",
   "execution_count": null,
   "metadata": {
    "collapsed": false
   },
   "outputs": [],
   "source": [
    "group4.select('lot_dur').smvEdd()"
   ]
  },
  {
   "cell_type": "code",
   "execution_count": null,
   "metadata": {
    "collapsed": false
   },
   "outputs": [],
   "source": [
    "two.select('lot_dur').smvEdd()"
   ]
  },
  {
   "cell_type": "markdown",
   "metadata": {
    "collapsed": true
   },
   "source": [
    "## look at days from diagnosis til surgery for each group"
   ]
  },
  {
   "cell_type": "code",
   "execution_count": null,
   "metadata": {
    "collapsed": false
   },
   "outputs": [],
   "source": [
    "group1.smvJoinByKey(td,['ptnt_gid'],'leftouter').select(datediff(col('First_SurgeryDate'), col('First_BreastDiagDate')).alias('diag2surg')).smvEdd()"
   ]
  },
  {
   "cell_type": "code",
   "execution_count": null,
   "metadata": {
    "collapsed": false
   },
   "outputs": [],
   "source": [
    "group2.select('ptnt_gid').smvJoinByKey(td,['ptnt_gid'],'leftouter').select(datediff(col('First_SurgeryDate'), col('First_BreastDiagDate')).alias('diag2surg')).smvEdd()"
   ]
  },
  {
   "cell_type": "code",
   "execution_count": null,
   "metadata": {
    "collapsed": false
   },
   "outputs": [],
   "source": [
    "group3.select('ptnt_gid').smvJoinByKey(td,['ptnt_gid'],'leftouter').select(datediff(col('First_SurgeryDate'), col('First_BreastDiagDate')).alias('diag2surg')).smvEdd()"
   ]
  },
  {
   "cell_type": "code",
   "execution_count": null,
   "metadata": {
    "collapsed": false
   },
   "outputs": [],
   "source": [
    "group4.select('ptnt_gid').smvJoinByKey(td,['ptnt_gid'],'leftouter').select(datediff(col('First_SurgeryDate'), col('First_BreastDiagDate')).alias('diag2surg')).smvEdd()"
   ]
  },
  {
   "cell_type": "code",
   "execution_count": null,
   "metadata": {
    "collapsed": true
   },
   "outputs": [],
   "source": []
  },
  {
   "cell_type": "markdown",
   "metadata": {
    "collapsed": false,
    "scrolled": false
   },
   "source": [
    "## diagnosis til treatment"
   ]
  },
  {
   "cell_type": "code",
   "execution_count": null,
   "metadata": {
    "collapsed": false
   },
   "outputs": [],
   "source": [
    "group1.smvJoinByKey(td,['ptnt_gid'],'leftouter').select(datediff(col('First_TreamentDate'), col('First_BreastDiagDate')).alias('diag2t')).smvEdd()"
   ]
  },
  {
   "cell_type": "code",
   "execution_count": null,
   "metadata": {
    "collapsed": false
   },
   "outputs": [],
   "source": [
    "group2.select('ptnt_gid').smvJoinByKey(td,['ptnt_gid'],'leftouter').select(datediff(col('First_TreamentDate'), col('First_BreastDiagDate')).alias('diag2t')).smvEdd()"
   ]
  },
  {
   "cell_type": "code",
   "execution_count": null,
   "metadata": {
    "collapsed": false
   },
   "outputs": [],
   "source": [
    "group3.select('ptnt_gid').smvJoinByKey(td,['ptnt_gid'],'leftouter').select(datediff(col('First_TreamentDate'), col('First_BreastDiagDate')).alias('diag2t')).smvEdd()"
   ]
  },
  {
   "cell_type": "code",
   "execution_count": null,
   "metadata": {
    "collapsed": false
   },
   "outputs": [],
   "source": [
    "group4.select('ptnt_gid').smvJoinByKey(td,['ptnt_gid'],'leftouter').select(datediff(col('First_TreamentDate'), col('First_BreastDiagDate')).alias('diag2t')).smvEdd()"
   ]
  },
  {
   "cell_type": "markdown",
   "metadata": {},
   "source": [
    "## lot regimens for each stage"
   ]
  },
  {
   "cell_type": "code",
   "execution_count": null,
   "metadata": {
    "collapsed": false
   },
   "outputs": [],
   "source": [
    "adj.smvHist('new_lot_rgmn')"
   ]
  },
  {
   "cell_type": "code",
   "execution_count": null,
   "metadata": {
    "collapsed": false
   },
   "outputs": [],
   "source": [
    "neo.smvHist('new_lot_rgmn')"
   ]
  },
  {
   "cell_type": "code",
   "execution_count": null,
   "metadata": {
    "collapsed": false
   },
   "outputs": [],
   "source": [
    "one.smvHist('new_lot_rgmn')"
   ]
  },
  {
   "cell_type": "code",
   "execution_count": null,
   "metadata": {
    "collapsed": false
   },
   "outputs": [],
   "source": [
    "two.smvHist('new_lot_rgmn')"
   ]
  },
  {
   "cell_type": "code",
   "execution_count": null,
   "metadata": {
    "collapsed": false
   },
   "outputs": [],
   "source": []
  },
  {
   "cell_type": "code",
   "execution_count": null,
   "metadata": {
    "collapsed": false
   },
   "outputs": [],
   "source": [
    "group4.smvHist('neo_adj_rgmn')"
   ]
  },
  {
   "cell_type": "code",
   "execution_count": null,
   "metadata": {
    "collapsed": false
   },
   "outputs": [],
   "source": [
    "group3.smvHist('neo_adj_rgmn')"
   ]
  },
  {
   "cell_type": "code",
   "execution_count": null,
   "metadata": {
    "collapsed": false
   },
   "outputs": [],
   "source": [
    "group2.smvHist('rgrp_lot_rgmn')"
   ]
  },
  {
   "cell_type": "code",
   "execution_count": null,
   "metadata": {
    "collapsed": false
   },
   "outputs": [],
   "source": []
  },
  {
   "cell_type": "code",
   "execution_count": null,
   "metadata": {
    "collapsed": false
   },
   "outputs": [],
   "source": [
    "group3.smvHist('lot_frst_rgmn')"
   ]
  },
  {
   "cell_type": "code",
   "execution_count": null,
   "metadata": {
    "collapsed": false
   },
   "outputs": [],
   "source": [
    "lot.peek()"
   ]
  },
  {
   "cell_type": "code",
   "execution_count": null,
   "metadata": {
    "collapsed": false
   },
   "outputs": [],
   "source": [
    "group1.smvJoinByKey(td,['ptnt_gid'],'leftouter').where(col('First_Her2TestDate').isNotNull()).count()"
   ]
  },
  {
   "cell_type": "code",
   "execution_count": null,
   "metadata": {
    "collapsed": false
   },
   "outputs": [],
   "source": [
    "group2.smvJoinByKey(td,['ptnt_gid'],'leftouter').where(col('First_Her2TestDate').isNotNull()).count()"
   ]
  },
  {
   "cell_type": "code",
   "execution_count": null,
   "metadata": {
    "collapsed": false
   },
   "outputs": [],
   "source": [
    "group3.smvJoinByKey(td,['ptnt_gid'],'leftouter').where(col('First_Her2TestDate').isNotNull()).count()"
   ]
  },
  {
   "cell_type": "code",
   "execution_count": null,
   "metadata": {
    "collapsed": false
   },
   "outputs": [],
   "source": [
    "group4.smvJoinByKey(td,['ptnt_gid'],'leftouter').where(col('First_Her2TestDate').isNotNull()).count()"
   ]
  },
  {
   "cell_type": "code",
   "execution_count": null,
   "metadata": {
    "collapsed": false
   },
   "outputs": [],
   "source": [
    "group1.smvJoinByKey(td,['ptnt_gid'],'leftouter').select(datediff(col('First_Her2TestDate'),col('First_BreastDiagDate')).alias('diff')).smvEdd()"
   ]
  },
  {
   "cell_type": "code",
   "execution_count": null,
   "metadata": {
    "collapsed": false
   },
   "outputs": [],
   "source": [
    "group2.smvJoinByKey(td,['ptnt_gid'],'leftouter').select(datediff(col('First_Her2TestDate'),col('First_BreastDiagDate')).alias('diff')).smvEdd()"
   ]
  },
  {
   "cell_type": "code",
   "execution_count": null,
   "metadata": {
    "collapsed": false
   },
   "outputs": [],
   "source": [
    "group3.smvJoinByKey(td,['ptnt_gid'],'leftouter').select(datediff(col('First_Her2TestDate'),col('First_BreastDiagDate')).alias('diff')).smvEdd()"
   ]
  },
  {
   "cell_type": "code",
   "execution_count": null,
   "metadata": {
    "collapsed": false
   },
   "outputs": [],
   "source": [
    "group4.smvJoinByKey(td,['ptnt_gid'],'leftouter').select(datediff(col('First_Her2TestDate'),col('First_BreastDiagDate')).alias('diff')).smvEdd()"
   ]
  },
  {
   "cell_type": "code",
   "execution_count": null,
   "metadata": {
    "collapsed": false
   },
   "outputs": [],
   "source": [
    "group1.smvJoinByKey(lot,['ptnt_gid'],'leftouter').select(datediff(col('nextLot'),col('lot_lst_dt')).alias('lot_diff')).smvEdd()"
   ]
  },
  {
   "cell_type": "code",
   "execution_count": null,
   "metadata": {
    "collapsed": false
   },
   "outputs": [],
   "source": [
    "group1.smvJoinByKey(lot,['ptnt_gid'],'leftouter').where(col('cohort')=='neoadjuvant').select(datediff(col('nextLot'),col('lot_lst_dt')).alias('lot_diff')).smvEdd()"
   ]
  },
  {
   "cell_type": "code",
   "execution_count": null,
   "metadata": {
    "collapsed": false
   },
   "outputs": [],
   "source": [
    "group2.select(datediff(col('nextLot'),col('lot_lst_dt')).alias('lot_diff')).smvEdd()"
   ]
  },
  {
   "cell_type": "code",
   "execution_count": null,
   "metadata": {
    "collapsed": false
   },
   "outputs": [],
   "source": [
    "group3.select(datediff(col('nextLot'),col('lot_lst_dt')).alias('lot_diff')).smvEdd()"
   ]
  },
  {
   "cell_type": "code",
   "execution_count": null,
   "metadata": {
    "collapsed": false
   },
   "outputs": [],
   "source": [
    "group4.select(datediff(col('nextLot'),col('lot_lst_dt')).alias('lot_diff')).smvEdd()"
   ]
  },
  {
   "cell_type": "code",
   "execution_count": null,
   "metadata": {
    "collapsed": false
   },
   "outputs": [],
   "source": [
    "lot.where(col('ptnt_gid')=='00000000000072582563').select('lot','lot_frst_dt','lot_lst_dt','cohort').show()"
   ]
  },
  {
   "cell_type": "code",
   "execution_count": null,
   "metadata": {
    "collapsed": false
   },
   "outputs": [],
   "source": [
    "lot.smvHist('cohort')"
   ]
  },
  {
   "cell_type": "code",
   "execution_count": null,
   "metadata": {
    "collapsed": false
   },
   "outputs": [],
   "source": [
    "group1.smvJoinByKey(group2,['ptnt_gid'],'inner').smvJoinByKey(group3,['ptnt_gid'],'inner').count()"
   ]
  },
  {
   "cell_type": "code",
   "execution_count": null,
   "metadata": {
    "collapsed": false
   },
   "outputs": [],
   "source": [
    "group4.where(col('lot')>4.0).count()"
   ]
  },
  {
   "cell_type": "code",
   "execution_count": null,
   "metadata": {
    "collapsed": false
   },
   "outputs": [],
   "source": [
    "group1.smvJoinByKey(lot,['ptnt_gid'],'leftouter').where(col('lot')>4.0).count()"
   ]
  },
  {
   "cell_type": "code",
   "execution_count": null,
   "metadata": {
    "collapsed": false
   },
   "outputs": [],
   "source": [
    "group3.smvJoinByKey(lot,['ptnt_gid'],'leftouter').where(col('lot')>4.0).count()"
   ]
  },
  {
   "cell_type": "code",
   "execution_count": null,
   "metadata": {
    "collapsed": false
   },
   "outputs": [],
   "source": [
    "group2.smvJoinByKey(lot,['ptnt_gid'],'leftouter').where(col('lot')>4.0).count()"
   ]
  },
  {
   "cell_type": "code",
   "execution_count": null,
   "metadata": {
    "collapsed": false
   },
   "outputs": [],
   "source": [
    "group4.smvJoinByKey(lot,['ptnt_gid'],'leftouter').where(col('lot')>4.0).count()"
   ]
  },
  {
   "cell_type": "markdown",
   "metadata": {},
   "source": [
    "### where do they start and end"
   ]
  },
  {
   "cell_type": "code",
   "execution_count": 27,
   "metadata": {
    "collapsed": false
   },
   "outputs": [
    {
     "name": "stdout",
     "output_type": "stream",
     "text": [
      "Histogram of lotstr: String sort by Key\n",
      "key                      count      Pct    cumCount   cumPct\n",
      "0.2                      23023   87.34%       23023   87.34%\n",
      "1.0                       2535    9.62%       25558   96.96%\n",
      "2.0                        586    2.22%       26144   99.18%\n",
      "3.0                        161    0.61%       26305   99.80%\n",
      "4.0                         43    0.16%       26348   99.96%\n",
      "5.0                          8    0.03%       26356   99.99%\n",
      "6.0                          3    0.01%       26359  100.00%\n",
      "-------------------------------------------------\n"
     ]
    }
   ],
   "source": [
    "group2.withColumn('lotstr',col('end_lot').cast('string')).smvHist('lotstr')"
   ]
  },
  {
   "cell_type": "code",
   "execution_count": 36,
   "metadata": {
    "collapsed": false
   },
   "outputs": [
    {
     "name": "stdout",
     "output_type": "stream",
     "text": [
      "Histogram of lotstr: String sort by Key\n",
      "key                      count      Pct    cumCount   cumPct\n",
      "1.0                       1307   72.94%        1307   72.94%\n",
      "2.0                        349   19.48%        1656   92.41%\n",
      "3.0                        101    5.64%        1757   98.05%\n",
      "4.0                         29    1.62%        1786   99.67%\n",
      "5.0                          5    0.28%        1791   99.94%\n",
      "6.0                          1    0.06%        1792  100.00%\n",
      "-------------------------------------------------\n"
     ]
    }
   ],
   "source": [
    "group3.withColumn('lotstr',col('end_lot').cast('string')).smvHist('lotstr')"
   ]
  },
  {
   "cell_type": "code",
   "execution_count": 28,
   "metadata": {
    "collapsed": false
   },
   "outputs": [
    {
     "name": "stdout",
     "output_type": "stream",
     "text": [
      "Histogram of lotstr: String sort by Key\n",
      "key                      count      Pct    cumCount   cumPct\n",
      "0.2                      35986   87.77%       35986   87.77%\n",
      "1.0                       3782    9.22%       39768   96.99%\n",
      "2.0                        878    2.14%       40646   99.13%\n",
      "3.0                        267    0.65%       40913   99.79%\n",
      "4.0                         68    0.17%       40981   99.95%\n",
      "5.0                         14    0.03%       40995   99.99%\n",
      "6.0                          5    0.01%       41000  100.00%\n",
      "7.0                          1    0.00%       41001  100.00%\n",
      "-------------------------------------------------\n"
     ]
    }
   ],
   "source": [
    "adj.withColumn('lotstr',col('end_lot').cast('string')).smvHist('lotstr')"
   ]
  },
  {
   "cell_type": "code",
   "execution_count": 29,
   "metadata": {
    "collapsed": false
   },
   "outputs": [
    {
     "data": {
      "text/plain": [
       "20263"
      ]
     },
     "execution_count": 29,
     "metadata": {},
     "output_type": "execute_result"
    }
   ],
   "source": [
    "group2.where(col('first_lot') == 0.2).count()"
   ]
  },
  {
   "cell_type": "code",
   "execution_count": 33,
   "metadata": {
    "collapsed": false
   },
   "outputs": [
    {
     "name": "stdout",
     "output_type": "stream",
     "text": [
      "Histogram of lotstr: String sort by Key\n",
      "key                      count      Pct    cumCount   cumPct\n",
      "0.1                       6096   23.13%        6096   23.13%\n",
      "0.2                      20263   76.87%       26359  100.00%\n",
      "-------------------------------------------------\n"
     ]
    }
   ],
   "source": [
    "group2.withColumn('lotstr',col('first_lot').cast('string')).smvHist('lotstr')"
   ]
  },
  {
   "cell_type": "code",
   "execution_count": 34,
   "metadata": {
    "collapsed": false
   },
   "outputs": [
    {
     "name": "stdout",
     "output_type": "stream",
     "text": [
      "Histogram of lotstr: String sort by Key\n",
      "key                      count      Pct    cumCount   cumPct\n",
      "0.1                        166    9.26%         166    9.26%\n",
      "0.2                        610   34.04%         776   43.30%\n",
      "1.0                       1016   56.70%        1792  100.00%\n",
      "-------------------------------------------------\n"
     ]
    }
   ],
   "source": [
    "group3.withColumn('lotstr',col('first_lot').cast('string')).smvHist('lotstr')"
   ]
  },
  {
   "cell_type": "code",
   "execution_count": 35,
   "metadata": {
    "collapsed": false
   },
   "outputs": [
    {
     "name": "stdout",
     "output_type": "stream",
     "text": [
      "Histogram of lotstr: String sort by Key\n",
      "key                      count      Pct    cumCount   cumPct\n",
      "0.1                         13    0.80%          13    0.80%\n",
      "0.2                        125    7.71%         138    8.51%\n",
      "1.0                        650   40.10%         788   48.61%\n",
      "2.0                        453   27.95%        1241   76.56%\n",
      "3.0                        224   13.82%        1465   90.38%\n",
      "4.0                         91    5.61%        1556   95.99%\n",
      "5.0                         42    2.59%        1598   98.58%\n",
      "6.0                         13    0.80%        1611   99.38%\n",
      "7.0                          8    0.49%        1619   99.88%\n",
      "8.0                          1    0.06%        1620   99.94%\n",
      "9.0                          1    0.06%        1621  100.00%\n",
      "-------------------------------------------------\n"
     ]
    }
   ],
   "source": [
    "group4.withColumn('lotstr',col('first_lot').cast('string')).smvHist('lotstr')"
   ]
  },
  {
   "cell_type": "code",
   "execution_count": 23,
   "metadata": {
    "collapsed": false
   },
   "outputs": [
    {
     "data": {
      "text/plain": [
       "41148"
      ]
     },
     "execution_count": 23,
     "metadata": {},
     "output_type": "execute_result"
    }
   ],
   "source": [
    "lot.where(col('first_lot') == 0.2).count()"
   ]
  },
  {
   "cell_type": "code",
   "execution_count": 24,
   "metadata": {
    "collapsed": true
   },
   "outputs": [],
   "source": [
    "lot = lot.withColumn('lotstr',col('lot').cast('string'))"
   ]
  },
  {
   "cell_type": "code",
   "execution_count": 25,
   "metadata": {
    "collapsed": false
   },
   "outputs": [
    {
     "name": "stdout",
     "output_type": "stream",
     "text": [
      "Histogram of lotstr: String sort by Key\n",
      "key                      count      Pct    cumCount   cumPct\n",
      "0.1                       8413   10.23%        8413   10.23%\n",
      "0.2                      41001   49.85%       49414   60.08%\n",
      "1.0                      18010   21.90%       67424   81.98%\n",
      "10.0                        27    0.03%       67451   82.02%\n",
      "11.0                        15    0.02%       67466   82.03%\n",
      "12.0                         5    0.01%       67471   82.04%\n",
      "13.0                         2    0.00%       67473   82.04%\n",
      "14.0                         1    0.00%       67474   82.04%\n",
      "15.0                         1    0.00%       67475   82.04%\n",
      "16.0                         1    0.00%       67476   82.05%\n",
      "17.0                         1    0.00%       67477   82.05%\n",
      "18.0                         1    0.00%       67478   82.05%\n",
      "19.0                         1    0.00%       67479   82.05%\n",
      "2.0                       7514    9.14%       74993   91.19%\n",
      "20.0                         1    0.00%       74994   91.19%\n",
      "21.0                         1    0.00%       74995   91.19%\n",
      "3.0                       3673    4.47%       78668   95.65%\n",
      "4.0                       1825    2.22%       80493   97.87%\n",
      "5.0                        907    1.10%       81400   98.98%\n",
      "6.0                        450    0.55%       81850   99.52%\n",
      "7.0                        224    0.27%       82074   99.80%\n",
      "8.0                        112    0.14%       82186   99.93%\n",
      "9.0                         56    0.07%       82242  100.00%\n",
      "-------------------------------------------------\n"
     ]
    }
   ],
   "source": [
    "lot.smvHist('lotstr')"
   ]
  },
  {
   "cell_type": "code",
   "execution_count": 49,
   "metadata": {
    "collapsed": false
   },
   "outputs": [
    {
     "name": "stdout",
     "output_type": "stream",
     "text": [
      "Histogram of lotstr: String sort by Key\n",
      "key                      count      Pct    cumCount   cumPct\n",
      "1                         1067   16.50%        1067   16.50%\n",
      "2                         5165   79.88%        6232   96.38%\n",
      "3                          202    3.12%        6434   99.51%\n",
      "4                           28    0.43%        6462   99.94%\n",
      "5                            4    0.06%        6466  100.00%\n",
      "-------------------------------------------------\n"
     ]
    }
   ],
   "source": [
    "soc.withColumn('lotstr',col('lotcnt').cast('string')).smvHist('lotstr')"
   ]
  },
  {
   "cell_type": "code",
   "execution_count": 41,
   "metadata": {
    "collapsed": false
   },
   "outputs": [
    {
     "name": "stdout",
     "output_type": "stream",
     "text": [
      "Histogram of lotstr: String sort by Key\n",
      "key                      count      Pct    cumCount   cumPct\n",
      "1                        17181   65.18%       17181   65.18%\n",
      "2                         8160   30.96%       25341   96.14%\n",
      "3                          774    2.94%       26115   99.07%\n",
      "4                          185    0.70%       26300   99.78%\n",
      "5                           45    0.17%       26345   99.95%\n",
      "6                           11    0.04%       26356   99.99%\n",
      "7                            3    0.01%       26359  100.00%\n",
      "-------------------------------------------------\n"
     ]
    }
   ],
   "source": [
    "group2.withColumn('lotstr',col('lotcnt').cast('string')).smvHist('lotstr')"
   ]
  },
  {
   "cell_type": "code",
   "execution_count": 42,
   "metadata": {
    "collapsed": false
   },
   "outputs": [
    {
     "name": "stdout",
     "output_type": "stream",
     "text": [
      "Histogram of lotstr: String sort by Key\n",
      "key                      count      Pct    cumCount   cumPct\n",
      "1                          683   38.11%         683   38.11%\n",
      "2                          822   45.87%        1505   83.98%\n",
      "3                          217   12.11%        1722   96.09%\n",
      "4                           58    3.24%        1780   99.33%\n",
      "5                           11    0.61%        1791   99.94%\n",
      "7                            1    0.06%        1792  100.00%\n",
      "-------------------------------------------------\n"
     ]
    }
   ],
   "source": [
    "group3.withColumn('lotstr',col('lotcnt').cast('string')).smvHist('lotstr')"
   ]
  },
  {
   "cell_type": "code",
   "execution_count": 43,
   "metadata": {
    "collapsed": false
   },
   "outputs": [
    {
     "name": "stdout",
     "output_type": "stream",
     "text": [
      "Histogram of lotstr: String sort by Key\n",
      "key                      count      Pct    cumCount   cumPct\n",
      "1                          284   17.52%         284   17.52%\n",
      "2                          646   39.85%         930   57.37%\n",
      "3                          431   26.59%        1361   83.96%\n",
      "4                          183   11.29%        1544   95.25%\n",
      "5                           60    3.70%        1604   98.95%\n",
      "6                           16    0.99%        1620   99.94%\n",
      "7                            1    0.06%        1621  100.00%\n",
      "-------------------------------------------------\n"
     ]
    }
   ],
   "source": [
    "group4.withColumn('lotstr',col('lotcnt').cast('string')).smvHist('lotstr')"
   ]
  },
  {
   "cell_type": "code",
   "execution_count": 44,
   "metadata": {
    "collapsed": false
   },
   "outputs": [
    {
     "name": "stdout",
     "output_type": "stream",
     "text": [
      "Histogram of new_lot_rgmn: String sort by Key\n",
      "key                      count      Pct    cumCount   cumPct\n",
      "HER mono                   227   35.80%         227   35.80%\n",
      "HER+AC                      41    6.47%         268   42.27%\n",
      "HER+FEC                     28    4.42%         296   46.69%\n",
      "HER+OTHER                   17    2.68%         313   49.37%\n",
      "HER+PER+/-OTHER             99   15.62%         412   64.98%\n",
      "HER+PER+KAD                  1    0.16%         413   65.14%\n",
      "HER+PER+TAXANE             119   18.77%         532   83.91%\n",
      "HER+TAXANE                  11    1.74%         543   85.65%\n",
      "KAD                         14    2.21%         557   87.85%\n",
      "OTHER                       77   12.15%         634  100.00%\n",
      "-------------------------------------------------\n"
     ]
    }
   ],
   "source": [
    "group1.smvJoinByKey(lot,['ptnt_gid'], 'inner').where(col('cohort')=='1L').smvHist('new_lot_rgmn')"
   ]
  },
  {
   "cell_type": "code",
   "execution_count": 45,
   "metadata": {
    "collapsed": false
   },
   "outputs": [
    {
     "name": "stdout",
     "output_type": "stream",
     "text": [
      "Histogram of new_lot_rgmn: String sort by Key\n",
      "key                      count      Pct    cumCount   cumPct\n",
      "HER mono                    30   17.75%          30   17.75%\n",
      "HER+AC                      11    6.51%          41   24.26%\n",
      "HER+FEC                      8    4.73%          49   28.99%\n",
      "HER+KAD                      6    3.55%          55   32.54%\n",
      "HER+OTHER                   14    8.28%          69   40.83%\n",
      "HER+PER+/-OTHER             24   14.20%          93   55.03%\n",
      "HER+PER+KAD                  7    4.14%         100   59.17%\n",
      "HER+PER+TAXANE              13    7.69%         113   66.86%\n",
      "HER+TAXANE                   2    1.18%         115   68.05%\n",
      "KAD                          6    3.55%         121   71.60%\n",
      "KAD+OTHER                    3    1.78%         124   73.37%\n",
      "OTHER                       42   24.85%         166   98.22%\n",
      "TCH                          3    1.78%         169  100.00%\n",
      "-------------------------------------------------\n"
     ]
    }
   ],
   "source": [
    "group1.smvJoinByKey(lot,['ptnt_gid'], 'inner').where(col('cohort')=='2Lplus').smvHist('new_lot_rgmn')"
   ]
  },
  {
   "cell_type": "code",
   "execution_count": 54,
   "metadata": {
    "collapsed": false
   },
   "outputs": [
    {
     "name": "stdout",
     "output_type": "stream",
     "text": [
      "Histogram of new_lot_rgmn: String sort by Key\n",
      "key                      count      Pct    cumCount   cumPct\n",
      "HER mono                   956   28.66%         956   28.66%\n",
      "HER+AC                      20    0.60%         976   29.26%\n",
      "HER+FEC                     13    0.39%         989   29.65%\n",
      "HER+KAD                     11    0.33%        1000   29.98%\n",
      "HER+OTHER                  175    5.25%        1175   35.22%\n",
      "HER+PER+/-OTHER            563   16.88%        1738   52.10%\n",
      "HER+PER+KAD                  3    0.09%        1741   52.19%\n",
      "HER+PER+TAXANE             889   26.65%        2630   78.84%\n",
      "HER+TAXANE                 175    5.25%        2805   84.08%\n",
      "KAD                        157    4.71%        2962   88.79%\n",
      "KAD+OTHER                    5    0.15%        2967   88.94%\n",
      "KAD+PER                      1    0.03%        2968   88.97%\n",
      "OTHER                      336   10.07%        3304   99.04%\n",
      "PER+/-OTHER                  5    0.15%        3309   99.19%\n",
      "TCH                         27    0.81%        3336  100.00%\n",
      "-------------------------------------------------\n"
     ]
    }
   ],
   "source": [
    "group2.select('ptnt_gid').smvJoinByKey(lot,['ptnt_gid'], 'inner').where(col('cohort')=='1L').smvHist('new_lot_rgmn')"
   ]
  },
  {
   "cell_type": "code",
   "execution_count": 52,
   "metadata": {
    "collapsed": false
   },
   "outputs": [
    {
     "name": "stdout",
     "output_type": "stream",
     "text": [
      "Histogram of cohort: String sort by Key\n",
      "key                      count      Pct    cumCount   cumPct\n",
      "1L                        3336    9.05%        3336    9.05%\n",
      "2Lplus                    1084    2.94%        4420   11.99%\n",
      "adjuvant                 26359   71.48%       30779   83.47%\n",
      "neoadjuvant               6096   16.53%       36875  100.00%\n",
      "-------------------------------------------------\n"
     ]
    }
   ],
   "source": [
    "group2.select('ptnt_gid').smvJoinByKey(lot,['ptnt_gid'], 'leftouter').smvHist('cohort')"
   ]
  },
  {
   "cell_type": "code",
   "execution_count": 55,
   "metadata": {
    "collapsed": false
   },
   "outputs": [
    {
     "name": "stdout",
     "output_type": "stream",
     "text": [
      "Histogram of new_lot_rgmn: String sort by Key\n",
      "key                      count      Pct    cumCount   cumPct\n",
      "HER mono                   138   12.73%         138   12.73%\n",
      "HER+AC                       2    0.18%         140   12.92%\n",
      "HER+FEC                      1    0.09%         141   13.01%\n",
      "HER+KAD                     87    8.03%         228   21.03%\n",
      "HER+OTHER                  101    9.32%         329   30.35%\n",
      "HER+PER+/-OTHER            176   16.24%         505   46.59%\n",
      "HER+PER+KAD                121   11.16%         626   57.75%\n",
      "HER+PER+TAXANE             117   10.79%         743   68.54%\n",
      "HER+TAXANE                  58    5.35%         801   73.89%\n",
      "KAD                         92    8.49%         893   82.38%\n",
      "KAD+OTHER                   20    1.85%         913   84.23%\n",
      "KAD+PER                      1    0.09%         914   84.32%\n",
      "OTHER                      161   14.85%        1075   99.17%\n",
      "PER+/-OTHER                  1    0.09%        1076   99.26%\n",
      "TCH                          8    0.74%        1084  100.00%\n",
      "-------------------------------------------------\n"
     ]
    }
   ],
   "source": [
    "group2.select('ptnt_gid').smvJoinByKey(lot,['ptnt_gid'], 'inner').where(col('cohort')=='2Lplus').smvHist('new_lot_rgmn')"
   ]
  },
  {
   "cell_type": "code",
   "execution_count": 56,
   "metadata": {
    "collapsed": false
   },
   "outputs": [
    {
     "name": "stdout",
     "output_type": "stream",
     "text": [
      "Histogram of new_lot_rgmn: String sort by Key\n",
      "key                      count      Pct    cumCount   cumPct\n",
      "HER mono                    39    5.88%          39    5.88%\n",
      "HER+KAD                     47    7.09%          86   12.97%\n",
      "HER+OTHER                   38    5.73%         124   18.70%\n",
      "HER+PER+/-OTHER            207   31.22%         331   49.92%\n",
      "HER+PER+KAD                114   17.19%         445   67.12%\n",
      "HER+PER+TAXANE              59    8.90%         504   76.02%\n",
      "HER+TAXANE                  21    3.17%         525   79.19%\n",
      "KAD                         81   12.22%         606   91.40%\n",
      "KAD+OTHER                   13    1.96%         619   93.36%\n",
      "OTHER                       39    5.88%         658   99.25%\n",
      "PER+/-OTHER                  3    0.45%         661   99.70%\n",
      "TCH                          2    0.30%         663  100.00%\n",
      "-------------------------------------------------\n"
     ]
    }
   ],
   "source": [
    "group3.select('ptnt_gid').smvJoinByKey(lot,['ptnt_gid'], 'inner').where(col('cohort')=='2Lplus').smvHist('new_lot_rgmn')"
   ]
  },
  {
   "cell_type": "code",
   "execution_count": null,
   "metadata": {
    "collapsed": true
   },
   "outputs": [],
   "source": []
  }
 ],
 "metadata": {
  "kernelspec": {
   "display_name": "Python 2",
   "language": "python",
   "name": "python2"
  },
  "language_info": {
   "codemirror_mode": {
    "name": "ipython",
    "version": 2
   },
   "file_extension": ".py",
   "mimetype": "text/x-python",
   "name": "python",
   "nbconvert_exporter": "python",
   "pygments_lexer": "ipython2",
   "version": "2.7.6"
  }
 },
 "nbformat": 4,
 "nbformat_minor": 1
}

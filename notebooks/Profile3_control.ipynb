{
 "cells": [
  {
   "cell_type": "code",
   "execution_count": 1,
   "metadata": {
    "collapsed": true
   },
   "outputs": [],
   "source": [
    "ctrl=openHive(\"gidr_stg_p.master_final_config\")"
   ]
  },
  {
   "cell_type": "code",
   "execution_count": 2,
   "metadata": {
    "collapsed": true
   },
   "outputs": [
    {
     "name": "stdout",
     "output_type": "stream",
     "text": [
      "vendor_name:String       = ALL\n",
      "database_name:String     = GIDR_STG_P\n",
      "table_name:String        = MISC_BRNDS\n",
      "column_name:String       = BRND_CD\n",
      "asc_type:String          = FTR\n",
      "input_1:String           = ALL\n",
      "input_2:String           = BRND_CD\n",
      "input_3:String           = ACCESS SOLN\n",
      "input_4:String           = null\n",
      "input_5:String           = null\n",
      "input_6:String           = null\n",
      "output_1:String          = Y\n",
      "output_2:String          = null\n",
      "output_3:String          = null\n",
      "output_4:String          = null\n",
      "output_5:String          = null\n",
      "output_6:String          = null\n",
      "market_name:String       = ALL\n",
      "group:String             = BRND_CD\n",
      "variable:String          = ACCESS SOLN\n",
      "code:String              = ACCESS SOLUTIONS\n",
      "output:String            = 999988\n",
      "load_timestamp:Timestamp = 2017-04-18 13:43:05.432742\n",
      "load_by:String           = ETL\n"
     ]
    }
   ],
   "source": [
    "ctrl.peek()"
   ]
  },
  {
   "cell_type": "code",
   "execution_count": 3,
   "metadata": {
    "collapsed": true
   },
   "outputs": [
    {
     "name": "stdout",
     "output_type": "stream",
     "text": [
      "Histogram of market_name: String sort by Key\n",
      "key                      count      Pct    cumCount   cumPct\n",
      "ALL                        417    1.40%         417    1.40%\n",
      "AST                       4401   14.74%        4818   16.14%\n",
      "CF                         395    1.32%        5213   17.46%\n",
      "HEP                         12    0.04%        5225   17.50%\n",
      "IMM                       4458   14.93%        9683   32.43%\n",
      "IPF                       2060    6.90%       11743   39.33%\n",
      "LUC                        690    2.31%       12433   41.64%\n",
      "MS                         108    0.36%       12541   42.00%\n",
      "ONC                      16954   56.78%       29495   98.78%\n",
      "VAL                        218    0.73%       29713   99.51%\n",
      "XOL                        145    0.49%       29858  100.00%\n",
      "-------------------------------------------------\n"
     ]
    }
   ],
   "source": [
    "ctrl.smvHist(\"market_name\")"
   ]
  },
  {
   "cell_type": "code",
   "execution_count": 5,
   "metadata": {
    "collapsed": true
   },
   "outputs": [
    {
     "name": "stdout",
     "output_type": "stream",
     "text": [
      "Histogram of table_name: String sort by Key\n",
      "key                      count      Pct    cumCount   cumPct\n",
      "BASE_METRICS               906    5.34%         906    5.34%\n",
      "BASE_MTRC_PHYN_FACT       1252    7.38%        2158   12.73%\n",
      "BASE_MTRC_PTNT_FACT       1252    7.38%        3410   20.11%\n",
      "CLM_SHA_STG_CLM_PRIM_PHYN         7    0.04%        3417   20.15%\n",
      "CLM_SHA_STG_CLM_REC       1257    7.41%        4674   27.57%\n",
      "CLM_SHA_STG_FLPD_DIAG      2170   12.80%        6844   40.37%\n",
      "CLM_SHA_STG_PTNT_MSTR       135    0.80%        6979   41.16%\n",
      "CLM_SHA_STG_PTNT_TUMOR      1388    8.19%        8367   49.35%\n",
      "CLM_SHA_STG_PTNT_UNVRS      1025    6.05%        9392   55.40%\n",
      "MTHLY_BASE_MTRC_PTNT_FACT      2210   13.04%       11602   68.43%\n",
      "PTNT_ELIG_BREAST_TEMP_1       721    4.25%       12323   72.68%\n",
      "PTNT_ELIG_CER_TEMP_1       262    1.55%       12585   74.23%\n",
      "PTNT_ELIG_CLL_TEMP_1        75    0.44%       12660   74.67%\n",
      "PTNT_ELIG_CRC_TEMP           9    0.05%       12669   74.73%\n",
      "PTNT_ELIG_CRC_TEMP_1       700    4.13%       13369   78.85%\n",
      "PTNT_ELIG_GBM_TEMP_1       255    1.50%       13624   80.36%\n",
      "PTNT_ELIG_GBM_TEMP_2        80    0.47%       13704   80.83%\n",
      "PTNT_ELIG_LUNG_TEMP_1       671    3.96%       14375   84.79%\n",
      "PTNT_ELIG_NHL_TEMP_1       242    1.43%       14617   86.22%\n",
      "PTNT_ELIG_OVA_TEMP          10    0.06%       14627   86.27%\n",
      "PTNT_ELIG_OVA_TEMP_1       804    4.74%       15431   91.02%\n",
      "PTNT_ELIG_RCC_TEMP_1        78    0.46%       15509   91.48%\n",
      "PTNT_LOT_HER2_FACT        1309    7.72%       16818   99.20%\n",
      "QTRLY_PRGSN_LVL_MTRC_DIM_TYP_FACT       128    0.75%       16946   99.95%\n",
      "QTRLY_PRGSN_LVL_MTRC_FACT         8    0.05%       16954  100.00%\n",
      "-------------------------------------------------\n"
     ]
    }
   ],
   "source": [
    "ctrl.where(col(\"market_name\") == \"ONC\").smvHist(\"table_name\")"
   ]
  },
  {
   "cell_type": "markdown",
   "metadata": {},
   "source": [
    "### Relavent: PTNT_ELIG_BREAST_TEMP_1, PTNT_LOT_HER2_FACT"
   ]
  },
  {
   "cell_type": "code",
   "execution_count": 7,
   "metadata": {
    "collapsed": false
   },
   "outputs": [],
   "source": [
    "rctrl=ctrl.where(ctrl.market_name == \"ONC\").where(ctrl.table_name.isin([\"PTNT_ELIG_BREAST_TEMP_1\", \"PTNT_LOT_HER2_FACT\"])).cache()"
   ]
  },
  {
   "cell_type": "code",
   "execution_count": 9,
   "metadata": {
    "collapsed": false
   },
   "outputs": [],
   "source": [
    "r1=rctrl.where(rctrl.table_name == \"PTNT_ELIG_BREAST_TEMP_1\").cache()"
   ]
  },
  {
   "cell_type": "code",
   "execution_count": 10,
   "metadata": {
    "collapsed": true
   },
   "outputs": [
    {
     "name": "stdout",
     "output_type": "stream",
     "text": [
      "Histogram of column_name: String sort by Key\n",
      "key                      count      Pct    cumCount   cumPct\n",
      "PRCDR_CDE                  588   85.34%         588   85.34%\n",
      "PRODT                      101   14.66%         689  100.00%\n",
      "-------------------------------------------------\n"
     ]
    }
   ],
   "source": [
    "r1.where(r1.asc_type == \"FTR\").smvHist(\"column_name\")"
   ]
  },
  {
   "cell_type": "code",
   "execution_count": 13,
   "metadata": {
    "collapsed": true
   },
   "outputs": [
    {
     "name": "stdout",
     "output_type": "stream",
     "text": [
      "vendor_name:String       = SHA\n",
      "database_name:String     = GIDR_STG_P\n",
      "table_name:String        = PTNT_ELIG_BREAST_TEMP_1\n",
      "column_name:String       = PRODT\n",
      "asc_type:String          = FTR\n",
      "input_1:String           = ONC\n",
      "input_2:String           = PRODT\n",
      "input_3:String           = BREAST_ONC_CODES\n",
      "input_4:String           = null\n",
      "input_5:String           = null\n",
      "input_6:String           = null\n",
      "output_1:String          = Y\n",
      "output_2:String          = null\n",
      "output_3:String          = null\n",
      "output_4:String          = null\n",
      "output_5:String          = null\n",
      "output_6:String          = null\n",
      "market_name:String       = ONC\n",
      "group:String             = PRODT\n",
      "variable:String          = BREAST_ONC_CODES\n",
      "code:String              = J9150\n",
      "output:String            = null\n",
      "load_timestamp:Timestamp = 2017-04-18 13:43:05.432742\n",
      "load_by:String           = ETL\n"
     ]
    }
   ],
   "source": [
    "r1.where(r1.asc_type == \"FTR\").where(r1.column_name == \"PRODT\").peek()"
   ]
  },
  {
   "cell_type": "code",
   "execution_count": 12,
   "metadata": {
    "collapsed": true
   },
   "outputs": [
    {
     "name": "stdout",
     "output_type": "stream",
     "text": [
      "Histogram of input_1: String sort by Key\n",
      "key                      count      Pct    cumCount   cumPct\n",
      "ONC                        101  100.00%         101  100.00%\n",
      "-------------------------------------------------\n",
      "Histogram of input_2: String sort by Key\n",
      "key                      count      Pct    cumCount   cumPct\n",
      "PRODT                      101  100.00%         101  100.00%\n",
      "-------------------------------------------------\n",
      "Histogram of input_3: String sort by Key\n",
      "key                      count      Pct    cumCount   cumPct\n",
      "BREAST_ONC_CODES           101  100.00%         101  100.00%\n",
      "-------------------------------------------------\n"
     ]
    }
   ],
   "source": [
    "r1.where(r1.asc_type == \"FTR\").where(r1.column_name == \"PRODT\").smvHist(\"input_1\", \"input_2\", \"input_3\")"
   ]
  },
  {
   "cell_type": "code",
   "execution_count": 14,
   "metadata": {
    "collapsed": true
   },
   "outputs": [
    {
     "name": "stdout",
     "output_type": "stream",
     "text": [
      "+----------------+-----+\n",
      "|        variable| code|\n",
      "+----------------+-----+\n",
      "|BREAST_ONC_CODES|J9150|\n",
      "|BREAST_ONC_CODES|J9216|\n",
      "|BREAST_ONC_CODES|J9250|\n",
      "|BREAST_ONC_CODES|J9045|\n",
      "|BREAST_ONC_CODES|J9110|\n",
      "|BREAST_ONC_CODES|J9151|\n",
      "|BREAST_ONC_CODES|J9095|\n",
      "|BREAST_ONC_CODES|J8610|\n",
      "|BREAST_ONC_CODES|J9263|\n",
      "|BREAST_ONC_CODES|J9340|\n",
      "|BREAST_ONC_CODES|J9015|\n",
      "|BREAST_ONC_CODES|J1825|\n",
      "|BREAST_ONC_CODES|J9303|\n",
      "|BREAST_ONC_CODES|J9207|\n",
      "|BREAST_ONC_CODES|S0187|\n",
      "|BREAST_ONC_CODES|J9180|\n",
      "|BREAST_ONC_CODES|J9001|\n",
      "|BREAST_ONC_CODES|J9181|\n",
      "|BREAST_ONC_CODES|J9190|\n",
      "|BREAST_ONC_CODES|J9206|\n",
      "|BREAST_ONC_CODES|J9290|\n",
      "|BREAST_ONC_CODES|J9291|\n",
      "|BREAST_ONC_CODES|J9293|\n",
      "|BREAST_ONC_CODES|J9370|\n",
      "|BREAST_ONC_CODES|J1830|\n",
      "|BREAST_ONC_CODES|J0894|\n",
      "|BREAST_ONC_CODES|J9100|\n",
      "|BREAST_ONC_CODES|J9080|\n",
      "|BREAST_ONC_CODES|J9027|\n",
      "|BREAST_ONC_CODES|J9065|\n",
      "|BREAST_ONC_CODES|J9264|\n",
      "|BREAST_ONC_CODES|J9209|\n",
      "|BREAST_ONC_CODES|J9050|\n",
      "|BREAST_ONC_CODES|J9090|\n",
      "|BREAST_ONC_CODES|J9092|\n",
      "|BREAST_ONC_CODES|J9093|\n",
      "|BREAST_ONC_CODES|J9097|\n",
      "|BREAST_ONC_CODES|J9098|\n",
      "|BREAST_ONC_CODES|J9041|\n",
      "|BREAST_ONC_CODES|J9268|\n",
      "|BREAST_ONC_CODES|J9214|\n",
      "|BREAST_ONC_CODES|J1055|\n",
      "|BREAST_ONC_CODES|J9302|\n",
      "|BREAST_ONC_CODES|S0170|\n",
      "|BREAST_ONC_CODES|J8565|\n",
      "|BREAST_ONC_CODES|J9182|\n",
      "|BREAST_ONC_CODES|J0641|\n",
      "|BREAST_ONC_CODES|J9261|\n",
      "|BREAST_ONC_CODES|J9171|\n",
      "|BREAST_ONC_CODES|J9000|\n",
      "|BREAST_ONC_CODES|J9033|\n",
      "|BREAST_ONC_CODES|J2778|\n",
      "|BREAST_ONC_CODES|J1056|\n",
      "|BREAST_ONC_CODES|J9185|\n",
      "|BREAST_ONC_CODES|J9280|\n",
      "|BREAST_ONC_CODES|J9360|\n",
      "|BREAST_ONC_CODES|J9310|\n",
      "|BREAST_ONC_CODES|J9055|\n",
      "|BREAST_ONC_CODES|J9010|\n",
      "|BREAST_ONC_CODES|J9390|\n",
      "|BREAST_ONC_CODES|J0640|\n",
      "|BREAST_ONC_CODES|J9350|\n",
      "|BREAST_ONC_CODES|J9375|\n",
      "|BREAST_ONC_CODES|J9025|\n",
      "|BREAST_ONC_CODES|J8700|\n",
      "|BREAST_ONC_CODES|J9265|\n",
      "|BREAST_ONC_CODES|J9211|\n",
      "|BREAST_ONC_CODES|J8560|\n",
      "|BREAST_ONC_CODES|S0178|\n",
      "|BREAST_ONC_CODES|J9060|\n",
      "|BREAST_ONC_CODES|J3487|\n",
      "|BREAST_ONC_CODES|J9380|\n",
      "|BREAST_ONC_CODES|J9178|\n",
      "|BREAST_ONC_CODES|J9201|\n",
      "|BREAST_ONC_CODES|J8600|\n",
      "|BREAST_ONC_CODES|J9170|\n",
      "|BREAST_ONC_CODES|J9040|\n",
      "|BREAST_ONC_CODES|J9140|\n",
      "|BREAST_ONC_CODES|J9213|\n",
      "|BREAST_ONC_CODES|J8521|\n",
      "|BREAST_ONC_CODES|J9062|\n",
      "|BREAST_ONC_CODES|J9091|\n",
      "|BREAST_ONC_CODES|J9094|\n",
      "|BREAST_ONC_CODES|J9096|\n",
      "|BREAST_ONC_CODES|J9212|\n",
      "|BREAST_ONC_CODES|J9165|\n",
      "|BREAST_ONC_CODES|J3315|\n",
      "|BREAST_ONC_CODES|J9215|\n",
      "|BREAST_ONC_CODES|J9260|\n",
      "|BREAST_ONC_CODES|J1051|\n",
      "|BREAST_ONC_CODES|J9130|\n",
      "|BREAST_ONC_CODES|J9070|\n",
      "|BREAST_ONC_CODES|J8530|\n",
      "|BREAST_ONC_CODES|J8510|\n",
      "|BREAST_ONC_CODES|J9208|\n",
      "|BREAST_ONC_CODES|J9305|\n",
      "|BREAST_ONC_CODES|J9320|\n",
      "|BREAST_ONC_CODES|J9035|\n",
      "|BREAST_ONC_CODES|J9300|\n",
      "|BREAST_ONC_CODES|J8520|\n",
      "|BREAST_ONC_CODES|J9120|\n",
      "+----------------+-----+\n",
      "\n"
     ]
    }
   ],
   "source": [
    "r1.where(r1.asc_type == \"FTR\").where(r1.column_name == \"PRODT\").select(\"variable\", \"code\").show(150)"
   ]
  },
  {
   "cell_type": "code",
   "execution_count": 16,
   "metadata": {
    "collapsed": true
   },
   "outputs": [
    {
     "name": "stdout",
     "output_type": "stream",
     "text": [
      "+-----------+-------------+--------------------+-----------+--------+-------+---------+----------+-------+-------+-------+--------+--------+--------+--------+--------+--------+-----------+---------+----------+-----+-------+--------------------+-------+\n",
      "|vendor_name|database_name|          table_name|column_name|asc_type|input_1|  input_2|   input_3|input_4|input_5|input_6|output_1|output_2|output_3|output_4|output_5|output_6|market_name|    group|  variable| code| output|      load_timestamp|load_by|\n",
      "+-----------+-------------+--------------------+-----------+--------+-------+---------+----------+-------+-------+-------+--------+--------+--------+--------+--------+--------+-----------+---------+----------+-----+-------+--------------------+-------+\n",
      "|        SHA|   GIDR_STG_P|PTNT_ELIG_BREAST_...|  PRCDR_CDE|     MAP|    ONC|PRCDR_CDE|BREAST_MKT|       |   null|   null|       Y|    null|    null|    null|    null|    null|        ONC|PRCDR_CDE|BREAST_MKT|J9178|PRODT11|2017-04-18 13:43:...|    ETL|\n",
      "|        SHA|   GIDR_STG_P|PTNT_ELIG_BREAST_...|  PRCDR_CDE|     MAP|    ONC|PRCDR_CDE|BREAST_MKT|       |   null|   null|       Y|    null|    null|    null|    null|    null|        ONC|PRCDR_CDE|BREAST_MKT|J9375|PRODT15|2017-04-18 13:43:...|    ETL|\n",
      "|        SHA|   GIDR_STG_P|PTNT_ELIG_BREAST_...|  PRCDR_CDE|     MAP|    ONC|PRCDR_CDE|BREAST_MKT|       |   null|   null|       Y|    null|    null|    null|    null|    null|        ONC|PRCDR_CDE|BREAST_MKT|J9035| PRODT5|2017-04-18 13:43:...|    ETL|\n",
      "|        SHA|   GIDR_STG_P|PTNT_ELIG_BREAST_...|  PRCDR_CDE|     MAP|    ONC|PRCDR_CDE|BREAST_MKT|       |   null|   null|       Y|    null|    null|    null|    null|    null|        ONC|PRCDR_CDE|BREAST_MKT|J9090| PRODT4|2017-04-18 13:43:...|    ETL|\n",
      "|        SHA|   GIDR_STG_P|PTNT_ELIG_BREAST_...|  PRCDR_CDE|     MAP|    ONC|PRCDR_CDE|BREAST_MKT|       |   null|   null|       Y|    null|    null|    null|    null|    null|        ONC|PRCDR_CDE|BREAST_MKT|J9000| PRODT3|2017-04-18 13:43:...|    ETL|\n",
      "|        SHA|   GIDR_STG_P|PTNT_ELIG_BREAST_...|  PRCDR_CDE|     MAP|    ONC|PRCDR_CDE|BREAST_MKT|       |   null|   null|       Y|    null|    null|    null|    null|    null|        ONC|PRCDR_CDE|BREAST_MKT|J9207|PRODT12|2017-04-18 13:43:...|    ETL|\n",
      "|        SHA|   GIDR_STG_P|PTNT_ELIG_BREAST_...|  PRCDR_CDE|     MAP|    ONC|PRCDR_CDE|BREAST_MKT|       |   null|   null|       Y|    null|    null|    null|    null|    null|        ONC|PRCDR_CDE|BREAST_MKT|J9260|PRODT13|2017-04-18 13:43:...|    ETL|\n",
      "|        SHA|   GIDR_STG_P|PTNT_ELIG_BREAST_...|  PRCDR_CDE|     MAP|    ONC|PRCDR_CDE|BREAST_MKT|       |   null|   null|       Y|    null|    null|    null|    null|    null|        ONC|PRCDR_CDE|BREAST_MKT|J9370|PRODT15|2017-04-18 13:43:...|    ETL|\n",
      "|        SHA|   GIDR_STG_P|PTNT_ELIG_BREAST_...|  PRCDR_CDE|     MAP|    ONC|PRCDR_CDE|BREAST_MKT|       |   null|   null|       Y|    null|    null|    null|    null|    null|        ONC|PRCDR_CDE|BREAST_MKT|J9190|PRODT10|2017-04-18 13:43:...|    ETL|\n",
      "|        SHA|   GIDR_STG_P|PTNT_ELIG_BREAST_...|  PRCDR_CDE|     MAP|    ONC|PRCDR_CDE|BREAST_MKT|       |   null|   null|       Y|    null|    null|    null|    null|    null|        ONC|PRCDR_CDE|BREAST_MKT|J9095| PRODT4|2017-04-18 13:43:...|    ETL|\n",
      "|        SHA|   GIDR_STG_P|PTNT_ELIG_BREAST_...|  PRCDR_CDE|     MAP|    ONC|PRCDR_CDE|BREAST_MKT|       |   null|   null|       Y|    null|    null|    null|    null|    null|        ONC|PRCDR_CDE|BREAST_MKT|J9096| PRODT4|2017-04-18 13:43:...|    ETL|\n",
      "|        SHA|   GIDR_STG_P|PTNT_ELIG_BREAST_...|  PRCDR_CDE|     MAP|    ONC|PRCDR_CDE|BREAST_MKT|       |   null|   null|       Y|    null|    null|    null|    null|    null|        ONC|PRCDR_CDE|BREAST_MKT|J9265| PRODT2|2017-04-18 13:43:...|    ETL|\n",
      "|        SHA|   GIDR_STG_P|PTNT_ELIG_BREAST_...|  PRCDR_CDE|     MAP|    ONC|PRCDR_CDE|BREAST_MKT|       |   null|   null|       Y|    null|    null|    null|    null|    null|        ONC|PRCDR_CDE|BREAST_MKT|J9070| PRODT4|2017-04-18 13:43:...|    ETL|\n",
      "|        SHA|   GIDR_STG_P|PTNT_ELIG_BREAST_...|  PRCDR_CDE|     MAP|    ONC|PRCDR_CDE|BREAST_MKT|       |   null|   null|       Y|    null|    null|    null|    null|    null|        ONC|PRCDR_CDE|BREAST_MKT|J9093| PRODT4|2017-04-18 13:43:...|    ETL|\n",
      "|        SHA|   GIDR_STG_P|PTNT_ELIG_BREAST_...|  PRCDR_CDE|     MAP|    ONC|PRCDR_CDE|BREAST_MKT|       |   null|   null|       Y|    null|    null|    null|    null|    null|        ONC|PRCDR_CDE|BREAST_MKT|J9170| PRODT1|2017-04-18 13:43:...|    ETL|\n",
      "|        SHA|   GIDR_STG_P|PTNT_ELIG_BREAST_...|  PRCDR_CDE|     MAP|    ONC|PRCDR_CDE|BREAST_MKT|       |   null|   null|       Y|    null|    null|    null|    null|    null|        ONC|PRCDR_CDE|BREAST_MKT|J9171| PRODT1|2017-04-18 13:43:...|    ETL|\n",
      "|        SHA|   GIDR_STG_P|PTNT_ELIG_BREAST_...|  PRCDR_CDE|     MAP|    ONC|PRCDR_CDE|BREAST_MKT|       |   null|   null|       Y|    null|    null|    null|    null|    null|        ONC|PRCDR_CDE|BREAST_MKT|J9360|PRODT15|2017-04-18 13:43:...|    ETL|\n",
      "|        SHA|   GIDR_STG_P|PTNT_ELIG_BREAST_...|  PRCDR_CDE|     MAP|    ONC|PRCDR_CDE|BREAST_MKT|       |   null|   null|       Y|    null|    null|    null|    null|    null|        ONC|PRCDR_CDE|BREAST_MKT|J9001| PRODT3|2017-04-18 13:43:...|    ETL|\n",
      "|        SHA|   GIDR_STG_P|PTNT_ELIG_BREAST_...|  PRCDR_CDE|     MAP|    ONC|PRCDR_CDE|BREAST_MKT|       |   null|   null|       Y|    null|    null|    null|    null|    null|        ONC|PRCDR_CDE|BREAST_MKT|J9091| PRODT4|2017-04-18 13:43:...|    ETL|\n",
      "|        SHA|   GIDR_STG_P|PTNT_ELIG_BREAST_...|  PRCDR_CDE|     MAP|    ONC|PRCDR_CDE|BREAST_MKT|       |   null|   null|       Y|    null|    null|    null|    null|    null|        ONC|PRCDR_CDE|BREAST_MKT|J9080| PRODT4|2017-04-18 13:43:...|    ETL|\n",
      "|        SHA|   GIDR_STG_P|PTNT_ELIG_BREAST_...|  PRCDR_CDE|     MAP|    ONC|PRCDR_CDE|BREAST_MKT|       |   null|   null|       Y|    null|    null|    null|    null|    null|        ONC|PRCDR_CDE|BREAST_MKT|J9094| PRODT4|2017-04-18 13:43:...|    ETL|\n",
      "|        SHA|   GIDR_STG_P|PTNT_ELIG_BREAST_...|  PRCDR_CDE|     MAP|    ONC|PRCDR_CDE|BREAST_MKT|       |   null|   null|       Y|    null|    null|    null|    null|    null|        ONC|PRCDR_CDE|BREAST_MKT|J9045| PRODT6|2017-04-18 13:43:...|    ETL|\n",
      "|        SHA|   GIDR_STG_P|PTNT_ELIG_BREAST_...|  PRCDR_CDE|     MAP|    ONC|PRCDR_CDE|BREAST_MKT|       |   null|   null|       Y|    null|    null|    null|    null|    null|        ONC|PRCDR_CDE|BREAST_MKT|J9263|PRODT14|2017-04-18 13:43:...|    ETL|\n",
      "|        SHA|   GIDR_STG_P|PTNT_ELIG_BREAST_...|  PRCDR_CDE|     MAP|    ONC|PRCDR_CDE|BREAST_MKT|       |   null|   null|       Y|    null|    null|    null|    null|    null|        ONC|PRCDR_CDE|BREAST_MKT|J9380|PRODT15|2017-04-18 13:43:...|    ETL|\n",
      "|        SHA|   GIDR_STG_P|PTNT_ELIG_BREAST_...|  PRCDR_CDE|     MAP|    ONC|PRCDR_CDE|BREAST_MKT|       |   null|   null|       Y|    null|    null|    null|    null|    null|        ONC|PRCDR_CDE|BREAST_MKT|J9390| PRODT9|2017-04-18 13:43:...|    ETL|\n",
      "|        SHA|   GIDR_STG_P|PTNT_ELIG_BREAST_...|  PRCDR_CDE|     MAP|    ONC|PRCDR_CDE|BREAST_MKT|       |   null|   null|       Y|    null|    null|    null|    null|    null|        ONC|PRCDR_CDE|BREAST_MKT|J9250|PRODT13|2017-04-18 13:43:...|    ETL|\n",
      "|        SHA|   GIDR_STG_P|PTNT_ELIG_BREAST_...|  PRCDR_CDE|     MAP|    ONC|PRCDR_CDE|BREAST_MKT|       |   null|   null|       Y|    null|    null|    null|    null|    null|        ONC|PRCDR_CDE|BREAST_MKT|J9201| PRODT8|2017-04-18 13:43:...|    ETL|\n",
      "|        SHA|   GIDR_STG_P|PTNT_ELIG_BREAST_...|  PRCDR_CDE|     MAP|    ONC|PRCDR_CDE|BREAST_MKT|       |   null|   null|       Y|    null|    null|    null|    null|    null|        ONC|PRCDR_CDE|BREAST_MKT|J9092| PRODT4|2017-04-18 13:43:...|    ETL|\n",
      "|        SHA|   GIDR_STG_P|PTNT_ELIG_BREAST_...|  PRCDR_CDE|     MAP|    ONC|PRCDR_CDE|BREAST_MKT|       |   null|   null|       Y|    null|    null|    null|    null|    null|        ONC|PRCDR_CDE|BREAST_MKT|J9097| PRODT4|2017-04-18 13:43:...|    ETL|\n",
      "|        SHA|   GIDR_STG_P|PTNT_ELIG_BREAST_...|  PRCDR_CDE|     MAP|    ONC|PRCDR_CDE|BREAST_MKT|       |   null|   null|       Y|    null|    null|    null|    null|    null|        ONC|PRCDR_CDE|BREAST_MKT|J9264| PRODT7|2017-04-18 13:43:...|    ETL|\n",
      "|        SHA|   GIDR_STG_P|PTNT_ELIG_BREAST_...|  PRCDR_CDE|     MAP|    ONC|PRCDR_CDE|BREAST_MKT|       |   null|   null|       Y|    null|    null|    null|    null|    null|        ONC|PRCDR_CDE|BREAST_MKT|J8530| PRODT4|2017-04-18 13:43:...|    ETL|\n",
      "|        SHA|   GIDR_STG_P|PTNT_ELIG_BREAST_...|  PRCDR_CDE|     MAP|    ONC|PRCDR_CDE|BREAST_MKT|       |   null|   null|       Y|    null|    null|    null|    null|    null|        ONC|PRCDR_CDE|BREAST_MKT|J8610|PRODT13|2017-04-18 13:43:...|    ETL|\n",
      "+-----------+-------------+--------------------+-----------+--------+-------+---------+----------+-------+-------+-------+--------+--------+--------+--------+--------+--------+-----------+---------+----------+-----+-------+--------------------+-------+\n",
      "\n"
     ]
    }
   ],
   "source": [
    "r1.where(r1.asc_type == \"MAP\").show(100)"
   ]
  },
  {
   "cell_type": "code",
   "execution_count": 19,
   "metadata": {
    "collapsed": true
   },
   "outputs": [
    {
     "name": "stdout",
     "output_type": "stream",
     "text": [
      "Histogram of input_1: String sort by Key\n",
      "key                      count      Pct    cumCount   cumPct\n",
      "ONC                        588  100.00%         588  100.00%\n",
      "-------------------------------------------------\n",
      "Histogram of input_2: String sort by Key\n",
      "key                      count      Pct    cumCount   cumPct\n",
      "PRCDR_CDE                  588  100.00%         588  100.00%\n",
      "-------------------------------------------------\n",
      "Histogram of input_3: String sort by Key\n",
      "key                      count      Pct    cumCount   cumPct\n",
      "COLECTOMY                   23    3.91%          23    3.91%\n",
      "EXCISION                   401   68.20%         424   72.11%\n",
      "EX_SUR                      15    2.55%         439   74.66%\n",
      "HEPATECTOMY                  5    0.85%         444   75.51%\n",
      "LOBECTOMY                   14    2.38%         458   77.89%\n",
      "MASTECTOMY                  17    2.89%         475   80.78%\n",
      "PROCTECTOMY                 20    3.40%         495   84.18%\n",
      "RC_SUR                      26    4.42%         521   88.61%\n",
      "SURGERY                     67   11.39%         588  100.00%\n",
      "-------------------------------------------------\n"
     ]
    }
   ],
   "source": [
    "r1.where(r1.asc_type == \"FTR\").where(r1.column_name == \"PRCDR_CDE\").smvHist(\"input_1\", \"input_2\", \"input_3\")"
   ]
  },
  {
   "cell_type": "markdown",
   "metadata": {},
   "source": [
    "# Drug master"
   ]
  },
  {
   "cell_type": "code",
   "execution_count": 2,
   "metadata": {
    "collapsed": true
   },
   "outputs": [],
   "source": [
    "drug=openHive(\"gidr_stg_p.clm_sha_drug_dim\")"
   ]
  },
  {
   "cell_type": "code",
   "execution_count": 2,
   "metadata": {
    "collapsed": false
   },
   "outputs": [
    {
     "name": "stdout",
     "output_type": "stream",
     "text": [
      "MKT_NM:String          = AST\n",
      "BB_USC_CDE:String      = 99999\n",
      "BB_USC_NM:String       = *UNASSIGNED*\n",
      "BG1:String             = G\n",
      "DRG_FORM:String        = TABLET\n",
      "DRG_GNRC_NM:String     = THYROID\n",
      "DRG_ID:String          = 0000210260282\n",
      "DRG_LGL_CLS:String     = R\n",
      "DRG_NM:String          = THYROID\n",
      "DRG_STRGTH:String      = 120MG\n",
      "MFR:String             = LILLY\n",
      "NDC_START_DT:Timestamp = 1982-03-08 00:00:00.0\n",
      "NDC11:String           = 00002102602\n",
      "PKG_DESC:String        = \n",
      "PKG_SZ:Decimal(11,3)   = 100.000\n",
      "LD_TM:Timestamp        = 2016-08-29 03:36:56.0\n",
      "RCPT_DT:Integer        = 20160821\n",
      "DT_MTH:String          = 201607\n"
     ]
    }
   ],
   "source": [
    "drug.peek()"
   ]
  },
  {
   "cell_type": "code",
   "execution_count": 3,
   "metadata": {
    "collapsed": false
   },
   "outputs": [
    {
     "name": "stdout",
     "output_type": "stream",
     "text": [
      "Histogram of MKT_NM: String sort by Key\n",
      "key                      count      Pct    cumCount   cumPct\n",
      "AST                     429789   11.13%      429789   11.13%\n",
      "CF                      427816   11.08%      857605   22.20%\n",
      "HEP                     429789   11.13%     1287394   33.33%\n",
      "IMM                     427816   11.08%     1715210   44.41%\n",
      "IPF                     429789   11.13%     2144999   55.53%\n",
      "LUC                     427816   11.08%     2572815   66.61%\n",
      "MS                      429789   11.13%     3002604   77.74%\n",
      "ONC                     432134   11.19%     3434738   88.92%\n",
      "VAL                     427816   11.08%     3862554  100.00%\n",
      "-------------------------------------------------\n"
     ]
    }
   ],
   "source": [
    "drug.smvHist(\"MKT_NM\")"
   ]
  },
  {
   "cell_type": "code",
   "execution_count": 11,
   "metadata": {
    "collapsed": false
   },
   "outputs": [],
   "source": [
    "dox=drug.where(drug.MKT_NM == \"ONC\").where((upper(drug.DRG_NM).like(\"%DOXORUBICIN%\")) | (upper(drug.DRG_GNRC_NM).like(\"%DOXORUBICIN%\"))).cache()"
   ]
  },
  {
   "cell_type": "code",
   "execution_count": 12,
   "metadata": {
    "collapsed": false
   },
   "outputs": [
    {
     "data": {
      "text/plain": [
       "139"
      ]
     },
     "execution_count": 12,
     "metadata": {},
     "output_type": "execute_result"
    }
   ],
   "source": [
    "dox.count()"
   ]
  },
  {
   "cell_type": "code",
   "execution_count": 13,
   "metadata": {
    "collapsed": false
   },
   "outputs": [
    {
     "name": "stdout",
     "output_type": "stream",
     "text": [
      "Histogram of DRG_NM: String sort by Key\n",
      "key                      count      Pct    cumCount   cumPct\n",
      "ADRIAMYCIN                  18   12.95%          18   12.95%\n",
      "ADRIAMYCIN RDF               6    4.32%          24   17.27%\n",
      "ADRIAMYCIN-PFS              13    9.35%          37   26.62%\n",
      "DOXIL                        6    4.32%          43   30.94%\n",
      "DOXORUBICIN HCL             86   61.87%         129   92.81%\n",
      "DOXORUBICIN HCL LIPOSOME         2    1.44%         131   94.24%\n",
      "LIPODOX                      1    0.72%         132   94.96%\n",
      "LIPODOX 50                   1    0.72%         133   95.68%\n",
      "RUBEX                        6    4.32%         139  100.00%\n",
      "-------------------------------------------------\n",
      "Histogram of DRG_GNRC_NM: String sort by Key\n",
      "key                      count      Pct    cumCount   cumPct\n",
      "DOXORUBICIN HCL            124   89.21%         124   89.21%\n",
      "DOXORUBICIN HCL PEG-LIPOSOMAL        10    7.19%         134   96.40%\n",
      "DOXORUBICIN HYDROCHLORIDE         5    3.60%         139  100.00%\n",
      "-------------------------------------------------\n"
     ]
    }
   ],
   "source": [
    "dox.smvHist(\"DRG_NM\", \"DRG_GNRC_NM\")"
   ]
  },
  {
   "cell_type": "code",
   "execution_count": 14,
   "metadata": {
    "collapsed": true
   },
   "outputs": [],
   "source": [
    "leu=drug.where(drug.MKT_NM == \"ONC\").where((upper(drug.DRG_NM).like(\"%LEUCOVORIN%\")) | (upper(drug.DRG_GNRC_NM).like(\"%LEUCOVORIN%\"))).cache()"
   ]
  },
  {
   "cell_type": "code",
   "execution_count": 15,
   "metadata": {
    "collapsed": false
   },
   "outputs": [
    {
     "data": {
      "text/plain": [
       "218"
      ]
     },
     "execution_count": 15,
     "metadata": {},
     "output_type": "execute_result"
    }
   ],
   "source": [
    "leu.count()"
   ]
  },
  {
   "cell_type": "code",
   "execution_count": 16,
   "metadata": {
    "collapsed": false
   },
   "outputs": [
    {
     "name": "stdout",
     "output_type": "stream",
     "text": [
      "Histogram of DRG_NM: String sort by Key\n",
      "key                      count      Pct    cumCount   cumPct\n",
      "CALCIUM FOLINATE             7    3.21%           7    3.21%\n",
      "FOLINIC-PLUS                 1    0.46%           8    3.67%\n",
      "FUSILEV                      1    0.46%           9    4.13%\n",
      "LEUCOVORIN CALCIUM         201   92.20%         210   96.33%\n",
      "LEVOLEUCOVORIN CALCIUM         4    1.83%         214   98.17%\n",
      "WELLCOVORIN                  4    1.83%         218  100.00%\n",
      "-------------------------------------------------\n",
      "Histogram of DRG_GNRC_NM: String sort by Key\n",
      "key                      count      Pct    cumCount   cumPct\n",
      "LEUCOVORIN CALCIUM         212   97.25%         212   97.25%\n",
      "LEUCOVORIN/PYRIDOX/MECOBALAMIN         1    0.46%         213   97.71%\n",
      "LEVOLEUCOVORIN CALCIUM         5    2.29%         218  100.00%\n",
      "-------------------------------------------------\n"
     ]
    }
   ],
   "source": [
    "leu.smvHist(\"DRG_NM\", \"DRG_GNRC_NM\")"
   ]
  },
  {
   "cell_type": "code",
   "execution_count": 3,
   "metadata": {
    "collapsed": false
   },
   "outputs": [],
   "source": [
    "adr=drug.where(drug.MKT_NM == \"ONC\").where((upper(drug.DRG_NM).like(\"ADRUCIL%\")) | (upper(drug.DRG_GNRC_NM).like(\"ADRUCIL%\"))).cache()"
   ]
  },
  {
   "cell_type": "code",
   "execution_count": 4,
   "metadata": {
    "collapsed": false
   },
   "outputs": [
    {
     "data": {
      "text/plain": [
       "11"
      ]
     },
     "execution_count": 4,
     "metadata": {},
     "output_type": "execute_result"
    }
   ],
   "source": [
    "adr.count()"
   ]
  },
  {
   "cell_type": "code",
   "execution_count": 5,
   "metadata": {
    "collapsed": true
   },
   "outputs": [
    {
     "name": "stdout",
     "output_type": "stream",
     "text": [
      "+------+----------+------------------+---+------------------+------------+-------------+-----------+-------+----------+---------------+--------------------+-----------+--------------------+-------+--------------------+--------+------+\n",
      "|MKT_NM|BB_USC_CDE|         BB_USC_NM|BG1|          DRG_FORM| DRG_GNRC_NM|       DRG_ID|DRG_LGL_CLS| DRG_NM|DRG_STRGTH|            MFR|        NDC_START_DT|      NDC11|            PKG_DESC| PKG_SZ|               LD_TM| RCPT_DT|DT_MTH|\n",
      "+------+----------+------------------+---+------------------+------------+-------------+-----------+-------+----------+---------------+--------------------+-----------+--------------------+-------+--------------------+--------+------+\n",
      "|   ONC|     30220|PYRIMIDINE ANALOGS|  B|  VIALS INJECTABLE|FLUOROURACIL|0070330181116|          R|ADRUCIL|2.5GM/50ML|TEVA PARENTERAL|2016-08-05 00:00:...|00703301811|   INNER, LATEX-FREE| 50.000|2017-01-01 22:54:...|20161218|201611|\n",
      "|   ONC|     30220|PYRIMIDINE ANALOGS|  B|  VIALS INJECTABLE|FLUOROURACIL|0001310369190|          R|ADRUCIL|      50MG|   SICOR PHARMA|1990-01-01 00:00:...|00013103691|                    | 10.000|2017-01-01 22:54:...|20161218|201611|\n",
      "|   ONC|     30220|PYRIMIDINE ANALOGS|  B|  VIALS INJECTABLE|FLUOROURACIL|0070330191116|          R|ADRUCIL|5GM/100 ML|TEVA PARENTERAL|2016-08-05 00:00:...|00703301911| NON-SALEABLE, INNER|100.000|2017-01-01 22:54:...|20161218|201611|\n",
      "|   ONC|     99999|      *UNASSIGNED*|  B|AMPULES INJECTABLE|FLUOROURACIL|0001310269181|          R|ADRUCIL|     500MG|PHARMACIA/UPJHN|1981-10-12 00:00:...|00013102691|             10X10ML| 10.000|2017-01-01 22:54:...|20161218|201611|\n",
      "|   ONC|     30220|PYRIMIDINE ANALOGS|  B|  VIALS INJECTABLE|FLUOROURACIL|0001310469493|          R|ADRUCIL|      50MG|   SICOR PHARMA|1993-06-04 00:00:...|00013104694|           BULK PACK| 50.000|2017-01-01 22:54:...|20161218|201611|\n",
      "|   ONC|     30220|PYRIMIDINE ANALOGS|  B|  VIALS INJECTABLE|FLUOROURACIL|0070330191200|          R|ADRUCIL| 5GM/100ML|TEVA PARENTERAL|2000-05-30 00:00:...|00703301912|          5'S, OUTER|100.000|2017-01-01 22:54:...|20161218|201611|\n",
      "|   ONC|     30220|PYRIMIDINE ANALOGS|  B|  VIALS INJECTABLE|FLUOROURACIL|0070330151300|          R|ADRUCIL|500MG/10ML|TEVA PARENTERAL|2000-05-30 00:00:...|00703301513|SDV,LATEX-FREE,OUTER| 10.000|2017-01-01 22:54:...|20161218|201611|\n",
      "|   ONC|     30220|PYRIMIDINE ANALOGS|  B|  VIALS INJECTABLE|FLUOROURACIL|0070330151116|          R|ADRUCIL|500MG/10ML|TEVA PARENTERAL|2016-08-05 00:00:...|00703301511|SDV,LATEX-FREE,INNER| 10.000|2017-01-01 22:54:...|20161218|201611|\n",
      "|   ONC|     30220|PYRIMIDINE ANALOGS|  B|  VIALS INJECTABLE|FLUOROURACIL|0001310569493|          R|ADRUCIL|      50MG|   SICOR PHARMA|1993-06-04 00:00:...|00013105694|           BULK PACK|100.000|2017-01-01 22:54:...|20161218|201611|\n",
      "|   ONC|     30220|PYRIMIDINE ANALOGS|  B|  VIALS INJECTABLE|FLUOROURACIL|0070330181200|          R|ADRUCIL|2.5GM/50ML|TEVA PARENTERAL|2000-05-30 00:00:...|00703301812|   OUTER, LATEX-FREE| 50.000|2017-01-01 22:54:...|20161218|201611|\n",
      "|   ONC|     99999|      *UNASSIGNED*|  B|  VIALS INJECTABLE|FLUOROURACIL|0001310369587|          R|ADRUCIL|      50MG|   SICOR PHARMA|1987-09-01 00:00:...|00013103695|                    | 10.000|2017-01-01 22:54:...|20161218|201611|\n",
      "+------+----------+------------------+---+------------------+------------+-------------+-----------+-------+----------+---------------+--------------------+-----------+--------------------+-------+--------------------+--------+------+\n",
      "\n"
     ]
    }
   ],
   "source": [
    "adr.show()"
   ]
  },
  {
   "cell_type": "code",
   "execution_count": 9,
   "metadata": {
    "collapsed": true
   },
   "outputs": [],
   "source": [
    "kad=drug.where(drug.MKT_NM == \"ONC\").where((upper(drug.DRG_NM).like(\"%KADCYLA%\")) | (upper(drug.DRG_GNRC_NM).like(\"%KADCYLA%\"))).cache()"
   ]
  },
  {
   "cell_type": "code",
   "execution_count": 10,
   "metadata": {
    "collapsed": false
   },
   "outputs": [
    {
     "data": {
      "text/plain": [
       "2"
      ]
     },
     "execution_count": 10,
     "metadata": {},
     "output_type": "execute_result"
    }
   ],
   "source": [
    "kad.count()"
   ]
  },
  {
   "cell_type": "code",
   "execution_count": 8,
   "metadata": {
    "collapsed": false
   },
   "outputs": [
    {
     "name": "stdout",
     "output_type": "stream",
     "text": [
      "+------+----------+--------------------+---+----------------+--------------------+-------------+-----------+-------+----------+-------------+--------------------+-----------+--------+------+--------------------+--------+------+\n",
      "|MKT_NM|BB_USC_CDE|           BB_USC_NM|BG1|        DRG_FORM|         DRG_GNRC_NM|       DRG_ID|DRG_LGL_CLS| DRG_NM|DRG_STRGTH|          MFR|        NDC_START_DT|      NDC11|PKG_DESC|PKG_SZ|               LD_TM| RCPT_DT|DT_MTH|\n",
      "+------+----------+--------------------+---+----------------+--------------------+-------------+-----------+-------+----------+-------------+--------------------+-----------+--------+------+--------------------+--------+------+\n",
      "|   ONC|     30990|ANTINEOPLASTICS, ...|  B|VIALS INJECTABLE|ADO-TRASTUZUMAB E...|5024200870113|          R|KADCYLA|     160MG|GENENTECH INC|2013-02-26 00:00:...|50242008701|P/F, SDV| 1.000|2017-01-01 22:54:...|20161218|201611|\n",
      "|   ONC|     30990|ANTINEOPLASTICS, ...|  B|VIALS INJECTABLE|ADO-TRASTUZUMAB E...|5024200880113|          R|KADCYLA|     100MG|GENENTECH INC|2013-02-26 00:00:...|50242008801|P/F, SDV| 1.000|2017-01-01 22:54:...|20161218|201611|\n",
      "+------+----------+--------------------+---+----------------+--------------------+-------------+-----------+-------+----------+-------------+--------------------+-----------+--------+------+--------------------+--------+------+\n",
      "\n"
     ]
    }
   ],
   "source": [
    "kad.show()"
   ]
  },
  {
   "cell_type": "markdown",
   "metadata": {},
   "source": [
    "### $\\Uparrow$ use `upper(col(\"DRG_NM\")).like(\"NAME%\") | upper(col(\"DRG_GNRC_NM\").like(\"NAME%\")` to find matches"
   ]
  },
  {
   "cell_type": "markdown",
   "metadata": {},
   "source": [
    "# Study affiliation"
   ]
  },
  {
   "cell_type": "code",
   "execution_count": 1,
   "metadata": {
    "collapsed": true
   },
   "outputs": [],
   "source": [
    "a=openHive(\"gidr_stg_p.affl_field_int_javelin\")"
   ]
  },
  {
   "cell_type": "code",
   "execution_count": 2,
   "metadata": {
    "collapsed": false
   },
   "outputs": [
    {
     "name": "stdout",
     "output_type": "stream",
     "text": [
      "mdm_key:String                  = ZACCT_9990801\n",
      "fld_frc_cd:String               = RA\n",
      "lvl1_org_id:String              = UNKNOWN\n",
      "lvl1_org_nm:String              = null\n",
      "lvl1_dba_nm:String              = null\n",
      "lvl1_physical_addr_1:String     = null\n",
      "lvl1_physical_addr_2:String     = null\n",
      "lvl1_physical_city:String       = null\n",
      "lvl1_physical_state:String      = null\n",
      "lvl1_physical_zip:String        = null\n",
      "lvl1_cot_classification:String  = null\n",
      "lvl1_cot_facility_type:String   = null\n",
      "lvl1_cot_specialty:String       = null\n",
      "lvl1_teaching_hosp:String       = null\n",
      "lvl1_resident_program:String    = null\n",
      "lvl1_hin:String                 = null\n",
      "lvl1_dea:String                 = null\n",
      "lvl1_formulary:String           = null\n",
      "lvl1_status_indicator:String    = null\n",
      "lvl1_flg_340b:String            = null\n",
      "lvl1_soc_flg_340b:String        = null\n",
      "lvl1_soc_final_cls:String       = null\n",
      "lvl1_soc_final_grp_desc:String  = null\n",
      "lvl1_soc_final_grp_cd:String    = null\n",
      "lvl1_soc_340b_strt_dt:Timestamp = null\n",
      "lvl1_soc_340b_end_dt:Timestamp  = null\n",
      "lvl2_org_id:String              = UNKNOWN\n",
      "lvl2_org_nm:String              = null\n",
      "lvl2_dba_nm:String              = null\n",
      "lvl2_cot_classification:String  = null\n",
      "lvl2_cot_facility_type:String   = null\n",
      "lvl2_cot_specialty:String       = null\n",
      "lvl2_dea:String                 = null\n",
      "lvl2_flg_340b:String            = null\n",
      "lvl2_soc_flg_340b:String        = null\n",
      "lvl2_soc_final_cls:String       = null\n",
      "lvl2_soc_final_grp_desc:String  = null\n",
      "lvl2_soc_final_grp_cd:String    = null\n",
      "lvl2_soc_340b_strt_dt:Timestamp = null\n",
      "lvl2_soc_340b_end_dt:Timestamp  = null\n",
      "lvl3_org_id:String              = UNKNOWN\n",
      "lvl3_org_nm:String              = null\n",
      "lvl3_dba_nm:String              = null\n",
      "lvl3_cot_classification:String  = null\n",
      "lvl3_cot_facility_type:String   = null\n",
      "lvl3_cot_specialty:String       = null\n",
      "lvl3_dea:String                 = null\n",
      "lvl3_flg_340b:String            = null\n",
      "lvl3_soc_flg_340b:String        = null\n",
      "lvl3_soc_final_cls:String       = null\n",
      "lvl3_soc_final_grp_desc:String  = null\n",
      "lvl3_soc_final_grp_cd:String    = null\n",
      "lvl3_soc_340b_strt_dt:Timestamp = null\n",
      "lvl3_soc_340b_end_dt:Timestamp  = null\n",
      "lvl4_org_id:String              = null\n",
      "lvl4_org_nm:String              = null\n",
      "lvl4_dba_nm:String              = null\n",
      "lvl4_cot_classification:String  = null\n",
      "lvl4_cot_facility_type:String   = null\n",
      "lvl4_cot_specialty:String       = null\n",
      "lvl4_dea:String                 = null\n",
      "lvl4_flg_340b:String            = null\n",
      "lvl4_soc_flg_340b:String        = null\n",
      "lvl4_soc_final_cls:String       = null\n",
      "lvl4_soc_final_grp_desc:String  = null\n",
      "lvl4_soc_final_grp_cd:String    = null\n",
      "lvl4_soc_340b_strt_dt:Timestamp = null\n",
      "lvl4_soc_340b_end_dt:Timestamp  = null\n",
      "affl_typ_flg:String             = UNKNOWN\n",
      "ld_tm:Timestamp                 = 2017-01-22 23:33:06.307777\n"
     ]
    }
   ],
   "source": [
    "a.peek()"
   ]
  },
  {
   "cell_type": "code",
   "execution_count": 3,
   "metadata": {
    "collapsed": false
   },
   "outputs": [
    {
     "data": {
      "text/plain": [
       "448989"
      ]
     },
     "execution_count": 3,
     "metadata": {},
     "output_type": "execute_result"
    }
   ],
   "source": [
    "a.count()"
   ]
  },
  {
   "cell_type": "code",
   "execution_count": 4,
   "metadata": {
    "collapsed": true
   },
   "outputs": [
    {
     "name": "stdout",
     "output_type": "stream",
     "text": [
      "Histogram of fld_frc_cd: String sort by Key\n",
      "key                      count      Pct    cumCount   cumPct\n",
      "ESBT                      6379    1.42%        6379    1.42%\n",
      "HEM                      82903   18.46%       89282   19.89%\n",
      "HER2                     85112   18.96%      174394   38.84%\n",
      "LUC                      11326    2.52%      185720   41.36%\n",
      "LUNG_GI                  79984   17.81%      265704   59.18%\n",
      "LYT                      12047    2.68%      277751   61.86%\n",
      "NUT                       5436    1.21%      283187   63.07%\n",
      "PZ                       15537    3.46%      298724   66.53%\n",
      "RA                       26871    5.98%      325595   72.52%\n",
      "SKIN                     80880   18.01%      406475   90.53%\n",
      "TRANSPLANT               42514    9.47%      448989  100.00%\n",
      "-------------------------------------------------\n"
     ]
    }
   ],
   "source": [
    "a.smvHist(\"fld_frc_cd\")"
   ]
  },
  {
   "cell_type": "code",
   "execution_count": 8,
   "metadata": {
    "collapsed": false,
    "scrolled": true
   },
   "outputs": [
    {
     "name": "stdout",
     "output_type": "stream",
     "text": [
      "Histogram of affl_typ_flg: String sort by Key\n",
      "key                      count      Pct    cumCount   cumPct\n",
      "PRIMARY                  43508   51.12%       43508   51.12%\n",
      "SECONDARY                33421   39.27%       76929   90.39%\n",
      "UNKNOWN                   8183    9.61%       85112  100.00%\n",
      "-------------------------------------------------\n"
     ]
    }
   ],
   "source": [
    "a.where(a.fld_frc_cd == \"HER2\").smvHist(\"affl_typ_flg\")"
   ]
  },
  {
   "cell_type": "code",
   "execution_count": 9,
   "metadata": {
    "collapsed": false
   },
   "outputs": [
    {
     "name": "stdout",
     "output_type": "stream",
     "text": [
      "mdm_key:String                  = 23104259\n",
      "fld_frc_cd:String               = HER2\n",
      "lvl1_org_id:String              = INS00497667\n",
      "lvl1_org_nm:String              = CALIFORNIA RETINA ASSOCIATES\n",
      "lvl1_dba_nm:String              = null\n",
      "lvl1_physical_addr_1:String     = 1452 S LA BRUCHERIE RD\n",
      "lvl1_physical_addr_2:String     = STE A\n",
      "lvl1_physical_city:String       = EL CENTRO\n",
      "lvl1_physical_state:String      = CA\n",
      "lvl1_physical_zip:String        = 92243-9676\n",
      "lvl1_cot_classification:String  = OUTPATIENT CENTER\n",
      "lvl1_cot_facility_type:String   = MEDICAL GROUP\n",
      "lvl1_cot_specialty:String       = OPHTHALMOLOGY\n",
      "lvl1_teaching_hosp:String       = null\n",
      "lvl1_resident_program:String    = null\n",
      "lvl1_hin:String                 = K3DPR6M00CLHH\n",
      "lvl1_dea:String                 = null\n",
      "lvl1_formulary:String           = null\n",
      "lvl1_status_indicator:String    = A\n",
      "lvl1_flg_340b:String            = null\n",
      "lvl1_soc_flg_340b:String        = 0\n",
      "lvl1_soc_final_cls:String       = Clinic\n",
      "lvl1_soc_final_grp_desc:String  = B&BClinic\n",
      "lvl1_soc_final_grp_cd:String    = 2\n",
      "lvl1_soc_340b_strt_dt:Timestamp = null\n",
      "lvl1_soc_340b_end_dt:Timestamp  = null\n",
      "lvl2_org_id:String              = INS00836037\n",
      "lvl2_org_nm:String              = CALIFORNIA RETINA ASSOCIATES\n",
      "lvl2_dba_nm:String              = null\n",
      "lvl2_cot_classification:String  = CORPORATE PARENT\n",
      "lvl2_cot_facility_type:String   = CORPORATE OWNER\n",
      "lvl2_cot_specialty:String       = null\n",
      "lvl2_dea:String                 = null\n",
      "lvl2_flg_340b:String            = null\n",
      "lvl2_soc_flg_340b:String        = null\n",
      "lvl2_soc_final_cls:String       = null\n",
      "lvl2_soc_final_grp_desc:String  = null\n",
      "lvl2_soc_final_grp_cd:String    = null\n",
      "lvl2_soc_340b_strt_dt:Timestamp = null\n",
      "lvl2_soc_340b_end_dt:Timestamp  = null\n",
      "lvl3_org_id:String              = INS00836037\n",
      "lvl3_org_nm:String              = CALIFORNIA RETINA ASSOCIATES\n",
      "lvl3_dba_nm:String              = null\n",
      "lvl3_cot_classification:String  = CORPORATE PARENT\n",
      "lvl3_cot_facility_type:String   = CORPORATE OWNER\n",
      "lvl3_cot_specialty:String       = null\n",
      "lvl3_dea:String                 = null\n",
      "lvl3_flg_340b:String            = null\n",
      "lvl3_soc_flg_340b:String        = null\n",
      "lvl3_soc_final_cls:String       = null\n",
      "lvl3_soc_final_grp_desc:String  = null\n",
      "lvl3_soc_final_grp_cd:String    = null\n",
      "lvl3_soc_340b_strt_dt:Timestamp = null\n",
      "lvl3_soc_340b_end_dt:Timestamp  = null\n",
      "lvl4_org_id:String              = null\n",
      "lvl4_org_nm:String              = null\n",
      "lvl4_dba_nm:String              = null\n",
      "lvl4_cot_classification:String  = null\n",
      "lvl4_cot_facility_type:String   = null\n",
      "lvl4_cot_specialty:String       = null\n",
      "lvl4_dea:String                 = null\n",
      "lvl4_flg_340b:String            = null\n",
      "lvl4_soc_flg_340b:String        = null\n",
      "lvl4_soc_final_cls:String       = null\n",
      "lvl4_soc_final_grp_desc:String  = null\n",
      "lvl4_soc_final_grp_cd:String    = null\n",
      "lvl4_soc_340b_strt_dt:Timestamp = null\n",
      "lvl4_soc_340b_end_dt:Timestamp  = null\n",
      "affl_typ_flg:String             = PRIMARY\n",
      "ld_tm:Timestamp                 = 2017-01-22 23:33:06.307777\n"
     ]
    }
   ],
   "source": [
    "a.where(a.fld_frc_cd == \"HER2\").where(a.affl_typ_flg == \"PRIMARY\").peek()"
   ]
  },
  {
   "cell_type": "code",
   "execution_count": 10,
   "metadata": {
    "collapsed": false
   },
   "outputs": [
    {
     "name": "stdout",
     "output_type": "stream",
     "text": [
      "mdm_key:String                  = 2308108\n",
      "fld_frc_cd:String               = HER2\n",
      "lvl1_org_id:String              = INS00026501\n",
      "lvl1_org_nm:String              = LOS ANGELES CANCER NETWORK\n",
      "lvl1_dba_nm:String              = null\n",
      "lvl1_physical_addr_1:String     = 201 S ALVARADO ST\n",
      "lvl1_physical_addr_2:String     = STE 110\n",
      "lvl1_physical_city:String       = LOS ANGELES\n",
      "lvl1_physical_state:String      = CA\n",
      "lvl1_physical_zip:String        = 90057-2394\n",
      "lvl1_cot_classification:String  = OUTPATIENT CENTER\n",
      "lvl1_cot_facility_type:String   = MEDICAL GROUP\n",
      "lvl1_cot_specialty:String       = ONCOLOGY\n",
      "lvl1_teaching_hosp:String       = null\n",
      "lvl1_resident_program:String    = null\n",
      "lvl1_hin:String                 = SKLYTAY00CLHH\n",
      "lvl1_dea:String                 = null\n",
      "lvl1_formulary:String           = null\n",
      "lvl1_status_indicator:String    = A\n",
      "lvl1_flg_340b:String            = null\n",
      "lvl1_soc_flg_340b:String        = 0\n",
      "lvl1_soc_final_cls:String       = Clinic_Contracted\n",
      "lvl1_soc_final_grp_desc:String  = B&BClinic\n",
      "lvl1_soc_final_grp_cd:String    = 2\n",
      "lvl1_soc_340b_strt_dt:Timestamp = null\n",
      "lvl1_soc_340b_end_dt:Timestamp  = null\n",
      "lvl2_org_id:String              = INS00833352\n",
      "lvl2_org_nm:String              = LOS ANGELES CANCER NETWORK\n",
      "lvl2_dba_nm:String              = null\n",
      "lvl2_cot_classification:String  = CORPORATE PARENT\n",
      "lvl2_cot_facility_type:String   = CORPORATE OWNER\n",
      "lvl2_cot_specialty:String       = null\n",
      "lvl2_dea:String                 = null\n",
      "lvl2_flg_340b:String            = null\n",
      "lvl2_soc_flg_340b:String        = null\n",
      "lvl2_soc_final_cls:String       = null\n",
      "lvl2_soc_final_grp_desc:String  = null\n",
      "lvl2_soc_final_grp_cd:String    = null\n",
      "lvl2_soc_340b_strt_dt:Timestamp = null\n",
      "lvl2_soc_340b_end_dt:Timestamp  = null\n",
      "lvl3_org_id:String              = INS00833352\n",
      "lvl3_org_nm:String              = LOS ANGELES CANCER NETWORK\n",
      "lvl3_dba_nm:String              = null\n",
      "lvl3_cot_classification:String  = CORPORATE PARENT\n",
      "lvl3_cot_facility_type:String   = CORPORATE OWNER\n",
      "lvl3_cot_specialty:String       = null\n",
      "lvl3_dea:String                 = null\n",
      "lvl3_flg_340b:String            = null\n",
      "lvl3_soc_flg_340b:String        = null\n",
      "lvl3_soc_final_cls:String       = null\n",
      "lvl3_soc_final_grp_desc:String  = null\n",
      "lvl3_soc_final_grp_cd:String    = null\n",
      "lvl3_soc_340b_strt_dt:Timestamp = null\n",
      "lvl3_soc_340b_end_dt:Timestamp  = null\n",
      "lvl4_org_id:String              = null\n",
      "lvl4_org_nm:String              = null\n",
      "lvl4_dba_nm:String              = null\n",
      "lvl4_cot_classification:String  = null\n",
      "lvl4_cot_facility_type:String   = null\n",
      "lvl4_cot_specialty:String       = null\n",
      "lvl4_dea:String                 = null\n",
      "lvl4_flg_340b:String            = null\n",
      "lvl4_soc_flg_340b:String        = null\n",
      "lvl4_soc_final_cls:String       = null\n",
      "lvl4_soc_final_grp_desc:String  = null\n",
      "lvl4_soc_final_grp_cd:String    = null\n",
      "lvl4_soc_340b_strt_dt:Timestamp = null\n",
      "lvl4_soc_340b_end_dt:Timestamp  = null\n",
      "affl_typ_flg:String             = SECONDARY\n",
      "ld_tm:Timestamp                 = 2017-01-22 23:33:06.307777\n"
     ]
    }
   ],
   "source": [
    "a.where(a.fld_frc_cd == \"HER2\").where(a.affl_typ_flg == \"SECONDARY\").peek()"
   ]
  },
  {
   "cell_type": "code",
   "execution_count": 7,
   "metadata": {
    "collapsed": false
   },
   "outputs": [
    {
     "data": {
      "text/plain": [
       "76929"
      ]
     },
     "execution_count": 7,
     "metadata": {},
     "output_type": "execute_result"
    }
   ],
   "source": [
    "a.where(a.fld_frc_cd == \"HER2\").where(a.lvl1_org_id != \"UNKNOWN\").count()"
   ]
  },
  {
   "cell_type": "code",
   "execution_count": 12,
   "metadata": {
    "collapsed": false
   },
   "outputs": [
    {
     "data": {
      "text/plain": [
       "43506"
      ]
     },
     "execution_count": 12,
     "metadata": {},
     "output_type": "execute_result"
    }
   ],
   "source": [
    "a.where(a.fld_frc_cd == \"HER2\").where(a.affl_typ_flg == \"PRIMARY\").select(\"mdm_key\").distinct().count()"
   ]
  },
  {
   "cell_type": "code",
   "execution_count": 15,
   "metadata": {
    "collapsed": false
   },
   "outputs": [
    {
     "name": "stdout",
     "output_type": "stream",
     "text": [
      "+--------+---+\n",
      "| mdm_key|  N|\n",
      "+--------+---+\n",
      "|  332923|  2|\n",
      "|19988607|  2|\n",
      "+--------+---+\n",
      "\n"
     ]
    }
   ],
   "source": [
    "a.where(a.fld_frc_cd == \"HER2\").where(a.affl_typ_flg == \"PRIMARY\").groupBy(\"mdm_key\").agg(count(lit(1)).alias(\"N\")).where(col(\"N\") > 1).show()"
   ]
  },
  {
   "cell_type": "code",
   "execution_count": 17,
   "metadata": {
    "collapsed": false
   },
   "outputs": [
    {
     "name": "stdout",
     "output_type": "stream",
     "text": [
      "mdm_key:String                  = 332923\n",
      "fld_frc_cd:String               = HER2\n",
      "lvl1_org_id:String              = INS00006472\n",
      "lvl1_org_nm:String              = UAB HOSPITAL BIRMINGHAM\n",
      "lvl1_dba_nm:String              = null\n",
      "lvl1_physical_addr_1:String     = 1802 6TH AVE S\n",
      "lvl1_physical_addr_2:String     = null\n",
      "lvl1_physical_city:String       = BIRMINGHAM\n",
      "lvl1_physical_state:String      = AL\n",
      "lvl1_physical_zip:String        = 35233-1932\n",
      "lvl1_cot_classification:String  = HOSPITAL\n",
      "lvl1_cot_facility_type:String   = ACUTE CARE HOSPITAL\n",
      "lvl1_cot_specialty:String       = GENERAL ACUTE\n",
      "lvl1_teaching_hosp:String       = Y\n",
      "lvl1_resident_program:String    = null\n",
      "lvl1_hin:String                 = 3E1DBNT00SYHH\n",
      "lvl1_dea:String                 = AU4362062\n",
      "lvl1_formulary:String           = YES - CLOSED\n",
      "lvl1_status_indicator:String    = A\n",
      "lvl1_flg_340b:String            = YES\n",
      "lvl1_soc_flg_340b:String        = 1\n",
      "lvl1_soc_final_cls:String       = NonFederal Hospital_Academic\n",
      "lvl1_soc_final_grp_desc:String  = Hospital\n",
      "lvl1_soc_final_grp_cd:String    = 1\n",
      "lvl1_soc_340b_strt_dt:Timestamp = 1992-12-01 00:00:00.0\n",
      "lvl1_soc_340b_end_dt:Timestamp  = 9999-01-01 00:00:00.0\n",
      "lvl2_org_id:String              = INS00000432\n",
      "lvl2_org_nm:String              = UAB HEALTH SYSTEM\n",
      "lvl2_dba_nm:String              = null\n",
      "lvl2_cot_classification:String  = CORPORATE PARENT\n",
      "lvl2_cot_facility_type:String   = INTEGRATED DELIVERY NETWORK (IDN)\n",
      "lvl2_cot_specialty:String       = null\n",
      "lvl2_dea:String                 = null\n",
      "lvl2_flg_340b:String            = null\n",
      "lvl2_soc_flg_340b:String        = null\n",
      "lvl2_soc_final_cls:String       = null\n",
      "lvl2_soc_final_grp_desc:String  = null\n",
      "lvl2_soc_final_grp_cd:String    = null\n",
      "lvl2_soc_340b_strt_dt:Timestamp = null\n",
      "lvl2_soc_340b_end_dt:Timestamp  = null\n",
      "lvl3_org_id:String              = INS00000432\n",
      "lvl3_org_nm:String              = UAB HEALTH SYSTEM\n",
      "lvl3_dba_nm:String              = null\n",
      "lvl3_cot_classification:String  = CORPORATE PARENT\n",
      "lvl3_cot_facility_type:String   = INTEGRATED DELIVERY NETWORK (IDN)\n",
      "lvl3_cot_specialty:String       = null\n",
      "lvl3_dea:String                 = null\n",
      "lvl3_flg_340b:String            = null\n",
      "lvl3_soc_flg_340b:String        = null\n",
      "lvl3_soc_final_cls:String       = null\n",
      "lvl3_soc_final_grp_desc:String  = null\n",
      "lvl3_soc_final_grp_cd:String    = null\n",
      "lvl3_soc_340b_strt_dt:Timestamp = null\n",
      "lvl3_soc_340b_end_dt:Timestamp  = null\n",
      "lvl4_org_id:String              = INS00000039\n",
      "lvl4_org_nm:String              = VIZIENT, INC\n",
      "lvl4_dba_nm:String              = null\n",
      "lvl4_cot_classification:String  = BUYING ORGANIZATION\n",
      "lvl4_cot_facility_type:String   = GROUP PURCHASING ORGANIZATION (GPO)\n",
      "lvl4_cot_specialty:String       = null\n",
      "lvl4_dea:String                 = null\n",
      "lvl4_flg_340b:String            = null\n",
      "lvl4_soc_flg_340b:String        = null\n",
      "lvl4_soc_final_cls:String       = null\n",
      "lvl4_soc_final_grp_desc:String  = null\n",
      "lvl4_soc_final_grp_cd:String    = null\n",
      "lvl4_soc_340b_strt_dt:Timestamp = null\n",
      "lvl4_soc_340b_end_dt:Timestamp  = null\n",
      "affl_typ_flg:String             = PRIMARY\n",
      "ld_tm:Timestamp                 = 2017-01-22 23:33:06.307777\n"
     ]
    }
   ],
   "source": [
    "a.where(a.fld_frc_cd == \"HER2\").where(a.affl_typ_flg == \"PRIMARY\").where(a.mdm_key == \"332923\").peek()"
   ]
  },
  {
   "cell_type": "code",
   "execution_count": 18,
   "metadata": {
    "collapsed": false
   },
   "outputs": [
    {
     "name": "stdout",
     "output_type": "stream",
     "text": [
      "mdm_key:String                  = 332923\n",
      "fld_frc_cd:String               = HER2\n",
      "lvl1_org_id:String              = INS00683596\n",
      "lvl1_org_nm:String              = LEVINE CANCER INSTITUTE\n",
      "lvl1_dba_nm:String              = null\n",
      "lvl1_physical_addr_1:String     = 1021 MOREHEAD MEDICAL DR\n",
      "lvl1_physical_addr_2:String     = null\n",
      "lvl1_physical_city:String       = CHARLOTTE\n",
      "lvl1_physical_state:String      = NC\n",
      "lvl1_physical_zip:String        = 28204-2990\n",
      "lvl1_cot_classification:String  = OUTPATIENT CENTER\n",
      "lvl1_cot_facility_type:String   = MEDICAL GROUP\n",
      "lvl1_cot_specialty:String       = ONCOLOGY\n",
      "lvl1_teaching_hosp:String       = null\n",
      "lvl1_resident_program:String    = null\n",
      "lvl1_hin:String                 = H959PYR00CLHH\n",
      "lvl1_dea:String                 = FB4073728\n",
      "lvl1_formulary:String           = YES - CLOSED\n",
      "lvl1_status_indicator:String    = A\n",
      "lvl1_flg_340b:String            = YES\n",
      "lvl1_soc_flg_340b:String        = 1\n",
      "lvl1_soc_final_cls:String       = NonFederal Hospital\n",
      "lvl1_soc_final_grp_desc:String  = Hospital\n",
      "lvl1_soc_final_grp_cd:String    = 1\n",
      "lvl1_soc_340b_strt_dt:Timestamp = 2012-10-01 00:00:00.0\n",
      "lvl1_soc_340b_end_dt:Timestamp  = 9999-01-01 00:00:00.0\n",
      "lvl2_org_id:String              = INS00721901\n",
      "lvl2_org_nm:String              = LEVINE CANCER INSTITUTE\n",
      "lvl2_dba_nm:String              = null\n",
      "lvl2_cot_classification:String  = CORPORATE PARENT\n",
      "lvl2_cot_facility_type:String   = OWNER SUBSIDIARY\n",
      "lvl2_cot_specialty:String       = null\n",
      "lvl2_dea:String                 = FB4073728\n",
      "lvl2_flg_340b:String            = null\n",
      "lvl2_soc_flg_340b:String        = null\n",
      "lvl2_soc_final_cls:String       = null\n",
      "lvl2_soc_final_grp_desc:String  = null\n",
      "lvl2_soc_final_grp_cd:String    = null\n",
      "lvl2_soc_340b_strt_dt:Timestamp = null\n",
      "lvl2_soc_340b_end_dt:Timestamp  = null\n",
      "lvl3_org_id:String              = INS00000108\n",
      "lvl3_org_nm:String              = CAROLINAS HEALTHCARE SYSTEM\n",
      "lvl3_dba_nm:String              = null\n",
      "lvl3_cot_classification:String  = CORPORATE PARENT\n",
      "lvl3_cot_facility_type:String   = INTEGRATED DELIVERY NETWORK (IDN)\n",
      "lvl3_cot_specialty:String       = null\n",
      "lvl3_dea:String                 = null\n",
      "lvl3_flg_340b:String            = null\n",
      "lvl3_soc_flg_340b:String        = null\n",
      "lvl3_soc_final_cls:String       = null\n",
      "lvl3_soc_final_grp_desc:String  = null\n",
      "lvl3_soc_final_grp_cd:String    = null\n",
      "lvl3_soc_340b_strt_dt:Timestamp = null\n",
      "lvl3_soc_340b_end_dt:Timestamp  = null\n",
      "lvl4_org_id:String              = INS00543576\n",
      "lvl4_org_nm:String              = CAROLINAS SHARED SERVICES\n",
      "lvl4_dba_nm:String              = null\n",
      "lvl4_cot_classification:String  = BUYING ORGANIZATION\n",
      "lvl4_cot_facility_type:String   = GROUP PURCHASING ORGANIZATION (GPO)\n",
      "lvl4_cot_specialty:String       = null\n",
      "lvl4_dea:String                 = null\n",
      "lvl4_flg_340b:String            = null\n",
      "lvl4_soc_flg_340b:String        = null\n",
      "lvl4_soc_final_cls:String       = null\n",
      "lvl4_soc_final_grp_desc:String  = null\n",
      "lvl4_soc_final_grp_cd:String    = null\n",
      "lvl4_soc_340b_strt_dt:Timestamp = null\n",
      "lvl4_soc_340b_end_dt:Timestamp  = null\n",
      "affl_typ_flg:String             = PRIMARY\n",
      "ld_tm:Timestamp                 = 2017-01-22 23:33:06.307777\n"
     ]
    }
   ],
   "source": [
    "a.where(a.fld_frc_cd == \"HER2\").where(a.affl_typ_flg == \"PRIMARY\").where(a.mdm_key == \"332923\").peek(2)"
   ]
  }
 ],
 "metadata": {
  "kernelspec": {
   "display_name": "Python 2",
   "language": "python",
   "name": "python2"
  },
  "language_info": {
   "codemirror_mode": {
    "name": "ipython",
    "version": 2
   },
   "file_extension": ".py",
   "mimetype": "text/x-python",
   "name": "python",
   "nbconvert_exporter": "python",
   "pygments_lexer": "ipython2",
   "version": "2.7.13"
  }
 },
 "nbformat": 4,
 "nbformat_minor": 2
}
